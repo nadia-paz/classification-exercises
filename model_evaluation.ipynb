{
 "cells": [
  {
   "cell_type": "markdown",
   "id": "20b5c3a8",
   "metadata": {},
   "source": [
    "2. Given the following confusion matrix, evaluate (by hand) the model's performance."
   ]
  },
  {
   "cell_type": "markdown",
   "id": "7068beef",
   "metadata": {},
   "source": [
    "|               | pred dog   | pred cat   |\n",
    "|:------------  |-----------:|-----------:|\n",
    "| actual dog    |         46 |         7  |\n",
    "| actual cat    |         13 |         34 |\n"
   ]
  },
  {
   "cell_type": "markdown",
   "id": "3473a478",
   "metadata": {},
   "source": [
    "- In the context of this problem, what is a false positive?\n",
    "- In the context of this problem, what is a false negative?\n",
    "- How would you describe this model?"
   ]
  },
  {
   "cell_type": "markdown",
   "id": "33f7f142",
   "metadata": {},
   "source": [
    "*Positive:* is a dog\n",
    "\n",
    "*Negative:* it is a cat\n",
    "\n",
    "*TP:* We predicted it is a dog, and it's a dog - 46\n",
    "\n",
    "*FP:* We predicted it is a dog, but it is a cat - 13\n",
    "\n",
    "*TN:* We predicted it is a cat, and it is a cat - 34\n",
    "\n",
    "*FN:* We predicted it is a cat, but it is a dog - 7"
   ]
  },
  {
   "cell_type": "markdown",
   "id": "3fc898fc",
   "metadata": {},
   "source": [
    "Model performance:\n",
    "\n",
    "$ \\frac{(TP + TN)}{(FP + FN + TP + TN)}$"
   ]
  },
  {
   "cell_type": "code",
   "execution_count": 2,
   "id": "f9e65e41",
   "metadata": {
    "scrolled": true
   },
   "outputs": [
    {
     "data": {
      "text/plain": [
       "0.8"
      ]
     },
     "execution_count": 2,
     "metadata": {},
     "output_type": "execute_result"
    }
   ],
   "source": [
    "(46 + 34) / (46 + 13 + 34 + 7)"
   ]
  },
  {
   "cell_type": "markdown",
   "id": "2a923c25",
   "metadata": {},
   "source": [
    "Recall:\n",
    "\n",
    "$\\frac{TP}{TP+FN}$"
   ]
  },
  {
   "cell_type": "code",
   "execution_count": 6,
   "id": "81f1b4da",
   "metadata": {},
   "outputs": [
    {
     "data": {
      "text/plain": [
       "0.8679245283018868"
      ]
     },
     "execution_count": 6,
     "metadata": {},
     "output_type": "execute_result"
    }
   ],
   "source": [
    "46 / (46 + 7)"
   ]
  },
  {
   "cell_type": "markdown",
   "id": "01ae01cc",
   "metadata": {},
   "source": [
    "Precision\n",
    "\n",
    "$\\frac{TP}{TP+FP}$"
   ]
  },
  {
   "cell_type": "code",
   "execution_count": 7,
   "id": "bbf56ac7",
   "metadata": {},
   "outputs": [
    {
     "data": {
      "text/plain": [
       "0.7796610169491526"
      ]
     },
     "execution_count": 7,
     "metadata": {},
     "output_type": "execute_result"
    }
   ],
   "source": [
    "46 /(46 + 13)"
   ]
  },
  {
   "cell_type": "markdown",
   "id": "381d6a44",
   "metadata": {},
   "source": [
    "The model did well"
   ]
  },
  {
   "cell_type": "code",
   "execution_count": 1,
   "id": "91b831ab",
   "metadata": {},
   "outputs": [],
   "source": [
    "import pandas as pd"
   ]
  },
  {
   "cell_type": "markdown",
   "id": "c807738b",
   "metadata": {},
   "source": [
    "3. You are working as a datascientist working for Codeup Cody Creator (C3 for short), a rubber-duck manufacturing plant.\n",
    "\n",
    "Unfortunately, some of the rubber ducks that are produced will have defects. Your team has built several models that try to predict those defects.\n",
    "\n",
    "Use the predictions dataset and pandas to help answer the following questions:\n",
    "\n",
    "- An internal team wants to investigate the cause of the manufacturing defects. They tell you that they want to identify as many of the ducks that have a defect as possible. Which evaluation metric would be appropriate here? Which model would be the best fit for this use case?\n",
    "- Recently several stories in the local news have come out highlighting customers who received a rubber duck with a defect, and portraying C3 in a bad light. The PR team has decided to launch a program that gives customers with a defective duck a vacation to Hawaii. They need you to predict which ducks will have defects, but tell you the really don't want to accidentally give out a vacation package when the duck really doesn't have a defect. Which evaluation metric would be appropriate here? Which model would be the best fit for this use case?"
   ]
  },
  {
   "cell_type": "code",
   "execution_count": 2,
   "id": "2d6450d8",
   "metadata": {},
   "outputs": [],
   "source": [
    "c3_df = pd.read_csv('https://ds.codeup.com/data/c3.csv')"
   ]
  },
  {
   "cell_type": "code",
   "execution_count": 6,
   "id": "ceb6143f",
   "metadata": {},
   "outputs": [
    {
     "data": {
      "text/html": [
       "<div>\n",
       "<style scoped>\n",
       "    .dataframe tbody tr th:only-of-type {\n",
       "        vertical-align: middle;\n",
       "    }\n",
       "\n",
       "    .dataframe tbody tr th {\n",
       "        vertical-align: top;\n",
       "    }\n",
       "\n",
       "    .dataframe thead th {\n",
       "        text-align: right;\n",
       "    }\n",
       "</style>\n",
       "<table border=\"1\" class=\"dataframe\">\n",
       "  <thead>\n",
       "    <tr style=\"text-align: right;\">\n",
       "      <th></th>\n",
       "      <th>actual</th>\n",
       "      <th>model1</th>\n",
       "      <th>model2</th>\n",
       "      <th>model3</th>\n",
       "    </tr>\n",
       "  </thead>\n",
       "  <tbody>\n",
       "    <tr>\n",
       "      <th>0</th>\n",
       "      <td>No Defect</td>\n",
       "      <td>No Defect</td>\n",
       "      <td>Defect</td>\n",
       "      <td>No Defect</td>\n",
       "    </tr>\n",
       "    <tr>\n",
       "      <th>1</th>\n",
       "      <td>No Defect</td>\n",
       "      <td>No Defect</td>\n",
       "      <td>Defect</td>\n",
       "      <td>Defect</td>\n",
       "    </tr>\n",
       "    <tr>\n",
       "      <th>2</th>\n",
       "      <td>No Defect</td>\n",
       "      <td>No Defect</td>\n",
       "      <td>Defect</td>\n",
       "      <td>No Defect</td>\n",
       "    </tr>\n",
       "    <tr>\n",
       "      <th>3</th>\n",
       "      <td>No Defect</td>\n",
       "      <td>Defect</td>\n",
       "      <td>Defect</td>\n",
       "      <td>Defect</td>\n",
       "    </tr>\n",
       "    <tr>\n",
       "      <th>4</th>\n",
       "      <td>No Defect</td>\n",
       "      <td>No Defect</td>\n",
       "      <td>Defect</td>\n",
       "      <td>No Defect</td>\n",
       "    </tr>\n",
       "    <tr>\n",
       "      <th>...</th>\n",
       "      <td>...</td>\n",
       "      <td>...</td>\n",
       "      <td>...</td>\n",
       "      <td>...</td>\n",
       "    </tr>\n",
       "    <tr>\n",
       "      <th>195</th>\n",
       "      <td>No Defect</td>\n",
       "      <td>No Defect</td>\n",
       "      <td>Defect</td>\n",
       "      <td>Defect</td>\n",
       "    </tr>\n",
       "    <tr>\n",
       "      <th>196</th>\n",
       "      <td>Defect</td>\n",
       "      <td>Defect</td>\n",
       "      <td>No Defect</td>\n",
       "      <td>No Defect</td>\n",
       "    </tr>\n",
       "    <tr>\n",
       "      <th>197</th>\n",
       "      <td>No Defect</td>\n",
       "      <td>No Defect</td>\n",
       "      <td>No Defect</td>\n",
       "      <td>No Defect</td>\n",
       "    </tr>\n",
       "    <tr>\n",
       "      <th>198</th>\n",
       "      <td>No Defect</td>\n",
       "      <td>No Defect</td>\n",
       "      <td>Defect</td>\n",
       "      <td>Defect</td>\n",
       "    </tr>\n",
       "    <tr>\n",
       "      <th>199</th>\n",
       "      <td>No Defect</td>\n",
       "      <td>No Defect</td>\n",
       "      <td>No Defect</td>\n",
       "      <td>Defect</td>\n",
       "    </tr>\n",
       "  </tbody>\n",
       "</table>\n",
       "<p>200 rows × 4 columns</p>\n",
       "</div>"
      ],
      "text/plain": [
       "        actual     model1     model2     model3\n",
       "0    No Defect  No Defect     Defect  No Defect\n",
       "1    No Defect  No Defect     Defect     Defect\n",
       "2    No Defect  No Defect     Defect  No Defect\n",
       "3    No Defect     Defect     Defect     Defect\n",
       "4    No Defect  No Defect     Defect  No Defect\n",
       "..         ...        ...        ...        ...\n",
       "195  No Defect  No Defect     Defect     Defect\n",
       "196     Defect     Defect  No Defect  No Defect\n",
       "197  No Defect  No Defect  No Defect  No Defect\n",
       "198  No Defect  No Defect     Defect     Defect\n",
       "199  No Defect  No Defect  No Defect     Defect\n",
       "\n",
       "[200 rows x 4 columns]"
      ]
     },
     "execution_count": 6,
     "metadata": {},
     "output_type": "execute_result"
    }
   ],
   "source": [
    "c3_df"
   ]
  },
  {
   "cell_type": "code",
   "execution_count": 7,
   "id": "a3d6b611",
   "metadata": {},
   "outputs": [],
   "source": [
    "#An internal team wants to investigate the cause of the manufacturing defects. \n",
    "#They tell you that they want to identify as many of the ducks that have a defect as possible. \n",
    "#Which evaluation metric would be appropriate here? Which model would be the best fit for this use case?"
   ]
  },
  {
   "cell_type": "markdown",
   "id": "afe4e12f",
   "metadata": {},
   "source": [
    "*Positive:* Duck has a defect\n",
    "\n",
    "*Negative:* No defect\n",
    "\n",
    "*TP:* The model predicted that the duck has a defect and it does\n",
    "\n",
    "*FP:* The model predicted that the duck has a defect but it doesn't\n",
    "\n",
    "*TN:* The model predicted that the duck has no defect and it doesn't\n",
    "\n",
    "*FN:* The model predicted that the duck has but defect but it does has a defect"
   ]
  },
  {
   "cell_type": "markdown",
   "id": "1f9fee9a",
   "metadata": {},
   "source": [
    "1. *Cost of the FP:* The cost of the rubber duck max\n",
    "2. *Cost of the FN:* The cost of the rubber duck + transportation + customer service\n",
    "\n",
    "We would like to avoid <u>false negative results</u>, when we predict that the rubber duck has no defect, but it actually does.\n",
    "\n",
    "Model evaluation: **recall** $\\frac{TP}{TP + FN}$"
   ]
  },
  {
   "cell_type": "code",
   "execution_count": 3,
   "id": "a9f1464e",
   "metadata": {},
   "outputs": [],
   "source": [
    "defect = c3_df[c3_df.actual == 'Defect']"
   ]
  },
  {
   "cell_type": "code",
   "execution_count": 9,
   "id": "76cd432e",
   "metadata": {},
   "outputs": [
    {
     "data": {
      "text/html": [
       "<div>\n",
       "<style scoped>\n",
       "    .dataframe tbody tr th:only-of-type {\n",
       "        vertical-align: middle;\n",
       "    }\n",
       "\n",
       "    .dataframe tbody tr th {\n",
       "        vertical-align: top;\n",
       "    }\n",
       "\n",
       "    .dataframe thead th {\n",
       "        text-align: right;\n",
       "    }\n",
       "</style>\n",
       "<table border=\"1\" class=\"dataframe\">\n",
       "  <thead>\n",
       "    <tr style=\"text-align: right;\">\n",
       "      <th></th>\n",
       "      <th>actual</th>\n",
       "      <th>model1</th>\n",
       "      <th>model2</th>\n",
       "      <th>model3</th>\n",
       "    </tr>\n",
       "  </thead>\n",
       "  <tbody>\n",
       "    <tr>\n",
       "      <th>13</th>\n",
       "      <td>Defect</td>\n",
       "      <td>No Defect</td>\n",
       "      <td>Defect</td>\n",
       "      <td>Defect</td>\n",
       "    </tr>\n",
       "    <tr>\n",
       "      <th>30</th>\n",
       "      <td>Defect</td>\n",
       "      <td>Defect</td>\n",
       "      <td>No Defect</td>\n",
       "      <td>Defect</td>\n",
       "    </tr>\n",
       "    <tr>\n",
       "      <th>65</th>\n",
       "      <td>Defect</td>\n",
       "      <td>Defect</td>\n",
       "      <td>Defect</td>\n",
       "      <td>Defect</td>\n",
       "    </tr>\n",
       "    <tr>\n",
       "      <th>70</th>\n",
       "      <td>Defect</td>\n",
       "      <td>Defect</td>\n",
       "      <td>Defect</td>\n",
       "      <td>Defect</td>\n",
       "    </tr>\n",
       "    <tr>\n",
       "      <th>74</th>\n",
       "      <td>Defect</td>\n",
       "      <td>No Defect</td>\n",
       "      <td>No Defect</td>\n",
       "      <td>Defect</td>\n",
       "    </tr>\n",
       "  </tbody>\n",
       "</table>\n",
       "</div>"
      ],
      "text/plain": [
       "    actual     model1     model2  model3\n",
       "13  Defect  No Defect     Defect  Defect\n",
       "30  Defect     Defect  No Defect  Defect\n",
       "65  Defect     Defect     Defect  Defect\n",
       "70  Defect     Defect     Defect  Defect\n",
       "74  Defect  No Defect  No Defect  Defect"
      ]
     },
     "execution_count": 9,
     "metadata": {},
     "output_type": "execute_result"
    }
   ],
   "source": [
    "defect.head()"
   ]
  },
  {
   "cell_type": "code",
   "execution_count": 4,
   "id": "c7c172f6",
   "metadata": {
    "scrolled": true
   },
   "outputs": [
    {
     "name": "stdout",
     "output_type": "stream",
     "text": [
      "Model 1\n",
      "Recall score is                  0.5\n",
      "\n",
      "\n",
      "Model 2\n",
      "Recall score is               0.5625\n",
      "\n",
      "\n",
      "Model 3\n",
      "Recall score is               0.8125\n",
      "\n",
      "\n",
      "Best model is Model 3\n"
     ]
    }
   ],
   "source": [
    "for i in range(1, 4):\n",
    "    best = 0\n",
    "    best_index = 0\n",
    "    print(f'Model {i}')\n",
    "    recall_score = (defect.actual == defect['model' + str(i)]).mean()\n",
    "    print(f'Recall score is {recall_score: >20}\\n\\n')\n",
    "    \n",
    "    if recall_score > best:\n",
    "        best = recall_score\n",
    "        best_index = i\n",
    "    \n",
    "print(f'Best model is Model {best_index}')"
   ]
  },
  {
   "cell_type": "markdown",
   "id": "e68b9562",
   "metadata": {},
   "source": []
  },
  {
   "cell_type": "code",
   "execution_count": 42,
   "id": "02361128",
   "metadata": {
    "scrolled": true
   },
   "outputs": [
    {
     "name": "stdout",
     "output_type": "stream",
     "text": [
      "              precision    recall  f1-score   support\n",
      "\n",
      "      Defect       0.80      0.50      0.62        16\n",
      "   No Defect       0.96      0.99      0.97       184\n",
      "\n",
      "    accuracy                           0.95       200\n",
      "   macro avg       0.88      0.74      0.79       200\n",
      "weighted avg       0.95      0.95      0.94       200\n",
      "\n"
     ]
    }
   ],
   "source": [
    "from sklearn.metrics import classification_report\n",
    "\n",
    "print(classification_report(c3_df.actual, c3_df.model1))"
   ]
  },
  {
   "cell_type": "code",
   "execution_count": 43,
   "id": "ddc591da",
   "metadata": {},
   "outputs": [
    {
     "name": "stdout",
     "output_type": "stream",
     "text": [
      "              precision    recall  f1-score   support\n",
      "\n",
      "      Defect       0.10      0.56      0.17        16\n",
      "   No Defect       0.94      0.56      0.70       184\n",
      "\n",
      "    accuracy                           0.56       200\n",
      "   macro avg       0.52      0.56      0.44       200\n",
      "weighted avg       0.87      0.56      0.66       200\n",
      "\n"
     ]
    }
   ],
   "source": [
    "print(classification_report(c3_df.actual, c3_df.model2))"
   ]
  },
  {
   "cell_type": "code",
   "execution_count": 44,
   "id": "51120a84",
   "metadata": {},
   "outputs": [
    {
     "name": "stdout",
     "output_type": "stream",
     "text": [
      "              precision    recall  f1-score   support\n",
      "\n",
      "      Defect       0.13      0.81      0.23        16\n",
      "   No Defect       0.97      0.53      0.69       184\n",
      "\n",
      "    accuracy                           0.56       200\n",
      "   macro avg       0.55      0.67      0.46       200\n",
      "weighted avg       0.90      0.56      0.65       200\n",
      "\n"
     ]
    }
   ],
   "source": [
    "print(classification_report(c3_df.actual, c3_df.model3))"
   ]
  },
  {
   "cell_type": "markdown",
   "id": "1155ca23",
   "metadata": {},
   "source": [
    "4. **You are working as a data scientist for Gives You Paws ™, a subscription based service that shows you cute pictures of dogs or cats (or both for an additional fee).**\n",
    "\n",
    "At Gives You Paws, anyone can upload pictures of their cats or dogs. The photos are then put through a two step process. First an automated algorithm tags pictures as either a cat or a dog (Phase I). Next, the photos that have been initially identified are put through another round of review, possibly with some human oversight, before being presented to the users (Phase II).\n",
    "\n",
    "Several models have already been developed with the data.\n",
    "\n",
    "Given this dataset, use pandas to create a baseline model (i.e. a model that just predicts the most common class) and answer the following questions:\n",
    "\n",
    "- a. In terms of accuracy, how do the various models compare to the baseline model? Are any of the models better than the baseline?\n",
    "- b. Suppose you are working on a team that solely deals with dog pictures. Which of these models would you recommend?\n",
    "- c. Suppose you are working on a team that solely deals with cat pictures. Which of these models would you recommend?"
   ]
  },
  {
   "cell_type": "code",
   "execution_count": 30,
   "id": "e39d19a0",
   "metadata": {},
   "outputs": [],
   "source": [
    "paws = pd.read_csv('gives_you_paws.csv')"
   ]
  },
  {
   "cell_type": "code",
   "execution_count": 31,
   "id": "ce7a8a93",
   "metadata": {},
   "outputs": [
    {
     "data": {
      "text/html": [
       "<div>\n",
       "<style scoped>\n",
       "    .dataframe tbody tr th:only-of-type {\n",
       "        vertical-align: middle;\n",
       "    }\n",
       "\n",
       "    .dataframe tbody tr th {\n",
       "        vertical-align: top;\n",
       "    }\n",
       "\n",
       "    .dataframe thead th {\n",
       "        text-align: right;\n",
       "    }\n",
       "</style>\n",
       "<table border=\"1\" class=\"dataframe\">\n",
       "  <thead>\n",
       "    <tr style=\"text-align: right;\">\n",
       "      <th></th>\n",
       "      <th>actual</th>\n",
       "      <th>model1</th>\n",
       "      <th>model2</th>\n",
       "      <th>model3</th>\n",
       "      <th>model4</th>\n",
       "    </tr>\n",
       "  </thead>\n",
       "  <tbody>\n",
       "    <tr>\n",
       "      <th>0</th>\n",
       "      <td>cat</td>\n",
       "      <td>cat</td>\n",
       "      <td>dog</td>\n",
       "      <td>cat</td>\n",
       "      <td>dog</td>\n",
       "    </tr>\n",
       "    <tr>\n",
       "      <th>1</th>\n",
       "      <td>dog</td>\n",
       "      <td>dog</td>\n",
       "      <td>cat</td>\n",
       "      <td>cat</td>\n",
       "      <td>dog</td>\n",
       "    </tr>\n",
       "    <tr>\n",
       "      <th>2</th>\n",
       "      <td>dog</td>\n",
       "      <td>cat</td>\n",
       "      <td>cat</td>\n",
       "      <td>cat</td>\n",
       "      <td>dog</td>\n",
       "    </tr>\n",
       "    <tr>\n",
       "      <th>3</th>\n",
       "      <td>dog</td>\n",
       "      <td>dog</td>\n",
       "      <td>dog</td>\n",
       "      <td>cat</td>\n",
       "      <td>dog</td>\n",
       "    </tr>\n",
       "    <tr>\n",
       "      <th>4</th>\n",
       "      <td>cat</td>\n",
       "      <td>cat</td>\n",
       "      <td>cat</td>\n",
       "      <td>dog</td>\n",
       "      <td>dog</td>\n",
       "    </tr>\n",
       "    <tr>\n",
       "      <th>...</th>\n",
       "      <td>...</td>\n",
       "      <td>...</td>\n",
       "      <td>...</td>\n",
       "      <td>...</td>\n",
       "      <td>...</td>\n",
       "    </tr>\n",
       "    <tr>\n",
       "      <th>4995</th>\n",
       "      <td>dog</td>\n",
       "      <td>dog</td>\n",
       "      <td>dog</td>\n",
       "      <td>dog</td>\n",
       "      <td>dog</td>\n",
       "    </tr>\n",
       "    <tr>\n",
       "      <th>4996</th>\n",
       "      <td>dog</td>\n",
       "      <td>dog</td>\n",
       "      <td>cat</td>\n",
       "      <td>cat</td>\n",
       "      <td>dog</td>\n",
       "    </tr>\n",
       "    <tr>\n",
       "      <th>4997</th>\n",
       "      <td>dog</td>\n",
       "      <td>cat</td>\n",
       "      <td>cat</td>\n",
       "      <td>dog</td>\n",
       "      <td>dog</td>\n",
       "    </tr>\n",
       "    <tr>\n",
       "      <th>4998</th>\n",
       "      <td>cat</td>\n",
       "      <td>cat</td>\n",
       "      <td>cat</td>\n",
       "      <td>cat</td>\n",
       "      <td>dog</td>\n",
       "    </tr>\n",
       "    <tr>\n",
       "      <th>4999</th>\n",
       "      <td>dog</td>\n",
       "      <td>dog</td>\n",
       "      <td>dog</td>\n",
       "      <td>dog</td>\n",
       "      <td>dog</td>\n",
       "    </tr>\n",
       "  </tbody>\n",
       "</table>\n",
       "<p>5000 rows × 5 columns</p>\n",
       "</div>"
      ],
      "text/plain": [
       "     actual model1 model2 model3 model4\n",
       "0       cat    cat    dog    cat    dog\n",
       "1       dog    dog    cat    cat    dog\n",
       "2       dog    cat    cat    cat    dog\n",
       "3       dog    dog    dog    cat    dog\n",
       "4       cat    cat    cat    dog    dog\n",
       "...     ...    ...    ...    ...    ...\n",
       "4995    dog    dog    dog    dog    dog\n",
       "4996    dog    dog    cat    cat    dog\n",
       "4997    dog    cat    cat    dog    dog\n",
       "4998    cat    cat    cat    cat    dog\n",
       "4999    dog    dog    dog    dog    dog\n",
       "\n",
       "[5000 rows x 5 columns]"
      ]
     },
     "execution_count": 31,
     "metadata": {},
     "output_type": "execute_result"
    }
   ],
   "source": [
    "paws"
   ]
  },
  {
   "cell_type": "code",
   "execution_count": 36,
   "id": "6124d909",
   "metadata": {},
   "outputs": [],
   "source": [
    "paws['baseline'] = paws.actual.value_counts().idxmax()"
   ]
  },
  {
   "cell_type": "code",
   "execution_count": 38,
   "id": "89c21456",
   "metadata": {},
   "outputs": [
    {
     "data": {
      "text/plain": [
       "array(['dog'], dtype=object)"
      ]
     },
     "execution_count": 38,
     "metadata": {},
     "output_type": "execute_result"
    }
   ],
   "source": [
    "paws.baseline.unique()"
   ]
  },
  {
   "cell_type": "code",
   "execution_count": 39,
   "id": "4bcb969a",
   "metadata": {},
   "outputs": [],
   "source": [
    "#a. In terms of accuracy, how do the various models compare to the baseline model? \n",
    "#Are any of the models better than the baseline?"
   ]
  },
  {
   "cell_type": "code",
   "execution_count": 45,
   "id": "6682257c",
   "metadata": {},
   "outputs": [],
   "source": [
    "baseline_accuracy = (paws.actual == paws.baseline).mean()"
   ]
  },
  {
   "cell_type": "code",
   "execution_count": 46,
   "id": "d0d60db6",
   "metadata": {},
   "outputs": [
    {
     "data": {
      "text/plain": [
       "0.6508"
      ]
     },
     "execution_count": 46,
     "metadata": {},
     "output_type": "execute_result"
    }
   ],
   "source": [
    "baseline_accuracy"
   ]
  },
  {
   "cell_type": "code",
   "execution_count": 51,
   "id": "f2ba60a8",
   "metadata": {},
   "outputs": [],
   "source": [
    "cols = paws.columns[1:-1]"
   ]
  },
  {
   "cell_type": "code",
   "execution_count": 56,
   "id": "b803cee8",
   "metadata": {},
   "outputs": [
    {
     "name": "stdout",
     "output_type": "stream",
     "text": [
      "Model 1 performs better than a baseline. Accuracy is 0.8074\n",
      "\n",
      "Model 2 failed the test. Accuracy is 0.6304\n",
      "\n",
      "Model 3 failed the test. Accuracy is 0.5096\n",
      "\n",
      "Model 4 performs better than a baseline. Accuracy is 0.7426\n",
      "\n"
     ]
    }
   ],
   "source": [
    "i = 1\n",
    "for col in cols:\n",
    "    #print(f'Model {i}')\n",
    "    accuracy = (paws.actual == paws[col]).mean()\n",
    "    if accuracy > baseline_accuracy:\n",
    "        print(f'Model {i} performs better than a baseline. Accuracy is {accuracy}\\n')\n",
    "    else:\n",
    "        print(f'Model {i} failed the test. Accuracy is {accuracy}\\n')\n",
    "    i += 1"
   ]
  },
  {
   "cell_type": "code",
   "execution_count": 57,
   "id": "be18f99e",
   "metadata": {},
   "outputs": [],
   "source": [
    "#b. Suppose you are working on a team that solely deals with dog pictures. \n",
    "#Which of these models would you recommend?"
   ]
  },
  {
   "cell_type": "code",
   "execution_count": 58,
   "id": "5b3e2504",
   "metadata": {},
   "outputs": [],
   "source": [
    "#positive --> dogs"
   ]
  },
  {
   "cell_type": "code",
   "execution_count": 59,
   "id": "56f1285c",
   "metadata": {},
   "outputs": [],
   "source": [
    "#fp: picture predicted as a dog but it is a cat\n",
    "#fn: picture predicted as a cat but it's dog\n",
    "\n",
    "#we would like to avoid false positive results -> recommended precision evaluation"
   ]
  },
  {
   "cell_type": "code",
   "execution_count": 60,
   "id": "feebd20e",
   "metadata": {},
   "outputs": [
    {
     "name": "stdout",
     "output_type": "stream",
     "text": [
      "model1    0.8900238338440586\n",
      "model2    0.8931767337807607\n",
      "model3    0.6598883572567783\n",
      "model4    0.7312485304490948\n"
     ]
    }
   ],
   "source": [
    "for col in cols:\n",
    "    dog = paws[paws[col] == 'dog']\n",
    "    precision_dog = (dog.actual == dog[col]).mean()\n",
    "    print(f'{col}    {precision_dog}')\n",
    "    "
   ]
  },
  {
   "cell_type": "markdown",
   "id": "b4765a76",
   "metadata": {},
   "source": [
    "Model 1 and 2 give better predition results"
   ]
  },
  {
   "cell_type": "code",
   "execution_count": 62,
   "id": "6c2c7819",
   "metadata": {},
   "outputs": [],
   "source": [
    "#Suppose you are working on a team that solely deals with cat pictures. \n",
    "#Which of these models would you recommend?"
   ]
  },
  {
   "cell_type": "code",
   "execution_count": 63,
   "id": "163b56d3",
   "metadata": {},
   "outputs": [],
   "source": [
    "#positive --> cats\n",
    "\n",
    "#fp picture predicted as a cat but it is a dog\n",
    "#fn picture predicted as a dog but it is a cat\n",
    "\n",
    "#we would like to avoid false positive results -> recommended precision evaluation"
   ]
  },
  {
   "cell_type": "code",
   "execution_count": 64,
   "id": "e66fdb28",
   "metadata": {},
   "outputs": [
    {
     "name": "stdout",
     "output_type": "stream",
     "text": [
      "model1    0.6897721764420747\n",
      "model2    0.4841220423412204\n",
      "model3    0.358346709470305\n",
      "model4    0.8072289156626506\n"
     ]
    }
   ],
   "source": [
    "for col in cols:\n",
    "    cat = paws[paws[col] == 'cat']\n",
    "    precision_cat = (cat.actual == cat[col]).mean()\n",
    "    print(f'{col}    {precision_cat}')"
   ]
  },
  {
   "cell_type": "markdown",
   "id": "ca2aad38",
   "metadata": {},
   "source": [
    "Model 4 is recommended for the cats team"
   ]
  }
 ],
 "metadata": {
  "kernelspec": {
   "display_name": "Python 3 (ipykernel)",
   "language": "python",
   "name": "python3"
  },
  "language_info": {
   "codemirror_mode": {
    "name": "ipython",
    "version": 3
   },
   "file_extension": ".py",
   "mimetype": "text/x-python",
   "name": "python",
   "nbconvert_exporter": "python",
   "pygments_lexer": "ipython3",
   "version": "3.9.12"
  }
 },
 "nbformat": 4,
 "nbformat_minor": 5
}
