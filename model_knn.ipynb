{
 "cells": [
  {
   "cell_type": "markdown",
   "id": "5b20d461",
   "metadata": {},
   "source": [
    "## K-Nearest Neighbor Exercises"
   ]
  },
  {
   "cell_type": "code",
   "execution_count": 2,
   "id": "9f90fed6",
   "metadata": {},
   "outputs": [],
   "source": [
    "# Data handling\n",
    "import pandas as pd\n",
    "import numpy as np\n",
    "\n",
    "# Data visualization\n",
    "import matplotlib.pyplot as plt\n",
    "import seaborn as sns\n",
    "\n",
    "# Sklearn modules\n",
    "from sklearn.neighbors import KNeighborsClassifier\n",
    "from sklearn.metrics import classification_report\n",
    "from sklearn.metrics import confusion_matrix, plot_confusion_matrix, ConfusionMatrixDisplay\n",
    "\n",
    "# Data acquisition\n",
    "from pydataset import data\n",
    "\n",
    "# Data modeling\n",
    "from model import map_setosa_knn, train_validate_test_split\n",
    "\n",
    "#Data acquisition and preparation\n",
    "import acquire as ac\n",
    "import prepare as pr"
   ]
  },
  {
   "cell_type": "markdown",
   "id": "90e955bf",
   "metadata": {},
   "source": [
    "Continue working in your `model.ipynb` file with the ```titanic``` dataset.\n",
    "\n",
    "1. Fit a K-Nearest Neighbors classifier to your training sample and transform (i.e. make predictions on the training sample)\n",
    "\n",
    "2. Evaluate your results using the model score, confusion matrix, and classification report.\n",
    "\n",
    "3. Print and clearly label the following: Accuracy, true positive rate, false positive rate, true negative rate, false negative rate, precision, recall, f1-score, and support.\n",
    "\n",
    "4. Run through steps 2-4 setting k to 10\n",
    "\n",
    "5. Run through setps 2-4 setting k to 20\n",
    "\n",
    "6. What are the differences in the evaluation metrics? Which performs better on your in-sample data? Why?\n",
    "\n",
    "7. Which model performs best on our out-of-sample data from validate?\n",
    "\n",
    "-------\n",
    "\n",
    "Once you have completed work on the titanic dataset, try building some knn models with your telco data."
   ]
  },
  {
   "cell_type": "code",
   "execution_count": 3,
   "id": "1c577108",
   "metadata": {},
   "outputs": [],
   "source": [
    "titanic = ac.get_titanic_data()"
   ]
  },
  {
   "cell_type": "code",
   "execution_count": 4,
   "id": "59642351",
   "metadata": {},
   "outputs": [],
   "source": [
    "X_train, X_validate, X_test, y_train, y_validate, y_test = pr.prep_titanic_6(titanic)"
   ]
  },
  {
   "cell_type": "code",
   "execution_count": 32,
   "id": "28eb5d4f",
   "metadata": {},
   "outputs": [
    {
     "name": "stdout",
     "output_type": "stream",
     "text": [
      "<class 'pandas.core.frame.DataFrame'>\n",
      "Int64Index: 498 entries, 583 to 744\n",
      "Data columns (total 10 columns):\n",
      " #   Column                   Non-Null Count  Dtype  \n",
      "---  ------                   --------------  -----  \n",
      " 0   age                      498 non-null    float64\n",
      " 1   sibsp                    498 non-null    int64  \n",
      " 2   parch                    498 non-null    int64  \n",
      " 3   fare                     498 non-null    float64\n",
      " 4   alone                    498 non-null    int64  \n",
      " 5   sex_male                 498 non-null    uint8  \n",
      " 6   class_Second             498 non-null    uint8  \n",
      " 7   class_Third              498 non-null    uint8  \n",
      " 8   embark_town_Queenstown   498 non-null    uint8  \n",
      " 9   embark_town_Southampton  498 non-null    uint8  \n",
      "dtypes: float64(2), int64(3), uint8(5)\n",
      "memory usage: 25.8 KB\n"
     ]
    }
   ],
   "source": [
    "X_train.info()"
   ]
  },
  {
   "cell_type": "code",
   "execution_count": 34,
   "id": "d4bdc5d5",
   "metadata": {},
   "outputs": [],
   "source": [
    "#with all columns knn with n_neighbors = 5 performed only with 79% of accuracy\n",
    "#i drop columns that are not significantly valuable to increase the algorithm performance \n",
    "X_train.drop(columns=['age', 'sibsp', 'parch'], inplace=True)\n",
    "X_validate.drop(columns=['age', 'sibsp', 'parch'], inplace=True)\n",
    "X_test.drop(columns=['age', 'sibsp', 'parch'], inplace=True)"
   ]
  },
  {
   "cell_type": "code",
   "execution_count": 35,
   "id": "75681190",
   "metadata": {},
   "outputs": [],
   "source": [
    "knn5 = KNeighborsClassifier(n_neighbors=5, weights='uniform')"
   ]
  },
  {
   "cell_type": "code",
   "execution_count": 36,
   "id": "2badea70",
   "metadata": {},
   "outputs": [
    {
     "data": {
      "text/plain": [
       "KNeighborsClassifier()"
      ]
     },
     "execution_count": 36,
     "metadata": {},
     "output_type": "execute_result"
    }
   ],
   "source": [
    "knn5.fit(X_train, y_train)"
   ]
  },
  {
   "cell_type": "code",
   "execution_count": 37,
   "id": "734ced61",
   "metadata": {},
   "outputs": [],
   "source": [
    "#predition\n",
    "y_pred = knn5.predict(X_train)"
   ]
  },
  {
   "cell_type": "code",
   "execution_count": 38,
   "id": "f5880f2e",
   "metadata": {},
   "outputs": [
    {
     "data": {
      "text/html": [
       "<div>\n",
       "<style scoped>\n",
       "    .dataframe tbody tr th:only-of-type {\n",
       "        vertical-align: middle;\n",
       "    }\n",
       "\n",
       "    .dataframe tbody tr th {\n",
       "        vertical-align: top;\n",
       "    }\n",
       "\n",
       "    .dataframe thead th {\n",
       "        text-align: right;\n",
       "    }\n",
       "</style>\n",
       "<table border=\"1\" class=\"dataframe\">\n",
       "  <thead>\n",
       "    <tr style=\"text-align: right;\">\n",
       "      <th>survived</th>\n",
       "      <th>0</th>\n",
       "      <th>1</th>\n",
       "      <th>0</th>\n",
       "      <th>1</th>\n",
       "      <th>1</th>\n",
       "      <th>0</th>\n",
       "      <th>0</th>\n",
       "      <th>0</th>\n",
       "      <th>0</th>\n",
       "      <th>0</th>\n",
       "      <th>...</th>\n",
       "      <th>0</th>\n",
       "      <th>1</th>\n",
       "      <th>1</th>\n",
       "      <th>0</th>\n",
       "      <th>1</th>\n",
       "      <th>0</th>\n",
       "      <th>0</th>\n",
       "      <th>0</th>\n",
       "      <th>0</th>\n",
       "      <th>1</th>\n",
       "    </tr>\n",
       "  </thead>\n",
       "  <tbody>\n",
       "    <tr>\n",
       "      <th>0</th>\n",
       "      <td>0</td>\n",
       "      <td>0</td>\n",
       "      <td>0</td>\n",
       "      <td>1</td>\n",
       "      <td>1</td>\n",
       "      <td>0</td>\n",
       "      <td>0</td>\n",
       "      <td>0</td>\n",
       "      <td>0</td>\n",
       "      <td>0</td>\n",
       "      <td>...</td>\n",
       "      <td>0</td>\n",
       "      <td>1</td>\n",
       "      <td>1</td>\n",
       "      <td>0</td>\n",
       "      <td>1</td>\n",
       "      <td>0</td>\n",
       "      <td>0</td>\n",
       "      <td>0</td>\n",
       "      <td>1</td>\n",
       "      <td>0</td>\n",
       "    </tr>\n",
       "  </tbody>\n",
       "</table>\n",
       "<p>1 rows × 498 columns</p>\n",
       "</div>"
      ],
      "text/plain": [
       "survived  0  1  0  1  1  0  0  0  0  0  ...  0  1  1  0  1  0  0  0  0  1\n",
       "0         0  0  0  1  1  0  0  0  0  0  ...  0  1  1  0  1  0  0  0  1  0\n",
       "\n",
       "[1 rows x 498 columns]"
      ]
     },
     "execution_count": 38,
     "metadata": {},
     "output_type": "execute_result"
    }
   ],
   "source": [
    "pd.DataFrame(y_pred, y_train).T"
   ]
  },
  {
   "cell_type": "code",
   "execution_count": 39,
   "id": "41a08429",
   "metadata": {},
   "outputs": [
    {
     "data": {
      "text/html": [
       "<div>\n",
       "<style scoped>\n",
       "    .dataframe tbody tr th:only-of-type {\n",
       "        vertical-align: middle;\n",
       "    }\n",
       "\n",
       "    .dataframe tbody tr th {\n",
       "        vertical-align: top;\n",
       "    }\n",
       "\n",
       "    .dataframe thead th {\n",
       "        text-align: right;\n",
       "    }\n",
       "</style>\n",
       "<table border=\"1\" class=\"dataframe\">\n",
       "  <thead>\n",
       "    <tr style=\"text-align: right;\">\n",
       "      <th></th>\n",
       "      <th>0</th>\n",
       "      <th>1</th>\n",
       "      <th>2</th>\n",
       "      <th>3</th>\n",
       "      <th>4</th>\n",
       "      <th>5</th>\n",
       "      <th>6</th>\n",
       "      <th>7</th>\n",
       "      <th>8</th>\n",
       "      <th>9</th>\n",
       "      <th>...</th>\n",
       "      <th>488</th>\n",
       "      <th>489</th>\n",
       "      <th>490</th>\n",
       "      <th>491</th>\n",
       "      <th>492</th>\n",
       "      <th>493</th>\n",
       "      <th>494</th>\n",
       "      <th>495</th>\n",
       "      <th>496</th>\n",
       "      <th>497</th>\n",
       "    </tr>\n",
       "  </thead>\n",
       "  <tbody>\n",
       "    <tr>\n",
       "      <th>1</th>\n",
       "      <td>1.0</td>\n",
       "      <td>0.6</td>\n",
       "      <td>0.8</td>\n",
       "      <td>0.0</td>\n",
       "      <td>0.4</td>\n",
       "      <td>0.6</td>\n",
       "      <td>0.8</td>\n",
       "      <td>0.8</td>\n",
       "      <td>1.0</td>\n",
       "      <td>1.0</td>\n",
       "      <td>...</td>\n",
       "      <td>0.8</td>\n",
       "      <td>0.2</td>\n",
       "      <td>0.2</td>\n",
       "      <td>1.0</td>\n",
       "      <td>0.4</td>\n",
       "      <td>1.0</td>\n",
       "      <td>0.8</td>\n",
       "      <td>0.8</td>\n",
       "      <td>0.4</td>\n",
       "      <td>0.8</td>\n",
       "    </tr>\n",
       "    <tr>\n",
       "      <th>0</th>\n",
       "      <td>0.0</td>\n",
       "      <td>0.4</td>\n",
       "      <td>0.2</td>\n",
       "      <td>1.0</td>\n",
       "      <td>0.6</td>\n",
       "      <td>0.4</td>\n",
       "      <td>0.2</td>\n",
       "      <td>0.2</td>\n",
       "      <td>0.0</td>\n",
       "      <td>0.0</td>\n",
       "      <td>...</td>\n",
       "      <td>0.2</td>\n",
       "      <td>0.8</td>\n",
       "      <td>0.8</td>\n",
       "      <td>0.0</td>\n",
       "      <td>0.6</td>\n",
       "      <td>0.0</td>\n",
       "      <td>0.2</td>\n",
       "      <td>0.2</td>\n",
       "      <td>0.6</td>\n",
       "      <td>0.2</td>\n",
       "    </tr>\n",
       "  </tbody>\n",
       "</table>\n",
       "<p>2 rows × 498 columns</p>\n",
       "</div>"
      ],
      "text/plain": [
       "   0    1    2    3    4    5    6    7    8    9    ...  488  489  490  491  \\\n",
       "1  1.0  0.6  0.8  0.0  0.4  0.6  0.8  0.8  1.0  1.0  ...  0.8  0.2  0.2  1.0   \n",
       "0  0.0  0.4  0.2  1.0  0.6  0.4  0.2  0.2  0.0  0.0  ...  0.2  0.8  0.8  0.0   \n",
       "\n",
       "   492  493  494  495  496  497  \n",
       "1  0.4  1.0  0.8  0.8  0.4  0.8  \n",
       "0  0.6  0.0  0.2  0.2  0.6  0.2  \n",
       "\n",
       "[2 rows x 498 columns]"
      ]
     },
     "execution_count": 39,
     "metadata": {},
     "output_type": "execute_result"
    }
   ],
   "source": [
    "#estimate probability\n",
    "y_pred_proba = knn5.predict_proba(X_train)\n",
    "pd.DataFrame(y_pred_proba, columns=[1, 0]).T"
   ]
  },
  {
   "cell_type": "markdown",
   "id": "328bb76f",
   "metadata": {},
   "source": [
    "Evaluate model"
   ]
  },
  {
   "cell_type": "code",
   "execution_count": 40,
   "id": "725cf9a6",
   "metadata": {},
   "outputs": [],
   "source": [
    "cm5 = confusion_matrix(y_train, y_pred, labels=knn5.classes_)"
   ]
  },
  {
   "cell_type": "code",
   "execution_count": 41,
   "id": "14b4d2e4",
   "metadata": {},
   "outputs": [
    {
     "data": {
      "text/plain": [
       "array([[269,  38],\n",
       "       [ 52, 139]])"
      ]
     },
     "execution_count": 41,
     "metadata": {},
     "output_type": "execute_result"
    }
   ],
   "source": [
    "cm5"
   ]
  },
  {
   "cell_type": "code",
   "execution_count": 42,
   "id": "52011409",
   "metadata": {},
   "outputs": [
    {
     "data": {
      "image/png": "[encoded data removed]",
      "text/plain": [
       "<Figure size 432x288 with 2 Axes>"
      ]
     },
     "metadata": {
      "needs_background": "light"
     },
     "output_type": "display_data"
    }
   ],
   "source": [
    "disp = ConfusionMatrixDisplay(confusion_matrix=cm5,\n",
    "                          display_labels=knn5.classes_)\n",
    "disp.plot();"
   ]
  },
  {
   "cell_type": "markdown",
   "id": "6ccf76de",
   "metadata": {},
   "source": [
    "Print and clearly label the following: Accuracy, true positive rate, false positive rate, true negative rate, false negative rate, precision, recall, f1-score, and support"
   ]
  },
  {
   "cell_type": "code",
   "execution_count": 43,
   "id": "890c9e3b",
   "metadata": {},
   "outputs": [
    {
     "name": "stdout",
     "output_type": "stream",
     "text": [
      "              precision    recall  f1-score   support\n",
      "\n",
      "           0       0.84      0.88      0.86       307\n",
      "           1       0.79      0.73      0.76       191\n",
      "\n",
      "    accuracy                           0.82       498\n",
      "   macro avg       0.81      0.80      0.81       498\n",
      "weighted avg       0.82      0.82      0.82       498\n",
      "\n"
     ]
    }
   ],
   "source": [
    "print(classification_report(y_train, y_pred))"
   ]
  },
  {
   "cell_type": "code",
   "execution_count": 148,
   "id": "5996d4e4",
   "metadata": {
    "scrolled": true
   },
   "outputs": [
    {
     "data": {
      "text/html": [
       "<div>\n",
       "<style scoped>\n",
       "    .dataframe tbody tr th:only-of-type {\n",
       "        vertical-align: middle;\n",
       "    }\n",
       "\n",
       "    .dataframe tbody tr th {\n",
       "        vertical-align: top;\n",
       "    }\n",
       "\n",
       "    .dataframe thead th {\n",
       "        text-align: right;\n",
       "    }\n",
       "</style>\n",
       "<table border=\"1\" class=\"dataframe\">\n",
       "  <thead>\n",
       "    <tr style=\"text-align: right;\">\n",
       "      <th></th>\n",
       "      <th>Score Name</th>\n",
       "      <th>KNN-5</th>\n",
       "    </tr>\n",
       "  </thead>\n",
       "  <tbody>\n",
       "    <tr>\n",
       "      <th>0</th>\n",
       "      <td>Accuracy</td>\n",
       "      <td>0.82</td>\n",
       "    </tr>\n",
       "    <tr>\n",
       "      <th>1</th>\n",
       "      <td>True Positive Rate /Recall</td>\n",
       "      <td>0.73</td>\n",
       "    </tr>\n",
       "    <tr>\n",
       "      <th>2</th>\n",
       "      <td>False Positive Rate</td>\n",
       "      <td>0.12</td>\n",
       "    </tr>\n",
       "    <tr>\n",
       "      <th>3</th>\n",
       "      <td>True Negative Rate</td>\n",
       "      <td>0.88</td>\n",
       "    </tr>\n",
       "    <tr>\n",
       "      <th>4</th>\n",
       "      <td>False Negative Rate</td>\n",
       "      <td>0.27</td>\n",
       "    </tr>\n",
       "    <tr>\n",
       "      <th>5</th>\n",
       "      <td>Precision</td>\n",
       "      <td>0.79</td>\n",
       "    </tr>\n",
       "    <tr>\n",
       "      <th>6</th>\n",
       "      <td>F1 Score</td>\n",
       "      <td>0.76</td>\n",
       "    </tr>\n",
       "    <tr>\n",
       "      <th>7</th>\n",
       "      <td>Support Positive</td>\n",
       "      <td>191.00</td>\n",
       "    </tr>\n",
       "    <tr>\n",
       "      <th>8</th>\n",
       "      <td>Support Negative</td>\n",
       "      <td>307.00</td>\n",
       "    </tr>\n",
       "  </tbody>\n",
       "</table>\n",
       "</div>"
      ],
      "text/plain": [
       "                   Score Name   KNN-5\n",
       "0                    Accuracy    0.82\n",
       "1  True Positive Rate /Recall    0.73\n",
       "2         False Positive Rate    0.12\n",
       "3          True Negative Rate    0.88\n",
       "4         False Negative Rate    0.27\n",
       "5                   Precision    0.79\n",
       "6                    F1 Score    0.76\n",
       "7            Support Positive  191.00\n",
       "8            Support Negative  307.00"
      ]
     },
     "execution_count": 148,
     "metadata": {},
     "output_type": "execute_result"
    }
   ],
   "source": [
    "count_scores(cm5, 'KNN-5')"
   ]
  },
  {
   "cell_type": "code",
   "execution_count": 149,
   "id": "625ffc95",
   "metadata": {},
   "outputs": [],
   "source": [
    "values = count_scores(cm5, 'KNN-5').iloc[:,1]"
   ]
  },
  {
   "cell_type": "code",
   "execution_count": 150,
   "id": "6c1f59d2",
   "metadata": {},
   "outputs": [
    {
     "data": {
      "text/plain": [
       "0      0.82\n",
       "1      0.73\n",
       "2      0.12\n",
       "3      0.88\n",
       "4      0.27\n",
       "5      0.79\n",
       "6      0.76\n",
       "7    191.00\n",
       "8    307.00\n",
       "Name: KNN-5, dtype: float64"
      ]
     },
     "execution_count": 150,
     "metadata": {},
     "output_type": "execute_result"
    }
   ],
   "source": [
    "values"
   ]
  },
  {
   "cell_type": "markdown",
   "id": "224c8abf",
   "metadata": {},
   "source": [
    "Run through steps 2-4 setting ***```k = 10```***"
   ]
  },
  {
   "cell_type": "code",
   "execution_count": 61,
   "id": "ff02bce6",
   "metadata": {},
   "outputs": [],
   "source": [
    "knn10 = KNeighborsClassifier(n_neighbors=10, weights='uniform')"
   ]
  },
  {
   "cell_type": "code",
   "execution_count": 62,
   "id": "58144756",
   "metadata": {},
   "outputs": [
    {
     "data": {
      "text/plain": [
       "KNeighborsClassifier(n_neighbors=10)"
      ]
     },
     "execution_count": 62,
     "metadata": {},
     "output_type": "execute_result"
    }
   ],
   "source": [
    "knn10.fit(X_train, y_train)"
   ]
  },
  {
   "cell_type": "code",
   "execution_count": 63,
   "id": "82b28cd6",
   "metadata": {},
   "outputs": [],
   "source": [
    "#predition\n",
    "y_pred_10 = knn10.predict(X_train)"
   ]
  },
  {
   "cell_type": "code",
   "execution_count": 64,
   "id": "fd6b4ed2",
   "metadata": {},
   "outputs": [
    {
     "data": {
      "text/html": [
       "<div>\n",
       "<style scoped>\n",
       "    .dataframe tbody tr th:only-of-type {\n",
       "        vertical-align: middle;\n",
       "    }\n",
       "\n",
       "    .dataframe tbody tr th {\n",
       "        vertical-align: top;\n",
       "    }\n",
       "\n",
       "    .dataframe thead th {\n",
       "        text-align: right;\n",
       "    }\n",
       "</style>\n",
       "<table border=\"1\" class=\"dataframe\">\n",
       "  <thead>\n",
       "    <tr style=\"text-align: right;\">\n",
       "      <th></th>\n",
       "      <th>0</th>\n",
       "      <th>1</th>\n",
       "      <th>2</th>\n",
       "      <th>3</th>\n",
       "      <th>4</th>\n",
       "      <th>5</th>\n",
       "      <th>6</th>\n",
       "      <th>7</th>\n",
       "      <th>8</th>\n",
       "      <th>9</th>\n",
       "      <th>...</th>\n",
       "      <th>488</th>\n",
       "      <th>489</th>\n",
       "      <th>490</th>\n",
       "      <th>491</th>\n",
       "      <th>492</th>\n",
       "      <th>493</th>\n",
       "      <th>494</th>\n",
       "      <th>495</th>\n",
       "      <th>496</th>\n",
       "      <th>497</th>\n",
       "    </tr>\n",
       "  </thead>\n",
       "  <tbody>\n",
       "    <tr>\n",
       "      <th>0</th>\n",
       "      <td>0</td>\n",
       "      <td>0</td>\n",
       "      <td>0</td>\n",
       "      <td>1</td>\n",
       "      <td>1</td>\n",
       "      <td>0</td>\n",
       "      <td>0</td>\n",
       "      <td>0</td>\n",
       "      <td>0</td>\n",
       "      <td>0</td>\n",
       "      <td>...</td>\n",
       "      <td>0</td>\n",
       "      <td>0</td>\n",
       "      <td>1</td>\n",
       "      <td>0</td>\n",
       "      <td>1</td>\n",
       "      <td>0</td>\n",
       "      <td>0</td>\n",
       "      <td>0</td>\n",
       "      <td>1</td>\n",
       "      <td>0</td>\n",
       "    </tr>\n",
       "    <tr>\n",
       "      <th>1</th>\n",
       "      <td>0</td>\n",
       "      <td>1</td>\n",
       "      <td>0</td>\n",
       "      <td>1</td>\n",
       "      <td>1</td>\n",
       "      <td>0</td>\n",
       "      <td>0</td>\n",
       "      <td>0</td>\n",
       "      <td>0</td>\n",
       "      <td>0</td>\n",
       "      <td>...</td>\n",
       "      <td>0</td>\n",
       "      <td>1</td>\n",
       "      <td>1</td>\n",
       "      <td>0</td>\n",
       "      <td>1</td>\n",
       "      <td>0</td>\n",
       "      <td>0</td>\n",
       "      <td>0</td>\n",
       "      <td>0</td>\n",
       "      <td>1</td>\n",
       "    </tr>\n",
       "  </tbody>\n",
       "</table>\n",
       "<p>2 rows × 498 columns</p>\n",
       "</div>"
      ],
      "text/plain": [
       "   0    1    2    3    4    5    6    7    8    9    ...  488  489  490  491  \\\n",
       "0    0    0    0    1    1    0    0    0    0    0  ...    0    0    1    0   \n",
       "1    0    1    0    1    1    0    0    0    0    0  ...    0    1    1    0   \n",
       "\n",
       "   492  493  494  495  496  497  \n",
       "0    1    0    0    0    1    0  \n",
       "1    1    0    0    0    0    1  \n",
       "\n",
       "[2 rows x 498 columns]"
      ]
     },
     "execution_count": 64,
     "metadata": {},
     "output_type": "execute_result"
    }
   ],
   "source": [
    "pd.DataFrame(zip(y_pred_10, y_train)).T"
   ]
  },
  {
   "cell_type": "code",
   "execution_count": 65,
   "id": "a230b537",
   "metadata": {},
   "outputs": [
    {
     "data": {
      "text/html": [
       "<div>\n",
       "<style scoped>\n",
       "    .dataframe tbody tr th:only-of-type {\n",
       "        vertical-align: middle;\n",
       "    }\n",
       "\n",
       "    .dataframe tbody tr th {\n",
       "        vertical-align: top;\n",
       "    }\n",
       "\n",
       "    .dataframe thead th {\n",
       "        text-align: right;\n",
       "    }\n",
       "</style>\n",
       "<table border=\"1\" class=\"dataframe\">\n",
       "  <thead>\n",
       "    <tr style=\"text-align: right;\">\n",
       "      <th></th>\n",
       "      <th>0</th>\n",
       "      <th>1</th>\n",
       "      <th>2</th>\n",
       "      <th>3</th>\n",
       "      <th>4</th>\n",
       "      <th>5</th>\n",
       "      <th>6</th>\n",
       "      <th>7</th>\n",
       "      <th>8</th>\n",
       "      <th>9</th>\n",
       "      <th>...</th>\n",
       "      <th>488</th>\n",
       "      <th>489</th>\n",
       "      <th>490</th>\n",
       "      <th>491</th>\n",
       "      <th>492</th>\n",
       "      <th>493</th>\n",
       "      <th>494</th>\n",
       "      <th>495</th>\n",
       "      <th>496</th>\n",
       "      <th>497</th>\n",
       "    </tr>\n",
       "  </thead>\n",
       "  <tbody>\n",
       "    <tr>\n",
       "      <th>1</th>\n",
       "      <td>0.7</td>\n",
       "      <td>0.8</td>\n",
       "      <td>0.6</td>\n",
       "      <td>0.3</td>\n",
       "      <td>0.3</td>\n",
       "      <td>0.6</td>\n",
       "      <td>0.6</td>\n",
       "      <td>0.8</td>\n",
       "      <td>0.9</td>\n",
       "      <td>0.7</td>\n",
       "      <td>...</td>\n",
       "      <td>0.9</td>\n",
       "      <td>0.5</td>\n",
       "      <td>0.3</td>\n",
       "      <td>0.9</td>\n",
       "      <td>0.2</td>\n",
       "      <td>1.0</td>\n",
       "      <td>0.9</td>\n",
       "      <td>0.9</td>\n",
       "      <td>0.2</td>\n",
       "      <td>0.9</td>\n",
       "    </tr>\n",
       "    <tr>\n",
       "      <th>0</th>\n",
       "      <td>0.3</td>\n",
       "      <td>0.2</td>\n",
       "      <td>0.4</td>\n",
       "      <td>0.7</td>\n",
       "      <td>0.7</td>\n",
       "      <td>0.4</td>\n",
       "      <td>0.4</td>\n",
       "      <td>0.2</td>\n",
       "      <td>0.1</td>\n",
       "      <td>0.3</td>\n",
       "      <td>...</td>\n",
       "      <td>0.1</td>\n",
       "      <td>0.5</td>\n",
       "      <td>0.7</td>\n",
       "      <td>0.1</td>\n",
       "      <td>0.8</td>\n",
       "      <td>0.0</td>\n",
       "      <td>0.1</td>\n",
       "      <td>0.1</td>\n",
       "      <td>0.8</td>\n",
       "      <td>0.1</td>\n",
       "    </tr>\n",
       "  </tbody>\n",
       "</table>\n",
       "<p>2 rows × 498 columns</p>\n",
       "</div>"
      ],
      "text/plain": [
       "   0    1    2    3    4    5    6    7    8    9    ...  488  489  490  491  \\\n",
       "1  0.7  0.8  0.6  0.3  0.3  0.6  0.6  0.8  0.9  0.7  ...  0.9  0.5  0.3  0.9   \n",
       "0  0.3  0.2  0.4  0.7  0.7  0.4  0.4  0.2  0.1  0.3  ...  0.1  0.5  0.7  0.1   \n",
       "\n",
       "   492  493  494  495  496  497  \n",
       "1  0.2  1.0  0.9  0.9  0.2  0.9  \n",
       "0  0.8  0.0  0.1  0.1  0.8  0.1  \n",
       "\n",
       "[2 rows x 498 columns]"
      ]
     },
     "execution_count": 65,
     "metadata": {},
     "output_type": "execute_result"
    }
   ],
   "source": [
    "#estimate probability\n",
    "y_pred_proba10 = knn10.predict_proba(X_train)\n",
    "pd.DataFrame(y_pred_proba10, columns=[1, 0]).T"
   ]
  },
  {
   "cell_type": "markdown",
   "id": "fb4026b0",
   "metadata": {},
   "source": [
    "Evaluate model"
   ]
  },
  {
   "cell_type": "code",
   "execution_count": 69,
   "id": "70f812b1",
   "metadata": {},
   "outputs": [],
   "source": [
    "cm10 = confusion_matrix(y_train, y_pred_10, labels=knn10.classes_)"
   ]
  },
  {
   "cell_type": "code",
   "execution_count": 70,
   "id": "6220d906",
   "metadata": {},
   "outputs": [
    {
     "data": {
      "text/plain": [
       "array([[273,  34],\n",
       "       [ 71, 120]])"
      ]
     },
     "execution_count": 70,
     "metadata": {},
     "output_type": "execute_result"
    }
   ],
   "source": [
    "cm10"
   ]
  },
  {
   "cell_type": "code",
   "execution_count": 71,
   "id": "fa73c116",
   "metadata": {},
   "outputs": [
    {
     "data": {
      "image/png": "[encoded data removed]",
      "text/plain": [
       "<Figure size 432x288 with 2 Axes>"
      ]
     },
     "metadata": {
      "needs_background": "light"
     },
     "output_type": "display_data"
    }
   ],
   "source": [
    "disp = ConfusionMatrixDisplay(confusion_matrix=cm10,\n",
    "                          display_labels=knn10.classes_)\n",
    "disp.plot();"
   ]
  },
  {
   "cell_type": "markdown",
   "id": "7a766545",
   "metadata": {},
   "source": [
    "Print and clearly label the following: Accuracy, true positive rate, false positive rate, true negative rate, false negative rate, precision, recall, f1-score, and support"
   ]
  },
  {
   "cell_type": "code",
   "execution_count": 72,
   "id": "9db78488",
   "metadata": {},
   "outputs": [
    {
     "name": "stdout",
     "output_type": "stream",
     "text": [
      "              precision    recall  f1-score   support\n",
      "\n",
      "           0       0.79      0.89      0.84       307\n",
      "           1       0.78      0.63      0.70       191\n",
      "\n",
      "    accuracy                           0.79       498\n",
      "   macro avg       0.79      0.76      0.77       498\n",
      "weighted avg       0.79      0.79      0.78       498\n",
      "\n"
     ]
    }
   ],
   "source": [
    "print(classification_report(y_train, y_pred_10))"
   ]
  },
  {
   "cell_type": "code",
   "execution_count": 151,
   "id": "d4e2abf3",
   "metadata": {},
   "outputs": [
    {
     "data": {
      "text/html": [
       "<div>\n",
       "<style scoped>\n",
       "    .dataframe tbody tr th:only-of-type {\n",
       "        vertical-align: middle;\n",
       "    }\n",
       "\n",
       "    .dataframe tbody tr th {\n",
       "        vertical-align: top;\n",
       "    }\n",
       "\n",
       "    .dataframe thead th {\n",
       "        text-align: right;\n",
       "    }\n",
       "</style>\n",
       "<table border=\"1\" class=\"dataframe\">\n",
       "  <thead>\n",
       "    <tr style=\"text-align: right;\">\n",
       "      <th></th>\n",
       "      <th>Score Name</th>\n",
       "      <th>KNN-10</th>\n",
       "    </tr>\n",
       "  </thead>\n",
       "  <tbody>\n",
       "    <tr>\n",
       "      <th>0</th>\n",
       "      <td>Accuracy</td>\n",
       "      <td>0.79</td>\n",
       "    </tr>\n",
       "    <tr>\n",
       "      <th>1</th>\n",
       "      <td>True Positive Rate /Recall</td>\n",
       "      <td>0.63</td>\n",
       "    </tr>\n",
       "    <tr>\n",
       "      <th>2</th>\n",
       "      <td>False Positive Rate</td>\n",
       "      <td>0.11</td>\n",
       "    </tr>\n",
       "    <tr>\n",
       "      <th>3</th>\n",
       "      <td>True Negative Rate</td>\n",
       "      <td>0.89</td>\n",
       "    </tr>\n",
       "    <tr>\n",
       "      <th>4</th>\n",
       "      <td>False Negative Rate</td>\n",
       "      <td>0.37</td>\n",
       "    </tr>\n",
       "    <tr>\n",
       "      <th>5</th>\n",
       "      <td>Precision</td>\n",
       "      <td>0.78</td>\n",
       "    </tr>\n",
       "    <tr>\n",
       "      <th>6</th>\n",
       "      <td>F1 Score</td>\n",
       "      <td>0.70</td>\n",
       "    </tr>\n",
       "    <tr>\n",
       "      <th>7</th>\n",
       "      <td>Support Positive</td>\n",
       "      <td>191.00</td>\n",
       "    </tr>\n",
       "    <tr>\n",
       "      <th>8</th>\n",
       "      <td>Support Negative</td>\n",
       "      <td>307.00</td>\n",
       "    </tr>\n",
       "  </tbody>\n",
       "</table>\n",
       "</div>"
      ],
      "text/plain": [
       "                   Score Name  KNN-10\n",
       "0                    Accuracy    0.79\n",
       "1  True Positive Rate /Recall    0.63\n",
       "2         False Positive Rate    0.11\n",
       "3          True Negative Rate    0.89\n",
       "4         False Negative Rate    0.37\n",
       "5                   Precision    0.78\n",
       "6                    F1 Score    0.70\n",
       "7            Support Positive  191.00\n",
       "8            Support Negative  307.00"
      ]
     },
     "execution_count": 151,
     "metadata": {},
     "output_type": "execute_result"
    }
   ],
   "source": [
    "count_scores(cm10, 'KNN-10')"
   ]
  },
  {
   "cell_type": "code",
   "execution_count": 152,
   "id": "59359cce",
   "metadata": {},
   "outputs": [],
   "source": [
    "values10 = count_scores(cm10, 'KNN-10').iloc[:, 1]"
   ]
  },
  {
   "cell_type": "code",
   "execution_count": 153,
   "id": "f39b3b71",
   "metadata": {},
   "outputs": [
    {
     "data": {
      "text/plain": [
       "0      0.79\n",
       "1      0.63\n",
       "2      0.11\n",
       "3      0.89\n",
       "4      0.37\n",
       "5      0.78\n",
       "6      0.70\n",
       "7    191.00\n",
       "8    307.00\n",
       "Name: KNN-10, dtype: float64"
      ]
     },
     "execution_count": 153,
     "metadata": {},
     "output_type": "execute_result"
    }
   ],
   "source": [
    "values10"
   ]
  },
  {
   "cell_type": "markdown",
   "id": "7a1ef200",
   "metadata": {},
   "source": [
    "Run through steps 2-4 setting ***```k = 20```***"
   ]
  },
  {
   "cell_type": "code",
   "execution_count": 84,
   "id": "552bf89c",
   "metadata": {},
   "outputs": [],
   "source": [
    "knn20 = KNeighborsClassifier(n_neighbors=20, weights='uniform')"
   ]
  },
  {
   "cell_type": "code",
   "execution_count": 85,
   "id": "acee4eac",
   "metadata": {},
   "outputs": [
    {
     "data": {
      "text/plain": [
       "KNeighborsClassifier(n_neighbors=20)"
      ]
     },
     "execution_count": 85,
     "metadata": {},
     "output_type": "execute_result"
    }
   ],
   "source": [
    "knn20.fit(X_train, y_train)"
   ]
  },
  {
   "cell_type": "code",
   "execution_count": 86,
   "id": "b8d53aa9",
   "metadata": {},
   "outputs": [],
   "source": [
    "#predition\n",
    "y_pred_20 = knn20.predict(X_train)"
   ]
  },
  {
   "cell_type": "code",
   "execution_count": 87,
   "id": "e1ad08b8",
   "metadata": {},
   "outputs": [
    {
     "data": {
      "text/html": [
       "<div>\n",
       "<style scoped>\n",
       "    .dataframe tbody tr th:only-of-type {\n",
       "        vertical-align: middle;\n",
       "    }\n",
       "\n",
       "    .dataframe tbody tr th {\n",
       "        vertical-align: top;\n",
       "    }\n",
       "\n",
       "    .dataframe thead th {\n",
       "        text-align: right;\n",
       "    }\n",
       "</style>\n",
       "<table border=\"1\" class=\"dataframe\">\n",
       "  <thead>\n",
       "    <tr style=\"text-align: right;\">\n",
       "      <th>survived</th>\n",
       "      <th>0</th>\n",
       "      <th>1</th>\n",
       "      <th>0</th>\n",
       "      <th>1</th>\n",
       "      <th>1</th>\n",
       "      <th>0</th>\n",
       "      <th>0</th>\n",
       "      <th>0</th>\n",
       "      <th>0</th>\n",
       "      <th>0</th>\n",
       "      <th>...</th>\n",
       "      <th>0</th>\n",
       "      <th>1</th>\n",
       "      <th>1</th>\n",
       "      <th>0</th>\n",
       "      <th>1</th>\n",
       "      <th>0</th>\n",
       "      <th>0</th>\n",
       "      <th>0</th>\n",
       "      <th>0</th>\n",
       "      <th>1</th>\n",
       "    </tr>\n",
       "  </thead>\n",
       "  <tbody>\n",
       "    <tr>\n",
       "      <th>0</th>\n",
       "      <td>0</td>\n",
       "      <td>1</td>\n",
       "      <td>0</td>\n",
       "      <td>1</td>\n",
       "      <td>1</td>\n",
       "      <td>0</td>\n",
       "      <td>0</td>\n",
       "      <td>0</td>\n",
       "      <td>0</td>\n",
       "      <td>0</td>\n",
       "      <td>...</td>\n",
       "      <td>0</td>\n",
       "      <td>0</td>\n",
       "      <td>1</td>\n",
       "      <td>0</td>\n",
       "      <td>1</td>\n",
       "      <td>0</td>\n",
       "      <td>0</td>\n",
       "      <td>0</td>\n",
       "      <td>1</td>\n",
       "      <td>0</td>\n",
       "    </tr>\n",
       "  </tbody>\n",
       "</table>\n",
       "<p>1 rows × 498 columns</p>\n",
       "</div>"
      ],
      "text/plain": [
       "survived  0  1  0  1  1  0  0  0  0  0  ...  0  1  1  0  1  0  0  0  0  1\n",
       "0         0  1  0  1  1  0  0  0  0  0  ...  0  0  1  0  1  0  0  0  1  0\n",
       "\n",
       "[1 rows x 498 columns]"
      ]
     },
     "execution_count": 87,
     "metadata": {},
     "output_type": "execute_result"
    }
   ],
   "source": [
    "pd.DataFrame(y_pred_20, y_train).T"
   ]
  },
  {
   "cell_type": "code",
   "execution_count": 88,
   "id": "36cc28c1",
   "metadata": {},
   "outputs": [
    {
     "data": {
      "text/html": [
       "<div>\n",
       "<style scoped>\n",
       "    .dataframe tbody tr th:only-of-type {\n",
       "        vertical-align: middle;\n",
       "    }\n",
       "\n",
       "    .dataframe tbody tr th {\n",
       "        vertical-align: top;\n",
       "    }\n",
       "\n",
       "    .dataframe thead th {\n",
       "        text-align: right;\n",
       "    }\n",
       "</style>\n",
       "<table border=\"1\" class=\"dataframe\">\n",
       "  <thead>\n",
       "    <tr style=\"text-align: right;\">\n",
       "      <th></th>\n",
       "      <th>0</th>\n",
       "      <th>1</th>\n",
       "      <th>2</th>\n",
       "      <th>3</th>\n",
       "      <th>4</th>\n",
       "      <th>5</th>\n",
       "      <th>6</th>\n",
       "      <th>7</th>\n",
       "      <th>8</th>\n",
       "      <th>9</th>\n",
       "      <th>...</th>\n",
       "      <th>488</th>\n",
       "      <th>489</th>\n",
       "      <th>490</th>\n",
       "      <th>491</th>\n",
       "      <th>492</th>\n",
       "      <th>493</th>\n",
       "      <th>494</th>\n",
       "      <th>495</th>\n",
       "      <th>496</th>\n",
       "      <th>497</th>\n",
       "    </tr>\n",
       "  </thead>\n",
       "  <tbody>\n",
       "    <tr>\n",
       "      <th>1</th>\n",
       "      <td>1.0</td>\n",
       "      <td>0.6</td>\n",
       "      <td>0.8</td>\n",
       "      <td>0.0</td>\n",
       "      <td>0.4</td>\n",
       "      <td>0.6</td>\n",
       "      <td>0.8</td>\n",
       "      <td>0.8</td>\n",
       "      <td>1.0</td>\n",
       "      <td>1.0</td>\n",
       "      <td>...</td>\n",
       "      <td>0.8</td>\n",
       "      <td>0.2</td>\n",
       "      <td>0.2</td>\n",
       "      <td>1.0</td>\n",
       "      <td>0.4</td>\n",
       "      <td>1.0</td>\n",
       "      <td>0.8</td>\n",
       "      <td>0.8</td>\n",
       "      <td>0.4</td>\n",
       "      <td>0.8</td>\n",
       "    </tr>\n",
       "    <tr>\n",
       "      <th>0</th>\n",
       "      <td>0.0</td>\n",
       "      <td>0.4</td>\n",
       "      <td>0.2</td>\n",
       "      <td>1.0</td>\n",
       "      <td>0.6</td>\n",
       "      <td>0.4</td>\n",
       "      <td>0.2</td>\n",
       "      <td>0.2</td>\n",
       "      <td>0.0</td>\n",
       "      <td>0.0</td>\n",
       "      <td>...</td>\n",
       "      <td>0.2</td>\n",
       "      <td>0.8</td>\n",
       "      <td>0.8</td>\n",
       "      <td>0.0</td>\n",
       "      <td>0.6</td>\n",
       "      <td>0.0</td>\n",
       "      <td>0.2</td>\n",
       "      <td>0.2</td>\n",
       "      <td>0.6</td>\n",
       "      <td>0.2</td>\n",
       "    </tr>\n",
       "  </tbody>\n",
       "</table>\n",
       "<p>2 rows × 498 columns</p>\n",
       "</div>"
      ],
      "text/plain": [
       "   0    1    2    3    4    5    6    7    8    9    ...  488  489  490  491  \\\n",
       "1  1.0  0.6  0.8  0.0  0.4  0.6  0.8  0.8  1.0  1.0  ...  0.8  0.2  0.2  1.0   \n",
       "0  0.0  0.4  0.2  1.0  0.6  0.4  0.2  0.2  0.0  0.0  ...  0.2  0.8  0.8  0.0   \n",
       "\n",
       "   492  493  494  495  496  497  \n",
       "1  0.4  1.0  0.8  0.8  0.4  0.8  \n",
       "0  0.6  0.0  0.2  0.2  0.6  0.2  \n",
       "\n",
       "[2 rows x 498 columns]"
      ]
     },
     "execution_count": 88,
     "metadata": {},
     "output_type": "execute_result"
    }
   ],
   "source": [
    "#estimate probability\n",
    "y_pred_proba_20 = knn20.predict_proba(X_train)\n",
    "pd.DataFrame(y_pred_proba, columns=[1, 0]).T"
   ]
  },
  {
   "cell_type": "markdown",
   "id": "e876368b",
   "metadata": {},
   "source": [
    "Evaluate model"
   ]
  },
  {
   "cell_type": "code",
   "execution_count": 89,
   "id": "9cb785a5",
   "metadata": {},
   "outputs": [],
   "source": [
    "cm20 = confusion_matrix(y_train, y_pred_20, labels=knn20.classes_)"
   ]
  },
  {
   "cell_type": "code",
   "execution_count": 90,
   "id": "903847c0",
   "metadata": {},
   "outputs": [
    {
     "data": {
      "text/plain": [
       "array([[265,  42],\n",
       "       [ 83, 108]])"
      ]
     },
     "execution_count": 90,
     "metadata": {},
     "output_type": "execute_result"
    }
   ],
   "source": [
    "cm20"
   ]
  },
  {
   "cell_type": "code",
   "execution_count": 91,
   "id": "cefaac57",
   "metadata": {},
   "outputs": [
    {
     "data": {
      "image/png": "[encoded data removed]",
      "text/plain": [
       "<Figure size 432x288 with 2 Axes>"
      ]
     },
     "metadata": {
      "needs_background": "light"
     },
     "output_type": "display_data"
    }
   ],
   "source": [
    "disp = ConfusionMatrixDisplay(confusion_matrix=cm20,\n",
    "                          display_labels=knn20.classes_)\n",
    "disp.plot();"
   ]
  },
  {
   "cell_type": "markdown",
   "id": "d5edc95d",
   "metadata": {},
   "source": [
    "Print and clearly label the following: Accuracy, true positive rate, false positive rate, true negative rate, false negative rate, precision, recall, f1-score, and support"
   ]
  },
  {
   "cell_type": "code",
   "execution_count": 92,
   "id": "4decc5a3",
   "metadata": {},
   "outputs": [
    {
     "name": "stdout",
     "output_type": "stream",
     "text": [
      "              precision    recall  f1-score   support\n",
      "\n",
      "           0       0.76      0.86      0.81       307\n",
      "           1       0.72      0.57      0.63       191\n",
      "\n",
      "    accuracy                           0.75       498\n",
      "   macro avg       0.74      0.71      0.72       498\n",
      "weighted avg       0.75      0.75      0.74       498\n",
      "\n"
     ]
    }
   ],
   "source": [
    "print(classification_report(y_train, y_pred_20))"
   ]
  },
  {
   "cell_type": "code",
   "execution_count": 154,
   "id": "02149f00",
   "metadata": {},
   "outputs": [
    {
     "data": {
      "text/html": [
       "<div>\n",
       "<style scoped>\n",
       "    .dataframe tbody tr th:only-of-type {\n",
       "        vertical-align: middle;\n",
       "    }\n",
       "\n",
       "    .dataframe tbody tr th {\n",
       "        vertical-align: top;\n",
       "    }\n",
       "\n",
       "    .dataframe thead th {\n",
       "        text-align: right;\n",
       "    }\n",
       "</style>\n",
       "<table border=\"1\" class=\"dataframe\">\n",
       "  <thead>\n",
       "    <tr style=\"text-align: right;\">\n",
       "      <th></th>\n",
       "      <th>Score Name</th>\n",
       "      <th>KNN-20</th>\n",
       "    </tr>\n",
       "  </thead>\n",
       "  <tbody>\n",
       "    <tr>\n",
       "      <th>0</th>\n",
       "      <td>Accuracy</td>\n",
       "      <td>0.75</td>\n",
       "    </tr>\n",
       "    <tr>\n",
       "      <th>1</th>\n",
       "      <td>True Positive Rate /Recall</td>\n",
       "      <td>0.57</td>\n",
       "    </tr>\n",
       "    <tr>\n",
       "      <th>2</th>\n",
       "      <td>False Positive Rate</td>\n",
       "      <td>0.14</td>\n",
       "    </tr>\n",
       "    <tr>\n",
       "      <th>3</th>\n",
       "      <td>True Negative Rate</td>\n",
       "      <td>0.86</td>\n",
       "    </tr>\n",
       "    <tr>\n",
       "      <th>4</th>\n",
       "      <td>False Negative Rate</td>\n",
       "      <td>0.43</td>\n",
       "    </tr>\n",
       "    <tr>\n",
       "      <th>5</th>\n",
       "      <td>Precision</td>\n",
       "      <td>0.72</td>\n",
       "    </tr>\n",
       "    <tr>\n",
       "      <th>6</th>\n",
       "      <td>F1 Score</td>\n",
       "      <td>0.64</td>\n",
       "    </tr>\n",
       "    <tr>\n",
       "      <th>7</th>\n",
       "      <td>Support Positive</td>\n",
       "      <td>191.00</td>\n",
       "    </tr>\n",
       "    <tr>\n",
       "      <th>8</th>\n",
       "      <td>Support Negative</td>\n",
       "      <td>307.00</td>\n",
       "    </tr>\n",
       "  </tbody>\n",
       "</table>\n",
       "</div>"
      ],
      "text/plain": [
       "                   Score Name  KNN-20\n",
       "0                    Accuracy    0.75\n",
       "1  True Positive Rate /Recall    0.57\n",
       "2         False Positive Rate    0.14\n",
       "3          True Negative Rate    0.86\n",
       "4         False Negative Rate    0.43\n",
       "5                   Precision    0.72\n",
       "6                    F1 Score    0.64\n",
       "7            Support Positive  191.00\n",
       "8            Support Negative  307.00"
      ]
     },
     "execution_count": 154,
     "metadata": {},
     "output_type": "execute_result"
    }
   ],
   "source": [
    "count_scores(cm20, 'KNN-20')"
   ]
  },
  {
   "cell_type": "code",
   "execution_count": 155,
   "id": "44f4bb18",
   "metadata": {},
   "outputs": [
    {
     "data": {
      "text/plain": [
       "0      0.75\n",
       "1      0.57\n",
       "2      0.14\n",
       "3      0.86\n",
       "4      0.43\n",
       "5      0.72\n",
       "6      0.64\n",
       "7    191.00\n",
       "8    307.00\n",
       "Name: KNN-20, dtype: float64"
      ]
     },
     "execution_count": 155,
     "metadata": {},
     "output_type": "execute_result"
    }
   ],
   "source": [
    "value20 = count_scores(cm20, 'KNN-20').iloc[:, 1]\n",
    "value20"
   ]
  },
  {
   "cell_type": "markdown",
   "id": "7717a90c",
   "metadata": {},
   "source": [
    "What are the differences in the evaluation metrics? Which performs better on your in-sample data? Why?"
   ]
  },
  {
   "cell_type": "code",
   "execution_count": 156,
   "id": "2eec0377",
   "metadata": {},
   "outputs": [
    {
     "data": {
      "text/html": [
       "<div>\n",
       "<style scoped>\n",
       "    .dataframe tbody tr th:only-of-type {\n",
       "        vertical-align: middle;\n",
       "    }\n",
       "\n",
       "    .dataframe tbody tr th {\n",
       "        vertical-align: top;\n",
       "    }\n",
       "\n",
       "    .dataframe thead th {\n",
       "        text-align: right;\n",
       "    }\n",
       "</style>\n",
       "<table border=\"1\" class=\"dataframe\">\n",
       "  <thead>\n",
       "    <tr style=\"text-align: right;\">\n",
       "      <th></th>\n",
       "      <th>Score Name</th>\n",
       "      <th>KNN-5</th>\n",
       "      <th>KNN-10</th>\n",
       "      <th>KNN-20</th>\n",
       "    </tr>\n",
       "  </thead>\n",
       "  <tbody>\n",
       "    <tr>\n",
       "      <th>0</th>\n",
       "      <td>Accuracy</td>\n",
       "      <td>0.82</td>\n",
       "      <td>0.79</td>\n",
       "      <td>0.75</td>\n",
       "    </tr>\n",
       "    <tr>\n",
       "      <th>1</th>\n",
       "      <td>True Positive Rate /Recall</td>\n",
       "      <td>0.73</td>\n",
       "      <td>0.63</td>\n",
       "      <td>0.57</td>\n",
       "    </tr>\n",
       "    <tr>\n",
       "      <th>2</th>\n",
       "      <td>False Positive Rate</td>\n",
       "      <td>0.12</td>\n",
       "      <td>0.11</td>\n",
       "      <td>0.14</td>\n",
       "    </tr>\n",
       "    <tr>\n",
       "      <th>3</th>\n",
       "      <td>True Negative Rate</td>\n",
       "      <td>0.88</td>\n",
       "      <td>0.89</td>\n",
       "      <td>0.86</td>\n",
       "    </tr>\n",
       "    <tr>\n",
       "      <th>4</th>\n",
       "      <td>False Negative Rate</td>\n",
       "      <td>0.27</td>\n",
       "      <td>0.37</td>\n",
       "      <td>0.43</td>\n",
       "    </tr>\n",
       "    <tr>\n",
       "      <th>5</th>\n",
       "      <td>Precision</td>\n",
       "      <td>0.79</td>\n",
       "      <td>0.78</td>\n",
       "      <td>0.72</td>\n",
       "    </tr>\n",
       "    <tr>\n",
       "      <th>6</th>\n",
       "      <td>F1 Score</td>\n",
       "      <td>0.76</td>\n",
       "      <td>0.70</td>\n",
       "      <td>0.64</td>\n",
       "    </tr>\n",
       "    <tr>\n",
       "      <th>7</th>\n",
       "      <td>Support Positive</td>\n",
       "      <td>191.00</td>\n",
       "      <td>191.00</td>\n",
       "      <td>191.00</td>\n",
       "    </tr>\n",
       "    <tr>\n",
       "      <th>8</th>\n",
       "      <td>Support Negative</td>\n",
       "      <td>307.00</td>\n",
       "      <td>307.00</td>\n",
       "      <td>307.00</td>\n",
       "    </tr>\n",
       "  </tbody>\n",
       "</table>\n",
       "</div>"
      ],
      "text/plain": [
       "                   Score Name   KNN-5  KNN-10  KNN-20\n",
       "0                    Accuracy    0.82    0.79    0.75\n",
       "1  True Positive Rate /Recall    0.73    0.63    0.57\n",
       "2         False Positive Rate    0.12    0.11    0.14\n",
       "3          True Negative Rate    0.88    0.89    0.86\n",
       "4         False Negative Rate    0.27    0.37    0.43\n",
       "5                   Precision    0.79    0.78    0.72\n",
       "6                    F1 Score    0.76    0.70    0.64\n",
       "7            Support Positive  191.00  191.00  191.00\n",
       "8            Support Negative  307.00  307.00  307.00"
      ]
     },
     "execution_count": 156,
     "metadata": {},
     "output_type": "execute_result"
    }
   ],
   "source": [
    "pd.DataFrame({'Score Name': rates, 'KNN-5':values, 'KNN-10':values10, 'KNN-20':values20})"
   ]
  },
  {
   "cell_type": "markdown",
   "id": "528376df",
   "metadata": {},
   "source": [
    "*KNN with 5 neighbors shows the best results on the in-sample data*"
   ]
  },
  {
   "cell_type": "markdown",
   "id": "e6c823d2",
   "metadata": {},
   "source": [
    "Which model performs best on our out-of-sample data from validate?"
   ]
  },
  {
   "cell_type": "code",
   "execution_count": 99,
   "id": "627922d7",
   "metadata": {},
   "outputs": [],
   "source": [
    "pred_5 = knn5.predict(X_validate)\n",
    "pred_10 = knn10.predict(X_validate)\n",
    "pred_20 = knn20.predict(X_validate)\n",
    "valid = [pred_5, pred_10, pred_20]"
   ]
  },
  {
   "cell_type": "code",
   "execution_count": 158,
   "id": "56b250dc",
   "metadata": {},
   "outputs": [
    {
     "name": "stdout",
     "output_type": "stream",
     "text": [
      "KNN 5\n",
      "KNN 10\n",
      "KNN 20\n"
     ]
    },
    {
     "data": {
      "image/png": "[encoded data removed]",
      "text/plain": [
       "<Figure size 432x288 with 2 Axes>"
      ]
     },
     "metadata": {
      "needs_background": "light"
     },
     "output_type": "display_data"
    },
    {
     "data": {
      "image/png": "[encoded data removed]",
      "text/plain": [
       "<Figure size 432x288 with 2 Axes>"
      ]
     },
     "metadata": {
      "needs_background": "light"
     },
     "output_type": "display_data"
    },
    {
     "data": {
      "image/png": "[encoded data removed]",
      "text/plain": [
       "<Figure size 432x288 with 2 Axes>"
      ]
     },
     "metadata": {
      "needs_background": "light"
     },
     "output_type": "display_data"
    }
   ],
   "source": [
    "df = pd.DataFrame({'Score Name': rates, 'KNN-5':values, 'KNN-10':values10, 'KNN-20':values20})\n",
    "\n",
    "for i in zip([5, 10, 20], valid):\n",
    "    \n",
    "    print(f'KNN {i[0]}')\n",
    "    \n",
    "    conf_martix = confusion_matrix(y_validate, i[1])\n",
    "    disp = ConfusionMatrixDisplay(confusion_matrix=conf_martix)\n",
    "    disp.plot()\n",
    "    \n",
    "    TN, FP, FN, TP = conf_martix.ravel()\n",
    "    ALL = TP + FP + FN + TN\n",
    "\n",
    "    accuracy = round((TP + TN)/ALL, 2)\n",
    "    true_positive_rate = sensitivity = recall = power = round(TP/(TP+FN), 2)\n",
    "    false_positive_rate = false_alarm_ratio = fallout = round(FP/(FP+TN), 2)\n",
    "    true_negative_rate = specificity = selectivity = round(TN/(TN+FP), 2)\n",
    "    false_negative_rate = miss_rate = round(FN/(FN+TP), 2)\n",
    "    precision = PPV = round(TP/(TP+FP), 2)\n",
    "    f1_score = round(2*(precision*recall)/(precision+recall), 2)\n",
    "    support_pos = int(TP + FN)\n",
    "    support_neg = int(FP + TN)\n",
    "    \n",
    "    scores = pd.Series([accuracy, true_positive_rate, false_positive_rate, true_negative_rate, \n",
    "                        false_negative_rate, precision, f1_score, support_pos, support_neg])\n",
    "    \n",
    "    df['KNN-' + str(i[0]) + '-VAL'] = scores\n"
   ]
  },
  {
   "cell_type": "code",
   "execution_count": 159,
   "id": "07eaa445",
   "metadata": {},
   "outputs": [
    {
     "data": {
      "text/html": [
       "<div>\n",
       "<style scoped>\n",
       "    .dataframe tbody tr th:only-of-type {\n",
       "        vertical-align: middle;\n",
       "    }\n",
       "\n",
       "    .dataframe tbody tr th {\n",
       "        vertical-align: top;\n",
       "    }\n",
       "\n",
       "    .dataframe thead th {\n",
       "        text-align: right;\n",
       "    }\n",
       "</style>\n",
       "<table border=\"1\" class=\"dataframe\">\n",
       "  <thead>\n",
       "    <tr style=\"text-align: right;\">\n",
       "      <th></th>\n",
       "      <th>Score Name</th>\n",
       "      <th>KNN-5</th>\n",
       "      <th>KNN-10</th>\n",
       "      <th>KNN-20</th>\n",
       "      <th>KNN-5-VAL</th>\n",
       "      <th>KNN-10-VAL</th>\n",
       "      <th>KNN-20-VAL</th>\n",
       "    </tr>\n",
       "  </thead>\n",
       "  <tbody>\n",
       "    <tr>\n",
       "      <th>0</th>\n",
       "      <td>Accuracy</td>\n",
       "      <td>0.82</td>\n",
       "      <td>0.79</td>\n",
       "      <td>0.75</td>\n",
       "      <td>0.76</td>\n",
       "      <td>0.72</td>\n",
       "      <td>0.71</td>\n",
       "    </tr>\n",
       "    <tr>\n",
       "      <th>1</th>\n",
       "      <td>True Positive Rate /Recall</td>\n",
       "      <td>0.73</td>\n",
       "      <td>0.63</td>\n",
       "      <td>0.57</td>\n",
       "      <td>0.62</td>\n",
       "      <td>0.52</td>\n",
       "      <td>0.54</td>\n",
       "    </tr>\n",
       "    <tr>\n",
       "      <th>2</th>\n",
       "      <td>False Positive Rate</td>\n",
       "      <td>0.12</td>\n",
       "      <td>0.11</td>\n",
       "      <td>0.14</td>\n",
       "      <td>0.16</td>\n",
       "      <td>0.15</td>\n",
       "      <td>0.17</td>\n",
       "    </tr>\n",
       "    <tr>\n",
       "      <th>3</th>\n",
       "      <td>True Negative Rate</td>\n",
       "      <td>0.88</td>\n",
       "      <td>0.89</td>\n",
       "      <td>0.86</td>\n",
       "      <td>0.84</td>\n",
       "      <td>0.85</td>\n",
       "      <td>0.83</td>\n",
       "    </tr>\n",
       "    <tr>\n",
       "      <th>4</th>\n",
       "      <td>False Negative Rate</td>\n",
       "      <td>0.27</td>\n",
       "      <td>0.37</td>\n",
       "      <td>0.43</td>\n",
       "      <td>0.38</td>\n",
       "      <td>0.48</td>\n",
       "      <td>0.46</td>\n",
       "    </tr>\n",
       "    <tr>\n",
       "      <th>5</th>\n",
       "      <td>Precision</td>\n",
       "      <td>0.79</td>\n",
       "      <td>0.78</td>\n",
       "      <td>0.72</td>\n",
       "      <td>0.71</td>\n",
       "      <td>0.68</td>\n",
       "      <td>0.66</td>\n",
       "    </tr>\n",
       "    <tr>\n",
       "      <th>6</th>\n",
       "      <td>F1 Score</td>\n",
       "      <td>0.76</td>\n",
       "      <td>0.70</td>\n",
       "      <td>0.64</td>\n",
       "      <td>0.66</td>\n",
       "      <td>0.59</td>\n",
       "      <td>0.59</td>\n",
       "    </tr>\n",
       "    <tr>\n",
       "      <th>7</th>\n",
       "      <td>Support Positive</td>\n",
       "      <td>191.00</td>\n",
       "      <td>191.00</td>\n",
       "      <td>191.00</td>\n",
       "      <td>82.00</td>\n",
       "      <td>82.00</td>\n",
       "      <td>82.00</td>\n",
       "    </tr>\n",
       "    <tr>\n",
       "      <th>8</th>\n",
       "      <td>Support Negative</td>\n",
       "      <td>307.00</td>\n",
       "      <td>307.00</td>\n",
       "      <td>307.00</td>\n",
       "      <td>132.00</td>\n",
       "      <td>132.00</td>\n",
       "      <td>132.00</td>\n",
       "    </tr>\n",
       "  </tbody>\n",
       "</table>\n",
       "</div>"
      ],
      "text/plain": [
       "                   Score Name   KNN-5  KNN-10  KNN-20  KNN-5-VAL  KNN-10-VAL  \\\n",
       "0                    Accuracy    0.82    0.79    0.75       0.76        0.72   \n",
       "1  True Positive Rate /Recall    0.73    0.63    0.57       0.62        0.52   \n",
       "2         False Positive Rate    0.12    0.11    0.14       0.16        0.15   \n",
       "3          True Negative Rate    0.88    0.89    0.86       0.84        0.85   \n",
       "4         False Negative Rate    0.27    0.37    0.43       0.38        0.48   \n",
       "5                   Precision    0.79    0.78    0.72       0.71        0.68   \n",
       "6                    F1 Score    0.76    0.70    0.64       0.66        0.59   \n",
       "7            Support Positive  191.00  191.00  191.00      82.00       82.00   \n",
       "8            Support Negative  307.00  307.00  307.00     132.00      132.00   \n",
       "\n",
       "   KNN-20-VAL  \n",
       "0        0.71  \n",
       "1        0.54  \n",
       "2        0.17  \n",
       "3        0.83  \n",
       "4        0.46  \n",
       "5        0.66  \n",
       "6        0.59  \n",
       "7       82.00  \n",
       "8      132.00  "
      ]
     },
     "execution_count": 159,
     "metadata": {},
     "output_type": "execute_result"
    }
   ],
   "source": [
    "df"
   ]
  },
  {
   "cell_type": "code",
   "execution_count": 147,
   "id": "e379fe3c",
   "metadata": {},
   "outputs": [],
   "source": [
    "#works, don't modify\n",
    "def count_scores(confusion_matrix, model_name_str):\n",
    "    '''\n",
    "    returns a dataframe with scores of the model performing\n",
    "    '''\n",
    "    TN, FP, FN, TP = confusion_matrix.ravel()\n",
    "    ALL = TP + FP + FN + TN\n",
    "\n",
    "    accuracy = round((TP + TN)/ALL, 2)\n",
    "    true_positive_rate = sensitivity = recall = power = round(TP/(TP+FN), 2)\n",
    "    false_positive_rate = false_alarm_ratio = fallout = round(FP/(FP+TN), 2)\n",
    "    true_negative_rate = specificity = selectivity = round(TN/(TN+FP), 2)\n",
    "    false_negative_rate = miss_rate = round(FN/(FN+TP), 2)\n",
    "    precision = PPV = round(TP/(TP+FP), 2)\n",
    "    f1_score = round(2*(precision*recall)/(precision+recall), 2)\n",
    "    support_pos = int(TP + FN)\n",
    "    support_neg = int(FP + TN)\n",
    "    \n",
    "    rates = ['Accuracy', \n",
    "         'True Positive Rate /Recall', \n",
    "         'False Positive Rate', \n",
    "         'True Negative Rate', \n",
    "         'False Negative Rate',\n",
    "         'Precision', \n",
    "         'F1 Score',\n",
    "         'Support Positive',\n",
    "         'Support Negative']\n",
    "    scores = pd.Series([accuracy, true_positive_rate, false_positive_rate, true_negative_rate, \n",
    "                        false_negative_rate, precision, f1_score, support_pos, support_neg])\n",
    "    \n",
    "    return pd.DataFrame({'Score Name':rates, model_name_str:scores})"
   ]
  },
  {
   "cell_type": "code",
   "execution_count": 164,
   "id": "f6a2eccf",
   "metadata": {},
   "outputs": [],
   "source": [
    "def display_cm(confusion_matrix):\n",
    "    disp = ConfusionMatrixDisplay(confusion_matrix=conf_martix)\n",
    "    disp.plot()"
   ]
  },
  {
   "cell_type": "code",
   "execution_count": 182,
   "id": "b8c63723",
   "metadata": {},
   "outputs": [
    {
     "data": {
      "image/png": "[encoded data removed]",
      "text/plain": [
       "<Figure size 432x288 with 2 Axes>"
      ]
     },
     "metadata": {
      "needs_background": "light"
     },
     "output_type": "display_data"
    },
    {
     "data": {
      "image/png": "[encoded data removed]",
      "text/plain": [
       "<Figure size 432x288 with 2 Axes>"
      ]
     },
     "metadata": {
      "needs_background": "light"
     },
     "output_type": "display_data"
    },
    {
     "data": {
      "image/png": "[encoded data removed]",
      "text/plain": [
       "<Figure size 432x288 with 2 Axes>"
      ]
     },
     "metadata": {
      "needs_background": "light"
     },
     "output_type": "display_data"
    }
   ],
   "source": [
    "df = pd.DataFrame({'Score Name': rates, 'KNN-5':values, 'KNN-10':values10, 'KNN-20':values20})\n",
    "df1 = pd.DataFrame()\n",
    "\n",
    "for i in zip([5, 10, 20], valid):\n",
    "    \n",
    "    name = 'KNN-' + str(i[0])\n",
    "    name_val = 'KNN-' + str(i[0]) + '-VAL'\n",
    "    #print(name)\n",
    "    conf_martix = confusion_matrix(y_validate, i[1])\n",
    "    display_cm(conf_martix)\n",
    "    scores = count_scores(conf_martix, name_val)\n",
    "    df[name_val] = scores.loc[:, name_val]\n",
    "    df1['difference-'+name] = abs(df[name_val] - df[name])"
   ]
  },
  {
   "cell_type": "code",
   "execution_count": 184,
   "id": "8137463e",
   "metadata": {},
   "outputs": [],
   "source": [
    "col = df.columns.tolist()"
   ]
  },
  {
   "cell_type": "code",
   "execution_count": 185,
   "id": "3bc74a52",
   "metadata": {
    "scrolled": true
   },
   "outputs": [
    {
     "data": {
      "text/plain": [
       "['Score Name',\n",
       " 'KNN-5',\n",
       " 'KNN-10',\n",
       " 'KNN-20',\n",
       " 'KNN-5-VAL',\n",
       " 'KNN-10-VAL',\n",
       " 'KNN-20-VAL']"
      ]
     },
     "execution_count": 185,
     "metadata": {},
     "output_type": "execute_result"
    }
   ],
   "source": [
    "col"
   ]
  },
  {
   "cell_type": "code",
   "execution_count": 193,
   "id": "0b71b507",
   "metadata": {},
   "outputs": [],
   "source": [
    "df1.index = df['Score Name'].tolist()"
   ]
  },
  {
   "cell_type": "code",
   "execution_count": 194,
   "id": "16f0d200",
   "metadata": {},
   "outputs": [
    {
     "data": {
      "text/html": [
       "<div>\n",
       "<style scoped>\n",
       "    .dataframe tbody tr th:only-of-type {\n",
       "        vertical-align: middle;\n",
       "    }\n",
       "\n",
       "    .dataframe tbody tr th {\n",
       "        vertical-align: top;\n",
       "    }\n",
       "\n",
       "    .dataframe thead th {\n",
       "        text-align: right;\n",
       "    }\n",
       "</style>\n",
       "<table border=\"1\" class=\"dataframe\">\n",
       "  <thead>\n",
       "    <tr style=\"text-align: right;\">\n",
       "      <th></th>\n",
       "      <th>difference-KNN-5</th>\n",
       "      <th>difference-KNN-10</th>\n",
       "      <th>difference-KNN-20</th>\n",
       "    </tr>\n",
       "  </thead>\n",
       "  <tbody>\n",
       "    <tr>\n",
       "      <th>Accuracy</th>\n",
       "      <td>0.06</td>\n",
       "      <td>0.07</td>\n",
       "      <td>0.04</td>\n",
       "    </tr>\n",
       "    <tr>\n",
       "      <th>True Positive Rate /Recall</th>\n",
       "      <td>0.11</td>\n",
       "      <td>0.11</td>\n",
       "      <td>0.03</td>\n",
       "    </tr>\n",
       "    <tr>\n",
       "      <th>False Positive Rate</th>\n",
       "      <td>0.04</td>\n",
       "      <td>0.04</td>\n",
       "      <td>0.03</td>\n",
       "    </tr>\n",
       "    <tr>\n",
       "      <th>True Negative Rate</th>\n",
       "      <td>0.04</td>\n",
       "      <td>0.04</td>\n",
       "      <td>0.03</td>\n",
       "    </tr>\n",
       "    <tr>\n",
       "      <th>False Negative Rate</th>\n",
       "      <td>0.11</td>\n",
       "      <td>0.11</td>\n",
       "      <td>0.03</td>\n",
       "    </tr>\n",
       "    <tr>\n",
       "      <th>Precision</th>\n",
       "      <td>0.08</td>\n",
       "      <td>0.10</td>\n",
       "      <td>0.06</td>\n",
       "    </tr>\n",
       "    <tr>\n",
       "      <th>F1 Score</th>\n",
       "      <td>0.10</td>\n",
       "      <td>0.11</td>\n",
       "      <td>0.05</td>\n",
       "    </tr>\n",
       "    <tr>\n",
       "      <th>Support Positive</th>\n",
       "      <td>109.00</td>\n",
       "      <td>109.00</td>\n",
       "      <td>109.00</td>\n",
       "    </tr>\n",
       "    <tr>\n",
       "      <th>Support Negative</th>\n",
       "      <td>175.00</td>\n",
       "      <td>175.00</td>\n",
       "      <td>175.00</td>\n",
       "    </tr>\n",
       "  </tbody>\n",
       "</table>\n",
       "</div>"
      ],
      "text/plain": [
       "                            difference-KNN-5  difference-KNN-10  \\\n",
       "Accuracy                                0.06               0.07   \n",
       "True Positive Rate /Recall              0.11               0.11   \n",
       "False Positive Rate                     0.04               0.04   \n",
       "True Negative Rate                      0.04               0.04   \n",
       "False Negative Rate                     0.11               0.11   \n",
       "Precision                               0.08               0.10   \n",
       "F1 Score                                0.10               0.11   \n",
       "Support Positive                      109.00             109.00   \n",
       "Support Negative                      175.00             175.00   \n",
       "\n",
       "                            difference-KNN-20  \n",
       "Accuracy                                 0.04  \n",
       "True Positive Rate /Recall               0.03  \n",
       "False Positive Rate                      0.03  \n",
       "True Negative Rate                       0.03  \n",
       "False Negative Rate                      0.03  \n",
       "Precision                                0.06  \n",
       "F1 Score                                 0.05  \n",
       "Support Positive                       109.00  \n",
       "Support Negative                       175.00  "
      ]
     },
     "execution_count": 194,
     "metadata": {},
     "output_type": "execute_result"
    }
   ],
   "source": [
    "df1"
   ]
  }
 ],
 "metadata": {
  "kernelspec": {
   "display_name": "Python 3 (ipykernel)",
   "language": "python",
   "name": "python3"
  },
  "language_info": {
   "codemirror_mode": {
    "name": "ipython",
    "version": 3
   },
   "file_extension": ".py",
   "mimetype": "text/x-python",
   "name": "python",
   "nbconvert_exporter": "python",
   "pygments_lexer": "ipython3",
   "version": "3.9.12"
  }
 },
 "nbformat": 4,
 "nbformat_minor": 5
}
