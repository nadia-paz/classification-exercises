{
 "cells": [
  {
   "cell_type": "markdown",
   "id": "6cd0604f",
   "metadata": {},
   "source": [
    "## Random Forest Exercises "
   ]
  },
  {
   "cell_type": "code",
   "execution_count": 1,
   "id": "13d232fd",
   "metadata": {},
   "outputs": [],
   "source": [
    "# General DS Imports\n",
    "import matplotlib.pyplot as plt\n",
    "import numpy as np\n",
    "import pandas as pd\n",
    "import seaborn as sns"
   ]
  },
  {
   "cell_type": "code",
   "execution_count": 2,
   "id": "ac156c92",
   "metadata": {},
   "outputs": [],
   "source": [
    "from sklearn.model_selection import train_test_split\n",
    "from sklearn.ensemble import RandomForestClassifier\n",
    "from sklearn.metrics import classification_report, confusion_matrix, ConfusionMatrixDisplay"
   ]
  },
  {
   "cell_type": "code",
   "execution_count": 3,
   "id": "6175329f",
   "metadata": {},
   "outputs": [],
   "source": [
    "#python files imports\n",
    "import acquire\n",
    "import prepare"
   ]
  },
  {
   "cell_type": "markdown",
   "id": "a3f4c574",
   "metadata": {},
   "source": [
    "Continue working in your ```model``` file with titanic data to do the following:"
   ]
  },
  {
   "cell_type": "code",
   "execution_count": 4,
   "id": "a29af458",
   "metadata": {},
   "outputs": [],
   "source": [
    "titanic = acquire.get_titanic_data()"
   ]
  },
  {
   "cell_type": "code",
   "execution_count": 5,
   "id": "2cce61ec",
   "metadata": {},
   "outputs": [],
   "source": [
    "X_train, X_validate, X_test, y_train, y_validate, y_test = prepare.prep_titanic_6(titanic)"
   ]
  },
  {
   "cell_type": "code",
   "execution_count": 6,
   "id": "7acc335a",
   "metadata": {},
   "outputs": [
    {
     "data": {
      "text/plain": [
       "Index(['age', 'sibsp', 'parch', 'fare', 'alone', 'sex_male', 'class_Second',\n",
       "       'class_Third', 'embark_town_Queenstown', 'embark_town_Southampton'],\n",
       "      dtype='object')"
      ]
     },
     "execution_count": 6,
     "metadata": {},
     "output_type": "execute_result"
    }
   ],
   "source": [
    "X_train.columns"
   ]
  },
  {
   "cell_type": "code",
   "execution_count": 7,
   "id": "579afcdb",
   "metadata": {},
   "outputs": [
    {
     "data": {
      "text/plain": [
       "583    0\n",
       "165    1\n",
       "50     0\n",
       "259    1\n",
       "306    1\n",
       "Name: survived, dtype: int64"
      ]
     },
     "execution_count": 7,
     "metadata": {},
     "output_type": "execute_result"
    }
   ],
   "source": [
    "y_train[:5]"
   ]
  },
  {
   "cell_type": "markdown",
   "id": "556edf20",
   "metadata": {},
   "source": [
    "1. Fit the Random Forest classifier to your training sample and transform (i.e. make predictions on the training sample) setting the ```random_state``` accordingly and setting ```min_samples_leaf = 1``` and ```max_depth = 10```."
   ]
  },
  {
   "cell_type": "code",
   "execution_count": 9,
   "id": "e5a97e9f",
   "metadata": {},
   "outputs": [],
   "source": [
    "rf = RandomForestClassifier(max_depth=10, min_samples_leaf=1, random_state=123)"
   ]
  },
  {
   "cell_type": "code",
   "execution_count": 10,
   "id": "37443d10",
   "metadata": {},
   "outputs": [
    {
     "data": {
      "text/plain": [
       "RandomForestClassifier(max_depth=10, random_state=123)"
      ]
     },
     "execution_count": 10,
     "metadata": {},
     "output_type": "execute_result"
    }
   ],
   "source": [
    "rf.fit(X_train, y_train)"
   ]
  },
  {
   "cell_type": "code",
   "execution_count": 16,
   "id": "8ac33c5e",
   "metadata": {},
   "outputs": [
    {
     "data": {
      "text/plain": [
       "Index(['age', 'sibsp', 'parch', 'fare', 'alone', 'sex_male', 'class_Second',\n",
       "       'class_Third', 'embark_town_Queenstown', 'embark_town_Southampton'],\n",
       "      dtype='object')"
      ]
     },
     "metadata": {},
     "output_type": "display_data"
    },
    {
     "name": "stdout",
     "output_type": "stream",
     "text": [
      "<class 'numpy.ndarray'>\n"
     ]
    },
    {
     "data": {
      "text/html": [
       "<div>\n",
       "<style scoped>\n",
       "    .dataframe tbody tr th:only-of-type {\n",
       "        vertical-align: middle;\n",
       "    }\n",
       "\n",
       "    .dataframe tbody tr th {\n",
       "        vertical-align: top;\n",
       "    }\n",
       "\n",
       "    .dataframe thead th {\n",
       "        text-align: right;\n",
       "    }\n",
       "</style>\n",
       "<table border=\"1\" class=\"dataframe\">\n",
       "  <thead>\n",
       "    <tr style=\"text-align: right;\">\n",
       "      <th></th>\n",
       "      <th>Feature</th>\n",
       "      <th>Importance</th>\n",
       "    </tr>\n",
       "  </thead>\n",
       "  <tbody>\n",
       "    <tr>\n",
       "      <th>0</th>\n",
       "      <td>age</td>\n",
       "      <td>0.212240</td>\n",
       "    </tr>\n",
       "    <tr>\n",
       "      <th>1</th>\n",
       "      <td>sibsp</td>\n",
       "      <td>0.056563</td>\n",
       "    </tr>\n",
       "    <tr>\n",
       "      <th>2</th>\n",
       "      <td>parch</td>\n",
       "      <td>0.032821</td>\n",
       "    </tr>\n",
       "    <tr>\n",
       "      <th>3</th>\n",
       "      <td>fare</td>\n",
       "      <td>0.247212</td>\n",
       "    </tr>\n",
       "    <tr>\n",
       "      <th>4</th>\n",
       "      <td>alone</td>\n",
       "      <td>0.017445</td>\n",
       "    </tr>\n",
       "    <tr>\n",
       "      <th>5</th>\n",
       "      <td>sex_male</td>\n",
       "      <td>0.309763</td>\n",
       "    </tr>\n",
       "    <tr>\n",
       "      <th>6</th>\n",
       "      <td>class_Second</td>\n",
       "      <td>0.020140</td>\n",
       "    </tr>\n",
       "    <tr>\n",
       "      <th>7</th>\n",
       "      <td>class_Third</td>\n",
       "      <td>0.063835</td>\n",
       "    </tr>\n",
       "    <tr>\n",
       "      <th>8</th>\n",
       "      <td>embark_town_Queenstown</td>\n",
       "      <td>0.012958</td>\n",
       "    </tr>\n",
       "    <tr>\n",
       "      <th>9</th>\n",
       "      <td>embark_town_Southampton</td>\n",
       "      <td>0.027025</td>\n",
       "    </tr>\n",
       "  </tbody>\n",
       "</table>\n",
       "</div>"
      ],
      "text/plain": [
       "                   Feature  Importance\n",
       "0                      age    0.212240\n",
       "1                    sibsp    0.056563\n",
       "2                    parch    0.032821\n",
       "3                     fare    0.247212\n",
       "4                    alone    0.017445\n",
       "5                 sex_male    0.309763\n",
       "6             class_Second    0.020140\n",
       "7              class_Third    0.063835\n",
       "8   embark_town_Queenstown    0.012958\n",
       "9  embark_town_Southampton    0.027025"
      ]
     },
     "execution_count": 16,
     "metadata": {},
     "output_type": "execute_result"
    }
   ],
   "source": [
    "display(X_train.columns)\n",
    "print(type(rf.feature_importances_))\n",
    "\n",
    "pd.DataFrame({'Feature': X_train.columns, 'Importance': rf.feature_importances_})"
   ]
  },
  {
   "cell_type": "code",
   "execution_count": 29,
   "id": "4d77c750",
   "metadata": {},
   "outputs": [
    {
     "data": {
      "image/png": "[encoded data removed]",
      "text/plain": [
       "<Figure size 1440x432 with 1 Axes>"
      ]
     },
     "metadata": {
      "needs_background": "light"
     },
     "output_type": "display_data"
    }
   ],
   "source": [
    "plt.figure(figsize = (20, 6))\n",
    "#plt.bar(X_train.columns, rf.feature_importances_)\n",
    "sns.barplot(x = X_train.columns, y = rf.feature_importances_)\n",
    "plt.xticks(rotation = 45)\n",
    "plt.title('Feature importance')\n",
    "plt.show()"
   ]
  },
  {
   "cell_type": "code",
   "execution_count": 30,
   "id": "44d98d26",
   "metadata": {},
   "outputs": [],
   "source": [
    "#predict survival\n",
    "y_pred = rf.predict(X_train)"
   ]
  },
  {
   "cell_type": "code",
   "execution_count": 32,
   "id": "2572dfc0",
   "metadata": {},
   "outputs": [
    {
     "data": {
      "text/plain": [
       "array([[0.73437185, 0.26562815],\n",
       "       [0.25222222, 0.74777778]])"
      ]
     },
     "execution_count": 32,
     "metadata": {},
     "output_type": "execute_result"
    }
   ],
   "source": [
    "#esmimate probability of each person to survive\n",
    "y_pred_proba = rf.predict_proba(X_train)\n",
    "y_pred_proba[:2]"
   ]
  },
  {
   "cell_type": "markdown",
   "id": "2cb1fbe3",
   "metadata": {},
   "source": [
    "2. Evaluate your results using the model score, confusion matrix, and classification report."
   ]
  },
  {
   "cell_type": "code",
   "execution_count": 33,
   "id": "72cad958",
   "metadata": {},
   "outputs": [
    {
     "name": "stdout",
     "output_type": "stream",
     "text": [
      "Accuracy of random forest classifier on training set: 0.97\n"
     ]
    }
   ],
   "source": [
    "print('Accuracy of random forest classifier on training set: {:.2f}'\n",
    "     .format(rf.score(X_train, y_train)))"
   ]
  },
  {
   "cell_type": "code",
   "execution_count": 34,
   "id": "02dd48d3",
   "metadata": {},
   "outputs": [
    {
     "name": "stdout",
     "output_type": "stream",
     "text": [
      "[[307   0]\n",
      " [ 14 177]]\n"
     ]
    }
   ],
   "source": [
    "cm = confusion_matrix(y_train, y_pred)\n",
    "print(cm)"
   ]
  },
  {
   "cell_type": "code",
   "execution_count": 43,
   "id": "c8ee2c33",
   "metadata": {
    "scrolled": true
   },
   "outputs": [
    {
     "data": {
      "image/png": "[encoded data removed]",
      "text/plain": [
       "<Figure size 432x288 with 2 Axes>"
      ]
     },
     "metadata": {
      "needs_background": "light"
     },
     "output_type": "display_data"
    }
   ],
   "source": [
    "disp = ConfusionMatrixDisplay(confusion_matrix=cm, display_labels=rf.classes_)\n",
    "\n",
    "disp.plot(cmap='Spectral')\n",
    "\n",
    "plt.show()"
   ]
  },
  {
   "cell_type": "code",
   "execution_count": 44,
   "id": "b6389382",
   "metadata": {},
   "outputs": [
    {
     "name": "stdout",
     "output_type": "stream",
     "text": [
      "              precision    recall  f1-score   support\n",
      "\n",
      "           0       0.96      1.00      0.98       307\n",
      "           1       1.00      0.93      0.96       191\n",
      "\n",
      "    accuracy                           0.97       498\n",
      "   macro avg       0.98      0.96      0.97       498\n",
      "weighted avg       0.97      0.97      0.97       498\n",
      "\n"
     ]
    }
   ],
   "source": [
    "print(classification_report(y_train, y_pred))"
   ]
  },
  {
   "cell_type": "markdown",
   "id": "a071be84",
   "metadata": {},
   "source": [
    "3. Print and clearly label the following: Accuracy, true positive rate, false positive rate, true negative rate, false negative rate, precision, recall, f1-score, and support."
   ]
  },
  {
   "cell_type": "code",
   "execution_count": 46,
   "id": "11182eaf",
   "metadata": {},
   "outputs": [],
   "source": [
    "TN, FP, FN, TP = confusion_matrix(y_train, y_pred).ravel()"
   ]
  },
  {
   "cell_type": "code",
   "execution_count": 87,
   "id": "f3e9d56d",
   "metadata": {},
   "outputs": [
    {
     "data": {
      "text/plain": [
       "(307, 0, 14, 177)"
      ]
     },
     "execution_count": 87,
     "metadata": {},
     "output_type": "execute_result"
    }
   ],
   "source": [
    "TN, FP, FN, TP"
   ]
  },
  {
   "cell_type": "code",
   "execution_count": 47,
   "id": "f9719ec7",
   "metadata": {},
   "outputs": [
    {
     "name": "stdout",
     "output_type": "stream",
     "text": [
      "Negative Cases: 307\n",
      "Positive Cases: 191\n",
      "0    307\n",
      "1    191\n",
      "Name: survived, dtype: int64\n"
     ]
    }
   ],
   "source": [
    "negative_cases = TN + FP\n",
    "positive_cases = FN + TP\n",
    "print(f\"Negative Cases: {negative_cases}\")\n",
    "print(f\"Positive Cases: {positive_cases}\")\n",
    "print(y_train.value_counts())"
   ]
  },
  {
   "cell_type": "code",
   "execution_count": 66,
   "id": "cc0b7361",
   "metadata": {},
   "outputs": [],
   "source": [
    "ALL = TP + FP + FN + TN\n",
    "\n",
    "accuracy = round((TP + TN)/ALL, 2)\n",
    "true_positive_rate = sensitivity = recall = power = round(TP/(TP+FN), 2)\n",
    "false_positive_rate = false_alarm_ratio = fallout = round(FP/(FP+TN), 2)\n",
    "true_negative_rate = specificity = selectivity = round(TN/(TN+FP), 2)\n",
    "false_negative_rate = miss_rate = round(FN/(FN+TP), 2)\n",
    "precision = PPV = round(TP/(TP+FP), 2)\n",
    "f1_score = round(2*(precision*recall)/(precision+recall), 2)\n",
    "support_pos = int(TP + FN)\n",
    "support_neg = int(FP + TN)"
   ]
  },
  {
   "cell_type": "code",
   "execution_count": 49,
   "id": "63e0c0bc",
   "metadata": {},
   "outputs": [],
   "source": [
    "rates = ['Accuracy', \n",
    "         'True Positive Rate /Recall', \n",
    "         'False Positive Rate', \n",
    "         'True Negative Rate', \n",
    "         'False Negative Rate',\n",
    "         'Precision', \n",
    "         'F1 Score',\n",
    "         'Support Positive',\n",
    "         'Support Negative']"
   ]
  },
  {
   "cell_type": "code",
   "execution_count": 67,
   "id": "02a3a78e",
   "metadata": {},
   "outputs": [],
   "source": [
    "values = pd.Series([accuracy, true_positive_rate, false_positive_rate, true_negative_rate, false_negative_rate, \n",
    "         precision, f1_score, support_pos, support_neg])"
   ]
  },
  {
   "cell_type": "code",
   "execution_count": 64,
   "id": "0d69ea23",
   "metadata": {},
   "outputs": [
    {
     "data": {
      "text/plain": [
       "True"
      ]
     },
     "execution_count": 64,
     "metadata": {},
     "output_type": "execute_result"
    }
   ],
   "source": [
    "len(rates) == len(values)"
   ]
  },
  {
   "cell_type": "code",
   "execution_count": 68,
   "id": "58623b56",
   "metadata": {},
   "outputs": [
    {
     "data": {
      "text/html": [
       "<div>\n",
       "<style scoped>\n",
       "    .dataframe tbody tr th:only-of-type {\n",
       "        vertical-align: middle;\n",
       "    }\n",
       "\n",
       "    .dataframe tbody tr th {\n",
       "        vertical-align: top;\n",
       "    }\n",
       "\n",
       "    .dataframe thead th {\n",
       "        text-align: right;\n",
       "    }\n",
       "</style>\n",
       "<table border=\"1\" class=\"dataframe\">\n",
       "  <thead>\n",
       "    <tr style=\"text-align: right;\">\n",
       "      <th></th>\n",
       "      <th>Score Name</th>\n",
       "      <th>Scores</th>\n",
       "    </tr>\n",
       "  </thead>\n",
       "  <tbody>\n",
       "    <tr>\n",
       "      <th>0</th>\n",
       "      <td>Accuracy</td>\n",
       "      <td>0.97</td>\n",
       "    </tr>\n",
       "    <tr>\n",
       "      <th>1</th>\n",
       "      <td>True Positive Rate /Recall</td>\n",
       "      <td>0.93</td>\n",
       "    </tr>\n",
       "    <tr>\n",
       "      <th>2</th>\n",
       "      <td>False Positive Rate</td>\n",
       "      <td>0.00</td>\n",
       "    </tr>\n",
       "    <tr>\n",
       "      <th>3</th>\n",
       "      <td>True Negative Rate</td>\n",
       "      <td>1.00</td>\n",
       "    </tr>\n",
       "    <tr>\n",
       "      <th>4</th>\n",
       "      <td>False Negative Rate</td>\n",
       "      <td>0.07</td>\n",
       "    </tr>\n",
       "    <tr>\n",
       "      <th>5</th>\n",
       "      <td>Precision</td>\n",
       "      <td>1.00</td>\n",
       "    </tr>\n",
       "    <tr>\n",
       "      <th>6</th>\n",
       "      <td>F1 Score</td>\n",
       "      <td>0.96</td>\n",
       "    </tr>\n",
       "    <tr>\n",
       "      <th>7</th>\n",
       "      <td>Support Positive</td>\n",
       "      <td>191.00</td>\n",
       "    </tr>\n",
       "    <tr>\n",
       "      <th>8</th>\n",
       "      <td>Support Negative</td>\n",
       "      <td>307.00</td>\n",
       "    </tr>\n",
       "  </tbody>\n",
       "</table>\n",
       "</div>"
      ],
      "text/plain": [
       "                   Score Name  Scores\n",
       "0                    Accuracy    0.97\n",
       "1  True Positive Rate /Recall    0.93\n",
       "2         False Positive Rate    0.00\n",
       "3          True Negative Rate    1.00\n",
       "4         False Negative Rate    0.07\n",
       "5                   Precision    1.00\n",
       "6                    F1 Score    0.96\n",
       "7            Support Positive  191.00\n",
       "8            Support Negative  307.00"
      ]
     },
     "execution_count": 68,
     "metadata": {},
     "output_type": "execute_result"
    }
   ],
   "source": [
    "pd.DataFrame({'Score Name':rates, 'Scores':values})"
   ]
  },
  {
   "cell_type": "markdown",
   "id": "6a309502",
   "metadata": {},
   "source": [
    "4. Run through steps increasing your min_samples_leaf and decreasing your max_depth."
   ]
  },
  {
   "cell_type": "code",
   "execution_count": 6,
   "id": "fc503834",
   "metadata": {},
   "outputs": [],
   "source": [
    "metrics = []\n",
    "\n",
    "for msl in range(1, 11):\n",
    "    for depth in range(10, 0, -1):\n",
    "        #create random forest\n",
    "        rf = RandomForestClassifier(max_depth=depth, min_samples_leaf=msl, random_state=123)\n",
    "        #fit the model\n",
    "        rf.fit(X_train, y_train)\n",
    "        \n",
    "        in_sample_accuracy = rf.score(X_train, y_train)\n",
    "        \n",
    "        out_sample_accuracy = rf.score(X_validate, y_validate)\n",
    "        \n",
    "        difference = abs(out_sample_accuracy - in_sample_accuracy)\n",
    "        \n",
    "        predictions = rf.predict(X_validate)\n",
    "        TN, FP, FN, TP = confusion_matrix(y_validate, predictions).ravel()\n",
    "        \n",
    "        output = {\n",
    "            'max_depth': depth,\n",
    "            'min_samples_leaf': msl,\n",
    "            'train_accuracy': in_sample_accuracy,\n",
    "            'validate_accuracy': out_sample_accuracy,\n",
    "            'false_positive': FP,\n",
    "            'false_negative': FN,\n",
    "            'difference': difference\n",
    "            }\n",
    "        metrics.append(output)"
   ]
  },
  {
   "cell_type": "code",
   "execution_count": 7,
   "id": "f75149b1",
   "metadata": {},
   "outputs": [],
   "source": [
    "df = pd.DataFrame(metrics)"
   ]
  },
  {
   "cell_type": "code",
   "execution_count": 8,
   "id": "1a97a4ba",
   "metadata": {
    "scrolled": false
   },
   "outputs": [
    {
     "data": {
      "text/html": [
       "<div>\n",
       "<style scoped>\n",
       "    .dataframe tbody tr th:only-of-type {\n",
       "        vertical-align: middle;\n",
       "    }\n",
       "\n",
       "    .dataframe tbody tr th {\n",
       "        vertical-align: top;\n",
       "    }\n",
       "\n",
       "    .dataframe thead th {\n",
       "        text-align: right;\n",
       "    }\n",
       "</style>\n",
       "<table border=\"1\" class=\"dataframe\">\n",
       "  <thead>\n",
       "    <tr style=\"text-align: right;\">\n",
       "      <th></th>\n",
       "      <th>max_depth</th>\n",
       "      <th>min_samples_leaf</th>\n",
       "      <th>train_accuracy</th>\n",
       "      <th>validate_accuracy</th>\n",
       "      <th>false_positive</th>\n",
       "      <th>false_negative</th>\n",
       "      <th>difference</th>\n",
       "    </tr>\n",
       "  </thead>\n",
       "  <tbody>\n",
       "    <tr>\n",
       "      <th>0</th>\n",
       "      <td>10</td>\n",
       "      <td>1</td>\n",
       "      <td>0.971888</td>\n",
       "      <td>0.817757</td>\n",
       "      <td>17</td>\n",
       "      <td>22</td>\n",
       "      <td>0.154131</td>\n",
       "    </tr>\n",
       "    <tr>\n",
       "      <th>1</th>\n",
       "      <td>9</td>\n",
       "      <td>1</td>\n",
       "      <td>0.963855</td>\n",
       "      <td>0.813084</td>\n",
       "      <td>17</td>\n",
       "      <td>23</td>\n",
       "      <td>0.150771</td>\n",
       "    </tr>\n",
       "    <tr>\n",
       "      <th>2</th>\n",
       "      <td>8</td>\n",
       "      <td>1</td>\n",
       "      <td>0.943775</td>\n",
       "      <td>0.813084</td>\n",
       "      <td>14</td>\n",
       "      <td>26</td>\n",
       "      <td>0.130691</td>\n",
       "    </tr>\n",
       "    <tr>\n",
       "      <th>3</th>\n",
       "      <td>7</td>\n",
       "      <td>1</td>\n",
       "      <td>0.913655</td>\n",
       "      <td>0.813084</td>\n",
       "      <td>15</td>\n",
       "      <td>25</td>\n",
       "      <td>0.100571</td>\n",
       "    </tr>\n",
       "    <tr>\n",
       "      <th>4</th>\n",
       "      <td>6</td>\n",
       "      <td>1</td>\n",
       "      <td>0.887550</td>\n",
       "      <td>0.813084</td>\n",
       "      <td>12</td>\n",
       "      <td>28</td>\n",
       "      <td>0.074466</td>\n",
       "    </tr>\n",
       "  </tbody>\n",
       "</table>\n",
       "</div>"
      ],
      "text/plain": [
       "   max_depth  min_samples_leaf  train_accuracy  validate_accuracy  \\\n",
       "0         10                 1        0.971888           0.817757   \n",
       "1          9                 1        0.963855           0.813084   \n",
       "2          8                 1        0.943775           0.813084   \n",
       "3          7                 1        0.913655           0.813084   \n",
       "4          6                 1        0.887550           0.813084   \n",
       "\n",
       "   false_positive  false_negative  difference  \n",
       "0              17              22    0.154131  \n",
       "1              17              23    0.150771  \n",
       "2              14              26    0.130691  \n",
       "3              15              25    0.100571  \n",
       "4              12              28    0.074466  "
      ]
     },
     "execution_count": 8,
     "metadata": {},
     "output_type": "execute_result"
    }
   ],
   "source": [
    "df.head()"
   ]
  },
  {
   "cell_type": "code",
   "execution_count": 80,
   "id": "6a676273",
   "metadata": {},
   "outputs": [],
   "source": [
    "best_scores = df[(df.train_accuracy == df.train_accuracy.max()) |\n",
    "                (df.validate_accuracy == df.validate_accuracy.max()) \n",
    "                (df.difference == df.difference.min())]"
   ]
  },
  {
   "cell_type": "code",
   "execution_count": 111,
   "id": "858d524e",
   "metadata": {
    "scrolled": true
   },
   "outputs": [
    {
     "data": {
      "text/html": [
       "<div>\n",
       "<style scoped>\n",
       "    .dataframe tbody tr th:only-of-type {\n",
       "        vertical-align: middle;\n",
       "    }\n",
       "\n",
       "    .dataframe tbody tr th {\n",
       "        vertical-align: top;\n",
       "    }\n",
       "\n",
       "    .dataframe thead th {\n",
       "        text-align: right;\n",
       "    }\n",
       "</style>\n",
       "<table border=\"1\" class=\"dataframe\">\n",
       "  <thead>\n",
       "    <tr style=\"text-align: right;\">\n",
       "      <th></th>\n",
       "      <th>max_depth</th>\n",
       "      <th>min_samples_leaf</th>\n",
       "      <th>train_accuracy</th>\n",
       "      <th>validate_accuracy</th>\n",
       "      <th>false_positive</th>\n",
       "      <th>false_negative</th>\n",
       "      <th>difference</th>\n",
       "    </tr>\n",
       "  </thead>\n",
       "  <tbody>\n",
       "    <tr>\n",
       "      <th>9</th>\n",
       "      <td>1</td>\n",
       "      <td>1</td>\n",
       "      <td>0.779116</td>\n",
       "      <td>0.761682</td>\n",
       "      <td>15</td>\n",
       "      <td>36</td>\n",
       "      <td>0.017434</td>\n",
       "    </tr>\n",
       "    <tr>\n",
       "      <th>19</th>\n",
       "      <td>1</td>\n",
       "      <td>2</td>\n",
       "      <td>0.779116</td>\n",
       "      <td>0.761682</td>\n",
       "      <td>15</td>\n",
       "      <td>36</td>\n",
       "      <td>0.017434</td>\n",
       "    </tr>\n",
       "    <tr>\n",
       "      <th>29</th>\n",
       "      <td>1</td>\n",
       "      <td>3</td>\n",
       "      <td>0.779116</td>\n",
       "      <td>0.761682</td>\n",
       "      <td>15</td>\n",
       "      <td>36</td>\n",
       "      <td>0.017434</td>\n",
       "    </tr>\n",
       "    <tr>\n",
       "      <th>39</th>\n",
       "      <td>1</td>\n",
       "      <td>4</td>\n",
       "      <td>0.779116</td>\n",
       "      <td>0.761682</td>\n",
       "      <td>15</td>\n",
       "      <td>36</td>\n",
       "      <td>0.017434</td>\n",
       "    </tr>\n",
       "    <tr>\n",
       "      <th>49</th>\n",
       "      <td>1</td>\n",
       "      <td>5</td>\n",
       "      <td>0.779116</td>\n",
       "      <td>0.761682</td>\n",
       "      <td>15</td>\n",
       "      <td>36</td>\n",
       "      <td>0.017434</td>\n",
       "    </tr>\n",
       "    <tr>\n",
       "      <th>59</th>\n",
       "      <td>1</td>\n",
       "      <td>6</td>\n",
       "      <td>0.779116</td>\n",
       "      <td>0.761682</td>\n",
       "      <td>15</td>\n",
       "      <td>36</td>\n",
       "      <td>0.017434</td>\n",
       "    </tr>\n",
       "    <tr>\n",
       "      <th>69</th>\n",
       "      <td>1</td>\n",
       "      <td>7</td>\n",
       "      <td>0.779116</td>\n",
       "      <td>0.761682</td>\n",
       "      <td>15</td>\n",
       "      <td>36</td>\n",
       "      <td>0.017434</td>\n",
       "    </tr>\n",
       "    <tr>\n",
       "      <th>79</th>\n",
       "      <td>1</td>\n",
       "      <td>8</td>\n",
       "      <td>0.779116</td>\n",
       "      <td>0.761682</td>\n",
       "      <td>15</td>\n",
       "      <td>36</td>\n",
       "      <td>0.017434</td>\n",
       "    </tr>\n",
       "    <tr>\n",
       "      <th>89</th>\n",
       "      <td>1</td>\n",
       "      <td>9</td>\n",
       "      <td>0.779116</td>\n",
       "      <td>0.761682</td>\n",
       "      <td>15</td>\n",
       "      <td>36</td>\n",
       "      <td>0.017434</td>\n",
       "    </tr>\n",
       "    <tr>\n",
       "      <th>99</th>\n",
       "      <td>1</td>\n",
       "      <td>10</td>\n",
       "      <td>0.779116</td>\n",
       "      <td>0.761682</td>\n",
       "      <td>15</td>\n",
       "      <td>36</td>\n",
       "      <td>0.017434</td>\n",
       "    </tr>\n",
       "  </tbody>\n",
       "</table>\n",
       "</div>"
      ],
      "text/plain": [
       "    max_depth  min_samples_leaf  train_accuracy  validate_accuracy  \\\n",
       "9           1                 1        0.779116           0.761682   \n",
       "19          1                 2        0.779116           0.761682   \n",
       "29          1                 3        0.779116           0.761682   \n",
       "39          1                 4        0.779116           0.761682   \n",
       "49          1                 5        0.779116           0.761682   \n",
       "59          1                 6        0.779116           0.761682   \n",
       "69          1                 7        0.779116           0.761682   \n",
       "79          1                 8        0.779116           0.761682   \n",
       "89          1                 9        0.779116           0.761682   \n",
       "99          1                10        0.779116           0.761682   \n",
       "\n",
       "    false_positive  false_negative  difference  \n",
       "9               15              36    0.017434  \n",
       "19              15              36    0.017434  \n",
       "29              15              36    0.017434  \n",
       "39              15              36    0.017434  \n",
       "49              15              36    0.017434  \n",
       "59              15              36    0.017434  \n",
       "69              15              36    0.017434  \n",
       "79              15              36    0.017434  \n",
       "89              15              36    0.017434  \n",
       "99              15              36    0.017434  "
      ]
     },
     "execution_count": 111,
     "metadata": {},
     "output_type": "execute_result"
    }
   ],
   "source": [
    "df[df.difference == df.difference.min()]"
   ]
  },
  {
   "cell_type": "code",
   "execution_count": 14,
   "id": "0f64727c",
   "metadata": {
    "scrolled": true
   },
   "outputs": [
    {
     "data": {
      "text/html": [
       "<div>\n",
       "<style scoped>\n",
       "    .dataframe tbody tr th:only-of-type {\n",
       "        vertical-align: middle;\n",
       "    }\n",
       "\n",
       "    .dataframe tbody tr th {\n",
       "        vertical-align: top;\n",
       "    }\n",
       "\n",
       "    .dataframe thead th {\n",
       "        text-align: right;\n",
       "    }\n",
       "</style>\n",
       "<table border=\"1\" class=\"dataframe\">\n",
       "  <thead>\n",
       "    <tr style=\"text-align: right;\">\n",
       "      <th></th>\n",
       "      <th>max_depth</th>\n",
       "      <th>min_samples_leaf</th>\n",
       "      <th>train_accuracy</th>\n",
       "      <th>validate_accuracy</th>\n",
       "      <th>false_positive</th>\n",
       "      <th>false_negative</th>\n",
       "      <th>difference</th>\n",
       "    </tr>\n",
       "  </thead>\n",
       "  <tbody>\n",
       "    <tr>\n",
       "      <th>5</th>\n",
       "      <td>5</td>\n",
       "      <td>1</td>\n",
       "      <td>0.857430</td>\n",
       "      <td>0.813084</td>\n",
       "      <td>10</td>\n",
       "      <td>30</td>\n",
       "      <td>0.044346</td>\n",
       "    </tr>\n",
       "    <tr>\n",
       "      <th>6</th>\n",
       "      <td>4</td>\n",
       "      <td>1</td>\n",
       "      <td>0.849398</td>\n",
       "      <td>0.813084</td>\n",
       "      <td>12</td>\n",
       "      <td>28</td>\n",
       "      <td>0.036313</td>\n",
       "    </tr>\n",
       "    <tr>\n",
       "      <th>16</th>\n",
       "      <td>4</td>\n",
       "      <td>2</td>\n",
       "      <td>0.847390</td>\n",
       "      <td>0.813084</td>\n",
       "      <td>12</td>\n",
       "      <td>28</td>\n",
       "      <td>0.034305</td>\n",
       "    </tr>\n",
       "    <tr>\n",
       "      <th>26</th>\n",
       "      <td>4</td>\n",
       "      <td>3</td>\n",
       "      <td>0.851406</td>\n",
       "      <td>0.808411</td>\n",
       "      <td>12</td>\n",
       "      <td>29</td>\n",
       "      <td>0.042994</td>\n",
       "    </tr>\n",
       "    <tr>\n",
       "      <th>36</th>\n",
       "      <td>4</td>\n",
       "      <td>4</td>\n",
       "      <td>0.847390</td>\n",
       "      <td>0.808411</td>\n",
       "      <td>12</td>\n",
       "      <td>29</td>\n",
       "      <td>0.038978</td>\n",
       "    </tr>\n",
       "    <tr>\n",
       "      <th>46</th>\n",
       "      <td>4</td>\n",
       "      <td>5</td>\n",
       "      <td>0.845382</td>\n",
       "      <td>0.803738</td>\n",
       "      <td>12</td>\n",
       "      <td>30</td>\n",
       "      <td>0.041643</td>\n",
       "    </tr>\n",
       "    <tr>\n",
       "      <th>56</th>\n",
       "      <td>4</td>\n",
       "      <td>6</td>\n",
       "      <td>0.845382</td>\n",
       "      <td>0.803738</td>\n",
       "      <td>12</td>\n",
       "      <td>30</td>\n",
       "      <td>0.041643</td>\n",
       "    </tr>\n",
       "    <tr>\n",
       "      <th>66</th>\n",
       "      <td>4</td>\n",
       "      <td>7</td>\n",
       "      <td>0.843373</td>\n",
       "      <td>0.803738</td>\n",
       "      <td>12</td>\n",
       "      <td>30</td>\n",
       "      <td>0.039635</td>\n",
       "    </tr>\n",
       "    <tr>\n",
       "      <th>76</th>\n",
       "      <td>4</td>\n",
       "      <td>8</td>\n",
       "      <td>0.847390</td>\n",
       "      <td>0.803738</td>\n",
       "      <td>12</td>\n",
       "      <td>30</td>\n",
       "      <td>0.043651</td>\n",
       "    </tr>\n",
       "  </tbody>\n",
       "</table>\n",
       "</div>"
      ],
      "text/plain": [
       "    max_depth  min_samples_leaf  train_accuracy  validate_accuracy  \\\n",
       "5           5                 1        0.857430           0.813084   \n",
       "6           4                 1        0.849398           0.813084   \n",
       "16          4                 2        0.847390           0.813084   \n",
       "26          4                 3        0.851406           0.808411   \n",
       "36          4                 4        0.847390           0.808411   \n",
       "46          4                 5        0.845382           0.803738   \n",
       "56          4                 6        0.845382           0.803738   \n",
       "66          4                 7        0.843373           0.803738   \n",
       "76          4                 8        0.847390           0.803738   \n",
       "\n",
       "    false_positive  false_negative  difference  \n",
       "5               10              30    0.044346  \n",
       "6               12              28    0.036313  \n",
       "16              12              28    0.034305  \n",
       "26              12              29    0.042994  \n",
       "36              12              29    0.038978  \n",
       "46              12              30    0.041643  \n",
       "56              12              30    0.041643  \n",
       "66              12              30    0.039635  \n",
       "76              12              30    0.043651  "
      ]
     },
     "execution_count": 14,
     "metadata": {},
     "output_type": "execute_result"
    }
   ],
   "source": [
    "df[(df.validate_accuracy > 0.8) & (df.difference < 0.05)]"
   ]
  },
  {
   "cell_type": "code",
   "execution_count": 12,
   "id": "67717bcb",
   "metadata": {},
   "outputs": [
    {
     "data": {
      "text/html": [
       "<div>\n",
       "<style scoped>\n",
       "    .dataframe tbody tr th:only-of-type {\n",
       "        vertical-align: middle;\n",
       "    }\n",
       "\n",
       "    .dataframe tbody tr th {\n",
       "        vertical-align: top;\n",
       "    }\n",
       "\n",
       "    .dataframe thead th {\n",
       "        text-align: right;\n",
       "    }\n",
       "</style>\n",
       "<table border=\"1\" class=\"dataframe\">\n",
       "  <thead>\n",
       "    <tr style=\"text-align: right;\">\n",
       "      <th></th>\n",
       "      <th>max_depth</th>\n",
       "      <th>min_samples_leaf</th>\n",
       "      <th>train_accuracy</th>\n",
       "      <th>validate_accuracy</th>\n",
       "      <th>false_positive</th>\n",
       "      <th>false_negative</th>\n",
       "      <th>difference</th>\n",
       "    </tr>\n",
       "  </thead>\n",
       "  <tbody>\n",
       "    <tr>\n",
       "      <th>9</th>\n",
       "      <td>1</td>\n",
       "      <td>1</td>\n",
       "      <td>0.779116</td>\n",
       "      <td>0.761682</td>\n",
       "      <td>15</td>\n",
       "      <td>36</td>\n",
       "      <td>0.017434</td>\n",
       "    </tr>\n",
       "    <tr>\n",
       "      <th>19</th>\n",
       "      <td>1</td>\n",
       "      <td>2</td>\n",
       "      <td>0.779116</td>\n",
       "      <td>0.761682</td>\n",
       "      <td>15</td>\n",
       "      <td>36</td>\n",
       "      <td>0.017434</td>\n",
       "    </tr>\n",
       "    <tr>\n",
       "      <th>29</th>\n",
       "      <td>1</td>\n",
       "      <td>3</td>\n",
       "      <td>0.779116</td>\n",
       "      <td>0.761682</td>\n",
       "      <td>15</td>\n",
       "      <td>36</td>\n",
       "      <td>0.017434</td>\n",
       "    </tr>\n",
       "    <tr>\n",
       "      <th>39</th>\n",
       "      <td>1</td>\n",
       "      <td>4</td>\n",
       "      <td>0.779116</td>\n",
       "      <td>0.761682</td>\n",
       "      <td>15</td>\n",
       "      <td>36</td>\n",
       "      <td>0.017434</td>\n",
       "    </tr>\n",
       "    <tr>\n",
       "      <th>49</th>\n",
       "      <td>1</td>\n",
       "      <td>5</td>\n",
       "      <td>0.779116</td>\n",
       "      <td>0.761682</td>\n",
       "      <td>15</td>\n",
       "      <td>36</td>\n",
       "      <td>0.017434</td>\n",
       "    </tr>\n",
       "  </tbody>\n",
       "</table>\n",
       "</div>"
      ],
      "text/plain": [
       "    max_depth  min_samples_leaf  train_accuracy  validate_accuracy  \\\n",
       "9           1                 1        0.779116           0.761682   \n",
       "19          1                 2        0.779116           0.761682   \n",
       "29          1                 3        0.779116           0.761682   \n",
       "39          1                 4        0.779116           0.761682   \n",
       "49          1                 5        0.779116           0.761682   \n",
       "\n",
       "    false_positive  false_negative  difference  \n",
       "9               15              36    0.017434  \n",
       "19              15              36    0.017434  \n",
       "29              15              36    0.017434  \n",
       "39              15              36    0.017434  \n",
       "49              15              36    0.017434  "
      ]
     },
     "execution_count": 12,
     "metadata": {},
     "output_type": "execute_result"
    }
   ],
   "source": [
    "df.sort_values(by = ['difference', 'validate_accuracy', 'false_negative'], ascending = [True, False, True]).head()"
   ]
  },
  {
   "cell_type": "code",
   "execution_count": 107,
   "id": "4ab3c2a5",
   "metadata": {
    "scrolled": true
   },
   "outputs": [
    {
     "data": {
      "text/html": [
       "<div>\n",
       "<style scoped>\n",
       "    .dataframe tbody tr th:only-of-type {\n",
       "        vertical-align: middle;\n",
       "    }\n",
       "\n",
       "    .dataframe tbody tr th {\n",
       "        vertical-align: top;\n",
       "    }\n",
       "\n",
       "    .dataframe thead th {\n",
       "        text-align: right;\n",
       "    }\n",
       "</style>\n",
       "<table border=\"1\" class=\"dataframe\">\n",
       "  <thead>\n",
       "    <tr style=\"text-align: right;\">\n",
       "      <th></th>\n",
       "      <th>mean</th>\n",
       "      <th>min</th>\n",
       "      <th>max</th>\n",
       "    </tr>\n",
       "  </thead>\n",
       "  <tbody>\n",
       "    <tr>\n",
       "      <th>train_accuracy</th>\n",
       "      <td>0.8531</td>\n",
       "      <td>0.7791</td>\n",
       "      <td>0.9719</td>\n",
       "    </tr>\n",
       "    <tr>\n",
       "      <th>validate_accuracy</th>\n",
       "      <td>0.7930</td>\n",
       "      <td>0.7617</td>\n",
       "      <td>0.8271</td>\n",
       "    </tr>\n",
       "    <tr>\n",
       "      <th>false_positive</th>\n",
       "      <td>12.6400</td>\n",
       "      <td>9.0000</td>\n",
       "      <td>17.0000</td>\n",
       "    </tr>\n",
       "    <tr>\n",
       "      <th>false_negative</th>\n",
       "      <td>31.6600</td>\n",
       "      <td>22.0000</td>\n",
       "      <td>36.0000</td>\n",
       "    </tr>\n",
       "    <tr>\n",
       "      <th>difference</th>\n",
       "      <td>0.0601</td>\n",
       "      <td>0.0174</td>\n",
       "      <td>0.1541</td>\n",
       "    </tr>\n",
       "  </tbody>\n",
       "</table>\n",
       "</div>"
      ],
      "text/plain": [
       "                      mean      min      max\n",
       "train_accuracy      0.8531   0.7791   0.9719\n",
       "validate_accuracy   0.7930   0.7617   0.8271\n",
       "false_positive     12.6400   9.0000  17.0000\n",
       "false_negative     31.6600  22.0000  36.0000\n",
       "difference          0.0601   0.0174   0.1541"
      ]
     },
     "execution_count": 107,
     "metadata": {},
     "output_type": "execute_result"
    }
   ],
   "source": [
    "round(df.describe().loc[['mean', 'min', 'max'], 'train_accuracy':'difference'].T, 4)"
   ]
  },
  {
   "cell_type": "markdown",
   "id": "85917323",
   "metadata": {},
   "source": [
    "5. What are the differences in the evaluation metrics? Which performs better on your in-sample data? Why?"
   ]
  },
  {
   "cell_type": "markdown",
   "id": "164334bb",
   "metadata": {},
   "source": [
    "In-sample data: the best perform max_depth = 10. But it overfits, even not so badly as the decision tree classifier.\n",
    "\n",
    "The min differences in evaluation metrics between train and validate sets are with the max_depth = 1"
   ]
  },
  {
   "cell_type": "markdown",
   "id": "9f57111c",
   "metadata": {},
   "source": [
    "I would say the best performing model is where the ```max_depth = 4``` and ```min_sample_leaf = 2```"
   ]
  },
  {
   "cell_type": "code",
   "execution_count": 18,
   "id": "78afafa2",
   "metadata": {},
   "outputs": [
    {
     "data": {
      "text/html": [
       "<div>\n",
       "<style scoped>\n",
       "    .dataframe tbody tr th:only-of-type {\n",
       "        vertical-align: middle;\n",
       "    }\n",
       "\n",
       "    .dataframe tbody tr th {\n",
       "        vertical-align: top;\n",
       "    }\n",
       "\n",
       "    .dataframe thead th {\n",
       "        text-align: right;\n",
       "    }\n",
       "</style>\n",
       "<table border=\"1\" class=\"dataframe\">\n",
       "  <thead>\n",
       "    <tr style=\"text-align: right;\">\n",
       "      <th></th>\n",
       "      <th>max_depth</th>\n",
       "      <th>min_samples_leaf</th>\n",
       "      <th>train_accuracy</th>\n",
       "      <th>validate_accuracy</th>\n",
       "      <th>false_positive</th>\n",
       "      <th>false_negative</th>\n",
       "      <th>difference</th>\n",
       "    </tr>\n",
       "  </thead>\n",
       "  <tbody>\n",
       "    <tr>\n",
       "      <th>16</th>\n",
       "      <td>4</td>\n",
       "      <td>2</td>\n",
       "      <td>0.84739</td>\n",
       "      <td>0.813084</td>\n",
       "      <td>12</td>\n",
       "      <td>28</td>\n",
       "      <td>0.034305</td>\n",
       "    </tr>\n",
       "  </tbody>\n",
       "</table>\n",
       "</div>"
      ],
      "text/plain": [
       "    max_depth  min_samples_leaf  train_accuracy  validate_accuracy  \\\n",
       "16          4                 2         0.84739           0.813084   \n",
       "\n",
       "    false_positive  false_negative  difference  \n",
       "16              12              28    0.034305  "
      ]
     },
     "execution_count": 18,
     "metadata": {},
     "output_type": "execute_result"
    }
   ],
   "source": [
    "df.iloc[[16]]"
   ]
  }
 ],
 "metadata": {
  "kernelspec": {
   "display_name": "Python 3 (ipykernel)",
   "language": "python",
   "name": "python3"
  },
  "language_info": {
   "codemirror_mode": {
    "name": "ipython",
    "version": 3
   },
   "file_extension": ".py",
   "mimetype": "text/x-python",
   "name": "python",
   "nbconvert_exporter": "python",
   "pygments_lexer": "ipython3",
   "version": "3.9.12"
  }
 },
 "nbformat": 4,
 "nbformat_minor": 5
}
