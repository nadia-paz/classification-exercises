{
 "cells": [
  {
   "cell_type": "markdown",
   "id": "86666333",
   "metadata": {},
   "source": [
    "### Decision Tree Exercises"
   ]
  },
  {
   "cell_type": "markdown",
   "id": "6ec6503b",
   "metadata": {},
   "source": [
    "Use the ```titanic``` data. In your classification-exercises repository create a notebook model.ipynb where you will do the following:"
   ]
  },
  {
   "cell_type": "code",
   "execution_count": 1,
   "id": "4ecafe8b",
   "metadata": {},
   "outputs": [],
   "source": [
    "# General DS Imports\n",
    "import matplotlib.pyplot as plt\n",
    "import numpy as np\n",
    "import pandas as pd\n",
    "import seaborn as sns"
   ]
  },
  {
   "cell_type": "code",
   "execution_count": 2,
   "id": "ffe4ab01",
   "metadata": {},
   "outputs": [],
   "source": [
    "# Decision Tree and Model Evaluation Imports\n",
    "from sklearn.tree import DecisionTreeClassifier, plot_tree, export_text\n",
    "from sklearn.model_selection import train_test_split\n",
    "from sklearn.metrics import classification_report, confusion_matrix, plot_confusion_matrix"
   ]
  },
  {
   "cell_type": "code",
   "execution_count": 3,
   "id": "a6fd85c0",
   "metadata": {},
   "outputs": [],
   "source": [
    "#python files imports\n",
    "import acquire\n",
    "import prepare"
   ]
  },
  {
   "cell_type": "markdown",
   "id": "f02a76ed",
   "metadata": {},
   "source": [
    "*Acquire and prepare the data for the modeling*"
   ]
  },
  {
   "cell_type": "code",
   "execution_count": 4,
   "id": "4106e695",
   "metadata": {},
   "outputs": [],
   "source": [
    "#load titanic db\n",
    "titanic = acquire.get_titanic_data()"
   ]
  },
  {
   "cell_type": "code",
   "execution_count": 5,
   "id": "a652dd71",
   "metadata": {},
   "outputs": [
    {
     "data": {
      "text/html": [
       "<div>\n",
       "<style scoped>\n",
       "    .dataframe tbody tr th:only-of-type {\n",
       "        vertical-align: middle;\n",
       "    }\n",
       "\n",
       "    .dataframe tbody tr th {\n",
       "        vertical-align: top;\n",
       "    }\n",
       "\n",
       "    .dataframe thead th {\n",
       "        text-align: right;\n",
       "    }\n",
       "</style>\n",
       "<table border=\"1\" class=\"dataframe\">\n",
       "  <thead>\n",
       "    <tr style=\"text-align: right;\">\n",
       "      <th></th>\n",
       "      <th>passenger_id</th>\n",
       "      <th>survived</th>\n",
       "      <th>pclass</th>\n",
       "      <th>sex</th>\n",
       "      <th>age</th>\n",
       "      <th>sibsp</th>\n",
       "      <th>parch</th>\n",
       "      <th>fare</th>\n",
       "      <th>embarked</th>\n",
       "      <th>class</th>\n",
       "      <th>deck</th>\n",
       "      <th>embark_town</th>\n",
       "      <th>alone</th>\n",
       "    </tr>\n",
       "  </thead>\n",
       "  <tbody>\n",
       "    <tr>\n",
       "      <th>0</th>\n",
       "      <td>0</td>\n",
       "      <td>0</td>\n",
       "      <td>3</td>\n",
       "      <td>male</td>\n",
       "      <td>22.0</td>\n",
       "      <td>1</td>\n",
       "      <td>0</td>\n",
       "      <td>7.25</td>\n",
       "      <td>S</td>\n",
       "      <td>Third</td>\n",
       "      <td>NaN</td>\n",
       "      <td>Southampton</td>\n",
       "      <td>0</td>\n",
       "    </tr>\n",
       "  </tbody>\n",
       "</table>\n",
       "</div>"
      ],
      "text/plain": [
       "   passenger_id  survived  pclass   sex   age  sibsp  parch  fare embarked  \\\n",
       "0             0         0       3  male  22.0      1      0  7.25        S   \n",
       "\n",
       "   class deck  embark_town  alone  \n",
       "0  Third  NaN  Southampton      0  "
      ]
     },
     "execution_count": 5,
     "metadata": {},
     "output_type": "execute_result"
    }
   ],
   "source": [
    "titanic.head(1)"
   ]
  },
  {
   "cell_type": "code",
   "execution_count": 6,
   "id": "15074c7d",
   "metadata": {},
   "outputs": [],
   "source": [
    "#prepare df: split in train, validate, test data sets and separate target columns from the data sets\n",
    "train, validate, test = prepare.prep_titanic_3(titanic)"
   ]
  },
  {
   "cell_type": "code",
   "execution_count": 7,
   "id": "fce970c6",
   "metadata": {},
   "outputs": [],
   "source": [
    "y_train = train.survived\n",
    "y_validate = validate.survived\n",
    "y_test = test.survived\n",
    "\n",
    "train.drop(columns = ['survived', 'sex', 'class', 'embark_town'], inplace = True)\n",
    "validate.drop(columns = ['survived', 'sex', 'class', 'embark_town'], inplace = True)\n",
    "test.drop(columns = ['survived', 'sex', 'class', 'embark_town'], inplace = True)"
   ]
  },
  {
   "cell_type": "markdown",
   "id": "58d0b215",
   "metadata": {},
   "source": [
    "1. What is your baseline prediction? What is your baseline accuracy? remember: your baseline prediction for a classification problem is predicting the most prevelant class in the training dataset (the mode). When you make those predictions, what is your accuracy? This is your baseline accuracy."
   ]
  },
  {
   "cell_type": "code",
   "execution_count": 9,
   "id": "ebef4854",
   "metadata": {},
   "outputs": [],
   "source": [
    "train['baseline'] = train.survived.value_counts().idxmax() #baseline prediction is survived = 0"
   ]
  },
  {
   "cell_type": "code",
   "execution_count": 11,
   "id": "3fdff82b",
   "metadata": {},
   "outputs": [
    {
     "data": {
      "text/plain": [
       "0.6164658634538153"
      ]
     },
     "execution_count": 11,
     "metadata": {},
     "output_type": "execute_result"
    }
   ],
   "source": [
    "(train.survived == train.baseline).mean() #0.616"
   ]
  },
  {
   "cell_type": "code",
   "execution_count": 12,
   "id": "c06000d1",
   "metadata": {},
   "outputs": [],
   "source": [
    "train.drop(columns = 'baseline', inplace = True)"
   ]
  },
  {
   "cell_type": "markdown",
   "id": "38a0d854",
   "metadata": {},
   "source": [
    "*Class colution for the baseline model evaluation*"
   ]
  },
  {
   "cell_type": "code",
   "execution_count": 9,
   "id": "42d3ebe4",
   "metadata": {},
   "outputs": [
    {
     "name": "stdout",
     "output_type": "stream",
     "text": [
      "Baseline accuracy: 0.616\n"
     ]
    }
   ],
   "source": [
    "# The mode is a great baseline\n",
    "baseline = y_train.mode()\n",
    "\n",
    "# Produce a boolean array with True representing a match between the baseline prediction and reality\n",
    "matches_baseline_prediction = (y_train == 0)\n",
    "\n",
    "baseline_accuracy = matches_baseline_prediction.mean()\n",
    "print(f\"Baseline accuracy: {round(baseline_accuracy, 3)}\")"
   ]
  },
  {
   "cell_type": "markdown",
   "id": "4189c4c7",
   "metadata": {},
   "source": [
    "2. Fit the decision tree classifier to your training sample and transform (i.e. make predictions on the training sample)"
   ]
  },
  {
   "cell_type": "code",
   "execution_count": 13,
   "id": "0856f2a0",
   "metadata": {},
   "outputs": [
    {
     "data": {
      "text/plain": [
       "DecisionTreeClassifier(max_depth=5)"
      ]
     },
     "execution_count": 13,
     "metadata": {},
     "output_type": "execute_result"
    }
   ],
   "source": [
    "#create a tree algorithm\n",
    "tree = DecisionTreeClassifier(max_depth = 5)\n",
    "\n",
    "#model: fit the data into the tree\n",
    "tree.fit(train, y_train)"
   ]
  },
  {
   "cell_type": "code",
   "execution_count": 14,
   "id": "addc315f",
   "metadata": {},
   "outputs": [],
   "source": [
    "predictions = tree.predict(train)\n",
    "actual = y_train"
   ]
  },
  {
   "cell_type": "markdown",
   "id": "bf3d575a",
   "metadata": {},
   "source": [
    "3. Evaluate your in-sample results using the model score, confusion matrix, and classification report."
   ]
  },
  {
   "cell_type": "markdown",
   "id": "c1d7d7ce",
   "metadata": {},
   "source": [
    "*As it is a past data we'll use accuracy score for the evaluation*"
   ]
  },
  {
   "cell_type": "code",
   "execution_count": 17,
   "id": "4c300af1",
   "metadata": {},
   "outputs": [
    {
     "data": {
      "text/plain": [
       "array([[252,  55],\n",
       "       [ 22, 169]])"
      ]
     },
     "execution_count": 17,
     "metadata": {},
     "output_type": "execute_result"
    }
   ],
   "source": [
    "confusion_matrix(actual, predictions) "
   ]
  },
  {
   "cell_type": "code",
   "execution_count": 18,
   "id": "5e629897",
   "metadata": {},
   "outputs": [
    {
     "data": {
      "text/plain": [
       "0.8453815261044176"
      ]
     },
     "execution_count": 18,
     "metadata": {},
     "output_type": "execute_result"
    }
   ],
   "source": [
    "tree.score(train, y_train)"
   ]
  },
  {
   "cell_type": "code",
   "execution_count": 33,
   "id": "8af06330",
   "metadata": {},
   "outputs": [
    {
     "name": "stdout",
     "output_type": "stream",
     "text": [
      "              precision    recall  f1-score   support\n",
      "\n",
      "           0       0.88      0.95      0.91       307\n",
      "           1       0.90      0.79      0.84       191\n",
      "\n",
      "    accuracy                           0.89       498\n",
      "   macro avg       0.89      0.87      0.88       498\n",
      "weighted avg       0.89      0.89      0.89       498\n",
      "\n"
     ]
    }
   ],
   "source": [
    "print(classification_report(actual, predictions))"
   ]
  },
  {
   "cell_type": "code",
   "execution_count": 19,
   "id": "112c82b3",
   "metadata": {},
   "outputs": [],
   "source": [
    "#validation set\n",
    "predictions_valid = tree.predict(validate)"
   ]
  },
  {
   "cell_type": "code",
   "execution_count": 20,
   "id": "043377ec",
   "metadata": {},
   "outputs": [
    {
     "data": {
      "text/plain": [
       "array([[107,  25],\n",
       "       [ 12,  70]])"
      ]
     },
     "execution_count": 20,
     "metadata": {},
     "output_type": "execute_result"
    }
   ],
   "source": [
    "confusion_matrix(y_validate, predictions_valid)"
   ]
  },
  {
   "cell_type": "code",
   "execution_count": 21,
   "id": "2ba96cd3",
   "metadata": {},
   "outputs": [
    {
     "name": "stdout",
     "output_type": "stream",
     "text": [
      "              precision    recall  f1-score   support\n",
      "\n",
      "           0       0.90      0.81      0.85       132\n",
      "           1       0.74      0.85      0.79        82\n",
      "\n",
      "    accuracy                           0.83       214\n",
      "   macro avg       0.82      0.83      0.82       214\n",
      "weighted avg       0.84      0.83      0.83       214\n",
      "\n"
     ]
    }
   ],
   "source": [
    "print(classification_report(y_validate, predictions_valid))"
   ]
  },
  {
   "cell_type": "markdown",
   "id": "77cec76e",
   "metadata": {},
   "source": [
    "4. Compute: Accuracy, true positive rate, false positive rate, true negative rate, false negative rate, precision, recall, f1-score, and support."
   ]
  },
  {
   "cell_type": "code",
   "execution_count": 15,
   "id": "ed25f626",
   "metadata": {},
   "outputs": [],
   "source": [
    "#class solution\n",
    "\n",
    "TN, FP, FN, TP = confusion_matrix(actual, predictions).ravel()"
   ]
  },
  {
   "cell_type": "code",
   "execution_count": 16,
   "id": "1addb37a",
   "metadata": {},
   "outputs": [
    {
     "data": {
      "text/plain": [
       "(252, 55, 22, 169)"
      ]
     },
     "execution_count": 16,
     "metadata": {},
     "output_type": "execute_result"
    }
   ],
   "source": [
    "TN, FP, FN, TP"
   ]
  },
  {
   "cell_type": "code",
   "execution_count": 22,
   "id": "9d9cd4c3",
   "metadata": {},
   "outputs": [
    {
     "name": "stdout",
     "output_type": "stream",
     "text": [
      "Negative Cases: 307\n",
      "Positive Cases: 191\n",
      "0    307\n",
      "1    191\n",
      "Name: survived, dtype: int64\n"
     ]
    }
   ],
   "source": [
    "negative_cases = TN + FP\n",
    "positive_cases = FN + TP\n",
    "print(f\"Negative Cases: {negative_cases}\")\n",
    "print(f\"Positive Cases: {positive_cases}\")\n",
    "print(y_train.value_counts())"
   ]
  },
  {
   "cell_type": "markdown",
   "id": "c88a4ce2",
   "metadata": {},
   "source": [
    "*Sklearn is calling survival (1) our positive case*"
   ]
  },
  {
   "cell_type": "code",
   "execution_count": 23,
   "id": "711cf7f3",
   "metadata": {},
   "outputs": [
    {
     "name": "stdout",
     "output_type": "stream",
     "text": [
      "Accuracy: 0.8453815261044176 \n",
      "\n",
      "True Positive Rate/Sensitivity/Recall/Power: 0.8848167539267016 \n",
      "\n",
      "False Positive Rate/False Alarm Ratio/Fall-out: 0.1791530944625407 \n",
      "\n",
      "True Negative Rate/Specificity/Selectivity: 0.8208469055374593 \n",
      "\n",
      "False Negative Rate/Miss Rate: 0.11518324607329843 \n",
      "\n",
      "Precision/PPV: 0.7544642857142857 \n",
      "\n",
      "F1 Score: 0.8144578313253011 \n",
      "\n",
      "Support (0): 307 \n",
      "\n",
      "Support (1): 191\n"
     ]
    }
   ],
   "source": [
    "\n",
    "ALL = TP + FP + FN + TN\n",
    "\n",
    "accuracy = (TP + TN)/ALL\n",
    "true_positive_rate = sensitivity = recall = power = TP/(TP+FN)\n",
    "false_positive_rate = false_alarm_ratio = fallout = FP/(FP+TN)\n",
    "true_negative_rate = specificity = selectivity = TN/(TN+FP)\n",
    "false_negative_rate = miss_rate = FN/(FN+TP)\n",
    "precision = PPV = TP/(TP+FP)\n",
    "f1_score = 2*(precision*recall)/(precision+recall)\n",
    "support_pos = TP + FN\n",
    "support_neg = FP + TN\n",
    "\n",
    "print(f\"Accuracy: {accuracy}\", '\\n')\n",
    "print(f\"True Positive Rate/Sensitivity/Recall/Power: {true_positive_rate}\", '\\n')\n",
    "print(f\"False Positive Rate/False Alarm Ratio/Fall-out: {false_positive_rate}\", '\\n')\n",
    "print(f\"True Negative Rate/Specificity/Selectivity: {true_negative_rate}\", '\\n')\n",
    "print(f\"False Negative Rate/Miss Rate: {false_negative_rate}\", '\\n')\n",
    "print(f\"Precision/PPV: {precision}\", '\\n')\n",
    "print(f\"F1 Score: {f1_score}\", '\\n')\n",
    "print(f\"Support (0): {support_neg}\", '\\n')\n",
    "print(f\"Support (1): {support_pos}\")"
   ]
  },
  {
   "cell_type": "markdown",
   "id": "aa71d1a4",
   "metadata": {},
   "source": [
    "5. Run through steps 2-4 using a different max_depth value."
   ]
  },
  {
   "cell_type": "code",
   "execution_count": 39,
   "id": "134e51e0",
   "metadata": {},
   "outputs": [
    {
     "data": {
      "text/plain": [
       "DecisionTreeClassifier(max_depth=4)"
      ]
     },
     "execution_count": 39,
     "metadata": {},
     "output_type": "execute_result"
    }
   ],
   "source": [
    "tree1 = DecisionTreeClassifier(max_depth = 4)\n",
    "tree1.fit(train, y_train)"
   ]
  },
  {
   "cell_type": "code",
   "execution_count": 43,
   "id": "370d5311",
   "metadata": {},
   "outputs": [
    {
     "data": {
      "text/plain": [
       "array([[273,  34],\n",
       "       [ 33, 158]])"
      ]
     },
     "execution_count": 43,
     "metadata": {},
     "output_type": "execute_result"
    }
   ],
   "source": [
    "pred_train = tree1.predict(train)\n",
    "confusion_matrix(y_train, pred_train)"
   ]
  },
  {
   "cell_type": "code",
   "execution_count": 44,
   "id": "fbca33cf",
   "metadata": {
    "scrolled": true
   },
   "outputs": [
    {
     "name": "stdout",
     "output_type": "stream",
     "text": [
      "              precision    recall  f1-score   support\n",
      "\n",
      "           0       0.89      0.89      0.89       307\n",
      "           1       0.82      0.83      0.83       191\n",
      "\n",
      "    accuracy                           0.87       498\n",
      "   macro avg       0.86      0.86      0.86       498\n",
      "weighted avg       0.87      0.87      0.87       498\n",
      "\n"
     ]
    }
   ],
   "source": [
    "print(classification_report(y_train, pred_train))"
   ]
  },
  {
   "cell_type": "code",
   "execution_count": 46,
   "id": "694b5202",
   "metadata": {},
   "outputs": [
    {
     "data": {
      "text/plain": [
       "array([[108,  24],\n",
       "       [ 24,  58]])"
      ]
     },
     "execution_count": 46,
     "metadata": {},
     "output_type": "execute_result"
    }
   ],
   "source": [
    "pred_valid = tree1.predict(validate)\n",
    "confusion_matrix(y_validate, pred_valid)"
   ]
  },
  {
   "cell_type": "code",
   "execution_count": 47,
   "id": "04cdffbd",
   "metadata": {},
   "outputs": [
    {
     "name": "stdout",
     "output_type": "stream",
     "text": [
      "              precision    recall  f1-score   support\n",
      "\n",
      "           0       0.82      0.82      0.82       132\n",
      "           1       0.71      0.71      0.71        82\n",
      "\n",
      "    accuracy                           0.78       214\n",
      "   macro avg       0.76      0.76      0.76       214\n",
      "weighted avg       0.78      0.78      0.78       214\n",
      "\n"
     ]
    }
   ],
   "source": [
    "print(classification_report(y_validate, pred_valid))"
   ]
  },
  {
   "cell_type": "code",
   "execution_count": 48,
   "id": "218ab402",
   "metadata": {},
   "outputs": [
    {
     "data": {
      "text/plain": [
       "array([[87, 23],\n",
       "       [23, 46]])"
      ]
     },
     "execution_count": 48,
     "metadata": {},
     "output_type": "execute_result"
    }
   ],
   "source": [
    "#test set\n",
    "pred_test = tree1.predict(test)\n",
    "confusion_matrix(y_test, pred_test)"
   ]
  },
  {
   "cell_type": "code",
   "execution_count": 49,
   "id": "9a5c6f48",
   "metadata": {},
   "outputs": [
    {
     "name": "stdout",
     "output_type": "stream",
     "text": [
      "              precision    recall  f1-score   support\n",
      "\n",
      "           0       0.79      0.79      0.79       110\n",
      "           1       0.67      0.67      0.67        69\n",
      "\n",
      "    accuracy                           0.74       179\n",
      "   macro avg       0.73      0.73      0.73       179\n",
      "weighted avg       0.74      0.74      0.74       179\n",
      "\n"
     ]
    }
   ],
   "source": [
    "print(classification_report(y_test, pred_test))"
   ]
  },
  {
   "cell_type": "markdown",
   "id": "be7bd63c",
   "metadata": {},
   "source": [
    "- *Building models using **for** loop --- Class solution*"
   ]
  },
  {
   "cell_type": "code",
   "execution_count": 24,
   "id": "33b0f9cb",
   "metadata": {},
   "outputs": [
    {
     "name": "stdout",
     "output_type": "stream",
     "text": [
      "Tree with max depth of 1\n",
      "                    0           1  accuracy   macro avg  weighted avg\n",
      "precision    0.800633    0.703297   0.76506    0.751965      0.763301\n",
      "recall       0.824104    0.670157   0.76506    0.747131      0.765060\n",
      "f1-score     0.812199    0.686327   0.76506    0.749263      0.763923\n",
      "support    307.000000  191.000000   0.76506  498.000000    498.000000\n",
      "\n",
      "Tree with max depth of 2\n",
      "                    0           1  accuracy   macro avg  weighted avg\n",
      "precision    0.736453    0.913043  0.769076    0.824748      0.804182\n",
      "recall       0.973941    0.439791  0.769076    0.706866      0.769076\n",
      "f1-score     0.838710    0.593640  0.769076    0.716175      0.744717\n",
      "support    307.000000  191.000000  0.769076  498.000000    498.000000\n",
      "\n",
      "Tree with max depth of 3\n",
      "                    0           1  accuracy   macro avg  weighted avg\n",
      "precision    0.825153    0.779070  0.809237    0.802112      0.807479\n",
      "recall       0.876221    0.701571  0.809237    0.788896      0.809237\n",
      "f1-score     0.849921    0.738292  0.809237    0.794107      0.807107\n",
      "support    307.000000  191.000000  0.809237  498.000000    498.000000\n",
      "\n",
      "Tree with max depth of 4\n",
      "                    0           1  accuracy   macro avg  weighted avg\n",
      "precision    0.907407    0.728070  0.825301    0.817739      0.838625\n",
      "recall       0.798046    0.869110  0.825301    0.833578      0.825301\n",
      "f1-score     0.849220    0.792363  0.825301    0.820791      0.827413\n",
      "support    307.000000  191.000000  0.825301  498.000000    498.000000\n",
      "\n",
      "Tree with max depth of 5\n",
      "                    0           1  accuracy   macro avg  weighted avg\n",
      "precision    0.919708    0.754464  0.845382    0.837086      0.856331\n",
      "recall       0.820847    0.884817  0.845382    0.852832      0.845382\n",
      "f1-score     0.867470    0.814458  0.845382    0.840964      0.847138\n",
      "support    307.000000  191.000000  0.845382  498.000000    498.000000\n",
      "\n",
      "Tree with max depth of 6\n",
      "                    0           1  accuracy   macro avg  weighted avg\n",
      "precision    0.929329    0.795349  0.871486    0.862339      0.877943\n",
      "recall       0.856678    0.895288  0.871486    0.875983      0.871486\n",
      "f1-score     0.891525    0.842365  0.871486    0.866945      0.872671\n",
      "support    307.000000  191.000000  0.871486  498.000000    498.000000\n",
      "\n",
      "Tree with max depth of 7\n",
      "                    0           1  accuracy   macro avg  weighted avg\n",
      "precision    0.929825    0.802817  0.875502    0.866321      0.881113\n",
      "recall       0.863192    0.895288  0.875502    0.879240      0.875502\n",
      "f1-score     0.895270    0.846535  0.875502    0.870902      0.876578\n",
      "support    307.000000  191.000000  0.875502  498.000000    498.000000\n",
      "\n",
      "Tree with max depth of 8\n",
      "                    0           1  accuracy   macro avg  weighted avg\n",
      "precision    0.885196    0.916168  0.895582    0.900682      0.897075\n",
      "recall       0.954397    0.801047  0.895582    0.877722      0.895582\n",
      "f1-score     0.918495    0.854749  0.895582    0.886622      0.894046\n",
      "support    307.000000  191.000000  0.895582  498.000000    498.000000\n",
      "\n",
      "Tree with max depth of 9\n",
      "                    0           1  accuracy   macro avg  weighted avg\n",
      "precision    0.901235    0.913793  0.905622    0.907514      0.906051\n",
      "recall       0.951140    0.832461  0.905622    0.891800      0.905622\n",
      "f1-score     0.925515    0.871233  0.905622    0.898374      0.904696\n",
      "support    307.000000  191.000000  0.905622  498.000000    498.000000\n",
      "\n",
      "Tree with max depth of 10\n",
      "                    0           1  accuracy   macro avg  weighted avg\n",
      "precision    0.908815    0.952663  0.923695    0.930739      0.925632\n",
      "recall       0.973941    0.842932  0.923695    0.908437      0.923695\n",
      "f1-score     0.940252    0.894444  0.923695    0.917348      0.922683\n",
      "support    307.000000  191.000000  0.923695  498.000000    498.000000\n",
      "\n",
      "Tree with max depth of 11\n",
      "                    0           1  accuracy   macro avg  weighted avg\n",
      "precision    0.913174    0.987805  0.937751    0.950489      0.941797\n",
      "recall       0.993485    0.848168  0.937751    0.920826      0.937751\n",
      "f1-score     0.951638    0.912676  0.937751    0.932157      0.936695\n",
      "support    307.000000  191.000000  0.937751  498.000000    498.000000\n",
      "\n",
      "Tree with max depth of 12\n",
      "                    0           1  accuracy   macro avg  weighted avg\n",
      "precision    0.932722    0.988304  0.951807    0.960513      0.954039\n",
      "recall       0.993485    0.884817  0.951807    0.939151      0.951807\n",
      "f1-score     0.962145    0.933702  0.951807    0.947923      0.951236\n",
      "support    307.000000  191.000000  0.951807  498.000000    498.000000\n",
      "\n",
      "Tree with max depth of 13\n",
      "                    0           1  accuracy   macro avg  weighted avg\n",
      "precision    0.961661    0.967568  0.963855    0.964614      0.963927\n",
      "recall       0.980456    0.937173  0.963855    0.958814      0.963855\n",
      "f1-score     0.970968    0.952128  0.963855    0.961548      0.963742\n",
      "support    307.000000  191.000000  0.963855  498.000000    498.000000\n",
      "\n",
      "Tree with max depth of 14\n",
      "                    0           1  accuracy   macro avg  weighted avg\n",
      "precision    0.953271    0.994350  0.967871    0.973811      0.969026\n",
      "recall       0.996743    0.921466  0.967871    0.959104      0.967871\n",
      "f1-score     0.974522    0.956522  0.967871    0.965522      0.967618\n",
      "support    307.000000  191.000000  0.967871  498.000000    498.000000\n",
      "\n",
      "Tree with max depth of 15\n",
      "                    0           1  accuracy   macro avg  weighted avg\n",
      "precision    0.971154    0.978495  0.973896    0.974824      0.973969\n",
      "recall       0.986971    0.952880  0.973896    0.969925      0.973896\n",
      "f1-score     0.978998    0.965517  0.973896    0.972258      0.973828\n",
      "support    307.000000  191.000000  0.973896  498.000000    498.000000\n",
      "\n",
      "Tree with max depth of 16\n",
      "                    0           1  accuracy   macro avg  weighted avg\n",
      "precision    0.968254    0.989071  0.975904    0.978663      0.976238\n",
      "recall       0.993485    0.947644  0.975904    0.970565      0.975904\n",
      "f1-score     0.980707    0.967914  0.975904    0.974311      0.975801\n",
      "support    307.000000  191.000000  0.975904  498.000000    498.000000\n",
      "\n",
      "Tree with max depth of 17\n",
      "                    0           1  accuracy   macro avg  weighted avg\n",
      "precision    0.980707    0.989305  0.983936    0.985006      0.984005\n",
      "recall       0.993485    0.968586  0.983936    0.981036      0.983936\n",
      "f1-score     0.987055    0.978836  0.983936    0.982945      0.983903\n",
      "support    307.000000  191.000000  0.983936  498.000000    498.000000\n",
      "\n",
      "Tree with max depth of 18\n",
      "                    0           1  accuracy   macro avg  weighted avg\n",
      "precision    0.977636    0.994595  0.983936    0.986115      0.984140\n",
      "recall       0.996743    0.963351  0.983936    0.980047      0.983936\n",
      "f1-score     0.987097    0.978723  0.983936    0.982910      0.983885\n",
      "support    307.000000  191.000000  0.983936  498.000000    498.000000\n",
      "\n",
      "Tree with max depth of 19\n",
      "                    0           1  accuracy   macro avg  weighted avg\n",
      "precision    0.980769    0.994624  0.985944    0.987696      0.986083\n",
      "recall       0.996743    0.968586  0.985944    0.982665      0.985944\n",
      "f1-score     0.988691    0.981432  0.985944    0.985062      0.985907\n",
      "support    307.000000  191.000000  0.985944  498.000000    498.000000\n",
      "\n",
      "Tree with max depth of 20\n",
      "                    0           1  accuracy   macro avg  weighted avg\n",
      "precision    0.980769    0.994624  0.985944    0.987696      0.986083\n",
      "recall       0.996743    0.968586  0.985944    0.982665      0.985944\n",
      "f1-score     0.988691    0.981432  0.985944    0.985062      0.985907\n",
      "support    307.000000  191.000000  0.985944  498.000000    498.000000\n",
      "\n"
     ]
    }
   ],
   "source": [
    "# Let's get loopy\n",
    "for i in range(1, 21):\n",
    "    # Make the model\n",
    "    tree = DecisionTreeClassifier(max_depth=i, random_state=123)\n",
    "\n",
    "    # Fit the model (on train and only train)\n",
    "    tree = tree.fit(train, y_train)\n",
    "\n",
    "    # Use the model\n",
    "    # We'll evaluate the model's performance on train, first\n",
    "    y_predictions = tree.predict(train)\n",
    "\n",
    "    # Produce the classification report on the actual y values and this model's predicted y values\n",
    "    report = classification_report(y_train, y_predictions, output_dict=True)\n",
    "    print(f\"Tree with max depth of {i}\")\n",
    "    print(pd.DataFrame(report))\n",
    "    print()"
   ]
  },
  {
   "cell_type": "markdown",
   "id": "5153bbd3",
   "metadata": {},
   "source": [
    "6. Which model performs better on your in-sample data?"
   ]
  },
  {
   "cell_type": "code",
   "execution_count": 25,
   "id": "0fcc2a67",
   "metadata": {},
   "outputs": [],
   "source": [
    "#max_depth 5 in my code and max_depth 15+ in class solutions"
   ]
  },
  {
   "cell_type": "markdown",
   "id": "6f7e211f",
   "metadata": {},
   "source": [
    "7. Which model performs best on your out-of-sample data, the validate set?"
   ]
  },
  {
   "cell_type": "code",
   "execution_count": 26,
   "id": "267b1175",
   "metadata": {},
   "outputs": [
    {
     "data": {
      "text/html": [
       "<div>\n",
       "<style scoped>\n",
       "    .dataframe tbody tr th:only-of-type {\n",
       "        vertical-align: middle;\n",
       "    }\n",
       "\n",
       "    .dataframe tbody tr th {\n",
       "        vertical-align: top;\n",
       "    }\n",
       "\n",
       "    .dataframe thead th {\n",
       "        text-align: right;\n",
       "    }\n",
       "</style>\n",
       "<table border=\"1\" class=\"dataframe\">\n",
       "  <thead>\n",
       "    <tr style=\"text-align: right;\">\n",
       "      <th></th>\n",
       "      <th>max_depth</th>\n",
       "      <th>train_accuracy</th>\n",
       "      <th>validate_accuracy</th>\n",
       "      <th>difference</th>\n",
       "    </tr>\n",
       "  </thead>\n",
       "  <tbody>\n",
       "    <tr>\n",
       "      <th>0</th>\n",
       "      <td>1</td>\n",
       "      <td>0.765060</td>\n",
       "      <td>0.836449</td>\n",
       "      <td>-0.071388</td>\n",
       "    </tr>\n",
       "    <tr>\n",
       "      <th>1</th>\n",
       "      <td>2</td>\n",
       "      <td>0.769076</td>\n",
       "      <td>0.803738</td>\n",
       "      <td>-0.034662</td>\n",
       "    </tr>\n",
       "    <tr>\n",
       "      <th>2</th>\n",
       "      <td>3</td>\n",
       "      <td>0.809237</td>\n",
       "      <td>0.859813</td>\n",
       "      <td>-0.050576</td>\n",
       "    </tr>\n",
       "    <tr>\n",
       "      <th>3</th>\n",
       "      <td>4</td>\n",
       "      <td>0.825301</td>\n",
       "      <td>0.827103</td>\n",
       "      <td>-0.001802</td>\n",
       "    </tr>\n",
       "    <tr>\n",
       "      <th>4</th>\n",
       "      <td>5</td>\n",
       "      <td>0.845382</td>\n",
       "      <td>0.813084</td>\n",
       "      <td>0.032297</td>\n",
       "    </tr>\n",
       "    <tr>\n",
       "      <th>5</th>\n",
       "      <td>6</td>\n",
       "      <td>0.871486</td>\n",
       "      <td>0.831776</td>\n",
       "      <td>0.039710</td>\n",
       "    </tr>\n",
       "    <tr>\n",
       "      <th>6</th>\n",
       "      <td>7</td>\n",
       "      <td>0.875502</td>\n",
       "      <td>0.827103</td>\n",
       "      <td>0.048399</td>\n",
       "    </tr>\n",
       "    <tr>\n",
       "      <th>7</th>\n",
       "      <td>8</td>\n",
       "      <td>0.895582</td>\n",
       "      <td>0.850467</td>\n",
       "      <td>0.045115</td>\n",
       "    </tr>\n",
       "    <tr>\n",
       "      <th>8</th>\n",
       "      <td>9</td>\n",
       "      <td>0.905622</td>\n",
       "      <td>0.845794</td>\n",
       "      <td>0.059828</td>\n",
       "    </tr>\n",
       "    <tr>\n",
       "      <th>9</th>\n",
       "      <td>10</td>\n",
       "      <td>0.923695</td>\n",
       "      <td>0.850467</td>\n",
       "      <td>0.073227</td>\n",
       "    </tr>\n",
       "    <tr>\n",
       "      <th>10</th>\n",
       "      <td>11</td>\n",
       "      <td>0.937751</td>\n",
       "      <td>0.822430</td>\n",
       "      <td>0.115321</td>\n",
       "    </tr>\n",
       "    <tr>\n",
       "      <th>11</th>\n",
       "      <td>12</td>\n",
       "      <td>0.951807</td>\n",
       "      <td>0.836449</td>\n",
       "      <td>0.115359</td>\n",
       "    </tr>\n",
       "    <tr>\n",
       "      <th>12</th>\n",
       "      <td>13</td>\n",
       "      <td>0.963855</td>\n",
       "      <td>0.813084</td>\n",
       "      <td>0.150771</td>\n",
       "    </tr>\n",
       "    <tr>\n",
       "      <th>13</th>\n",
       "      <td>14</td>\n",
       "      <td>0.967871</td>\n",
       "      <td>0.831776</td>\n",
       "      <td>0.136096</td>\n",
       "    </tr>\n",
       "    <tr>\n",
       "      <th>14</th>\n",
       "      <td>15</td>\n",
       "      <td>0.973896</td>\n",
       "      <td>0.831776</td>\n",
       "      <td>0.142120</td>\n",
       "    </tr>\n",
       "    <tr>\n",
       "      <th>15</th>\n",
       "      <td>16</td>\n",
       "      <td>0.975904</td>\n",
       "      <td>0.827103</td>\n",
       "      <td>0.148801</td>\n",
       "    </tr>\n",
       "    <tr>\n",
       "      <th>16</th>\n",
       "      <td>17</td>\n",
       "      <td>0.983936</td>\n",
       "      <td>0.817757</td>\n",
       "      <td>0.166179</td>\n",
       "    </tr>\n",
       "    <tr>\n",
       "      <th>17</th>\n",
       "      <td>18</td>\n",
       "      <td>0.983936</td>\n",
       "      <td>0.827103</td>\n",
       "      <td>0.156833</td>\n",
       "    </tr>\n",
       "    <tr>\n",
       "      <th>18</th>\n",
       "      <td>19</td>\n",
       "      <td>0.985944</td>\n",
       "      <td>0.827103</td>\n",
       "      <td>0.158841</td>\n",
       "    </tr>\n",
       "    <tr>\n",
       "      <th>19</th>\n",
       "      <td>20</td>\n",
       "      <td>0.985944</td>\n",
       "      <td>0.827103</td>\n",
       "      <td>0.158841</td>\n",
       "    </tr>\n",
       "    <tr>\n",
       "      <th>20</th>\n",
       "      <td>21</td>\n",
       "      <td>0.985944</td>\n",
       "      <td>0.827103</td>\n",
       "      <td>0.158841</td>\n",
       "    </tr>\n",
       "    <tr>\n",
       "      <th>21</th>\n",
       "      <td>22</td>\n",
       "      <td>0.985944</td>\n",
       "      <td>0.827103</td>\n",
       "      <td>0.158841</td>\n",
       "    </tr>\n",
       "    <tr>\n",
       "      <th>22</th>\n",
       "      <td>23</td>\n",
       "      <td>0.985944</td>\n",
       "      <td>0.827103</td>\n",
       "      <td>0.158841</td>\n",
       "    </tr>\n",
       "    <tr>\n",
       "      <th>23</th>\n",
       "      <td>24</td>\n",
       "      <td>0.985944</td>\n",
       "      <td>0.827103</td>\n",
       "      <td>0.158841</td>\n",
       "    </tr>\n",
       "  </tbody>\n",
       "</table>\n",
       "</div>"
      ],
      "text/plain": [
       "    max_depth  train_accuracy  validate_accuracy  difference\n",
       "0           1        0.765060           0.836449   -0.071388\n",
       "1           2        0.769076           0.803738   -0.034662\n",
       "2           3        0.809237           0.859813   -0.050576\n",
       "3           4        0.825301           0.827103   -0.001802\n",
       "4           5        0.845382           0.813084    0.032297\n",
       "5           6        0.871486           0.831776    0.039710\n",
       "6           7        0.875502           0.827103    0.048399\n",
       "7           8        0.895582           0.850467    0.045115\n",
       "8           9        0.905622           0.845794    0.059828\n",
       "9          10        0.923695           0.850467    0.073227\n",
       "10         11        0.937751           0.822430    0.115321\n",
       "11         12        0.951807           0.836449    0.115359\n",
       "12         13        0.963855           0.813084    0.150771\n",
       "13         14        0.967871           0.831776    0.136096\n",
       "14         15        0.973896           0.831776    0.142120\n",
       "15         16        0.975904           0.827103    0.148801\n",
       "16         17        0.983936           0.817757    0.166179\n",
       "17         18        0.983936           0.827103    0.156833\n",
       "18         19        0.985944           0.827103    0.158841\n",
       "19         20        0.985944           0.827103    0.158841\n",
       "20         21        0.985944           0.827103    0.158841\n",
       "21         22        0.985944           0.827103    0.158841\n",
       "22         23        0.985944           0.827103    0.158841\n",
       "23         24        0.985944           0.827103    0.158841"
      ]
     },
     "execution_count": 26,
     "metadata": {},
     "output_type": "execute_result"
    }
   ],
   "source": [
    "#class solution\n",
    "# Let's continue getting loopy, so we can compare in-sample to out-of-sample\n",
    "metrics = []\n",
    "\n",
    "for i in range(1, 25):\n",
    "    # Make the model\n",
    "    tree = DecisionTreeClassifier(max_depth=i, random_state=123)\n",
    "\n",
    "    # Fit the model (on train and only train)\n",
    "    tree = tree.fit(train, y_train)\n",
    "\n",
    "    # Use the model\n",
    "    # We'll evaluate the model's performance on train, first\n",
    "    in_sample_accuracy = tree.score(train, y_train)\n",
    "    \n",
    "    out_of_sample_accuracy = tree.score(validate, y_validate)\n",
    "\n",
    "    output = {\n",
    "        \"max_depth\": i,\n",
    "        \"train_accuracy\": in_sample_accuracy,\n",
    "        \"validate_accuracy\": out_of_sample_accuracy\n",
    "    }\n",
    "    \n",
    "    metrics.append(output)\n",
    "    \n",
    "df = pd.DataFrame(metrics)\n",
    "df[\"difference\"] = df.train_accuracy - df.validate_accuracy\n",
    "df"
   ]
  },
  {
   "cell_type": "markdown",
   "id": "13e53d06",
   "metadata": {},
   "source": [
    "*Visualize predictions*"
   ]
  },
  {
   "cell_type": "code",
   "execution_count": 27,
   "id": "22571245",
   "metadata": {},
   "outputs": [
    {
     "data": {
      "image/png": "[encoded data removed]",
      "text/plain": [
       "<Figure size 864x432 with 1 Axes>"
      ]
     },
     "metadata": {
      "needs_background": "light"
     },
     "output_type": "display_data"
    }
   ],
   "source": [
    "plt.figure(figsize=(12, 6))\n",
    "plt.plot(df.max_depth, df.train_accuracy, marker = 'o', label = 'Train')\n",
    "plt.plot(df.max_depth, df.validate_accuracy, marker = 'o', label = 'Validate')\n",
    "plt.title('Overfitting Occurs at Higher Values for Max Depth')\n",
    "plt.xlabel('Max Depth')\n",
    "plt.ylabel('Accuracy')\n",
    "plt.legend()\n",
    "plt.show()"
   ]
  },
  {
   "cell_type": "markdown",
   "id": "c6735dd5",
   "metadata": {},
   "source": [
    "### TELCO"
   ]
  },
  {
   "cell_type": "code",
   "execution_count": 1,
   "id": "80c2ab97",
   "metadata": {},
   "outputs": [],
   "source": [
    "# General DS Imports\n",
    "import matplotlib.pyplot as plt\n",
    "import numpy as np\n",
    "import pandas as pd\n",
    "import seaborn as sns"
   ]
  },
  {
   "cell_type": "code",
   "execution_count": 2,
   "id": "4be83b44",
   "metadata": {},
   "outputs": [],
   "source": [
    "# Decision Tree and Model Evaluation Imports\n",
    "from sklearn.tree import DecisionTreeClassifier, plot_tree, export_text\n",
    "from sklearn.model_selection import train_test_split\n",
    "from sklearn.metrics import classification_report, confusion_matrix, plot_confusion_matrix"
   ]
  },
  {
   "cell_type": "code",
   "execution_count": 3,
   "id": "5e8c5f83",
   "metadata": {},
   "outputs": [],
   "source": [
    "#python files imports\n",
    "import acquire\n",
    "import prepare"
   ]
  },
  {
   "cell_type": "markdown",
   "id": "0cd60efb",
   "metadata": {},
   "source": [
    "1. Work through these same exercises using the Telco dataset.\n",
    "2. Experiment with this model on other datasets with a higher number of output classes."
   ]
  },
  {
   "cell_type": "code",
   "execution_count": 4,
   "id": "a42ec495",
   "metadata": {},
   "outputs": [],
   "source": [
    "### load telco data\n",
    "telco = acquire.get_telco_data()"
   ]
  },
  {
   "cell_type": "code",
   "execution_count": 5,
   "id": "bc718b47",
   "metadata": {
    "scrolled": true
   },
   "outputs": [
    {
     "data": {
      "text/html": [
       "<div>\n",
       "<style scoped>\n",
       "    .dataframe tbody tr th:only-of-type {\n",
       "        vertical-align: middle;\n",
       "    }\n",
       "\n",
       "    .dataframe tbody tr th {\n",
       "        vertical-align: top;\n",
       "    }\n",
       "\n",
       "    .dataframe thead th {\n",
       "        text-align: right;\n",
       "    }\n",
       "</style>\n",
       "<table border=\"1\" class=\"dataframe\">\n",
       "  <thead>\n",
       "    <tr style=\"text-align: right;\">\n",
       "      <th></th>\n",
       "      <th>payment_type_id</th>\n",
       "      <th>internet_service_type_id</th>\n",
       "      <th>contract_type_id</th>\n",
       "      <th>customer_id</th>\n",
       "      <th>gender</th>\n",
       "      <th>senior_citizen</th>\n",
       "      <th>partner</th>\n",
       "      <th>dependents</th>\n",
       "      <th>tenure</th>\n",
       "      <th>phone_service</th>\n",
       "      <th>...</th>\n",
       "      <th>tech_support</th>\n",
       "      <th>streaming_tv</th>\n",
       "      <th>streaming_movies</th>\n",
       "      <th>paperless_billing</th>\n",
       "      <th>monthly_charges</th>\n",
       "      <th>total_charges</th>\n",
       "      <th>churn</th>\n",
       "      <th>contract_type</th>\n",
       "      <th>internet_service_type</th>\n",
       "      <th>payment_type</th>\n",
       "    </tr>\n",
       "  </thead>\n",
       "  <tbody>\n",
       "    <tr>\n",
       "      <th>0</th>\n",
       "      <td>2</td>\n",
       "      <td>1</td>\n",
       "      <td>2</td>\n",
       "      <td>0002-ORFBO</td>\n",
       "      <td>Female</td>\n",
       "      <td>0</td>\n",
       "      <td>Yes</td>\n",
       "      <td>Yes</td>\n",
       "      <td>9</td>\n",
       "      <td>Yes</td>\n",
       "      <td>...</td>\n",
       "      <td>Yes</td>\n",
       "      <td>Yes</td>\n",
       "      <td>No</td>\n",
       "      <td>Yes</td>\n",
       "      <td>65.6</td>\n",
       "      <td>593.3</td>\n",
       "      <td>No</td>\n",
       "      <td>One year</td>\n",
       "      <td>DSL</td>\n",
       "      <td>Mailed check</td>\n",
       "    </tr>\n",
       "  </tbody>\n",
       "</table>\n",
       "<p>1 rows × 24 columns</p>\n",
       "</div>"
      ],
      "text/plain": [
       "   payment_type_id  internet_service_type_id  contract_type_id customer_id  \\\n",
       "0                2                         1                 2  0002-ORFBO   \n",
       "\n",
       "   gender  senior_citizen partner dependents  tenure phone_service  ...  \\\n",
       "0  Female               0     Yes        Yes       9           Yes  ...   \n",
       "\n",
       "  tech_support streaming_tv streaming_movies paperless_billing  \\\n",
       "0          Yes          Yes               No               Yes   \n",
       "\n",
       "  monthly_charges total_charges churn contract_type  internet_service_type  \\\n",
       "0            65.6         593.3    No      One year                    DSL   \n",
       "\n",
       "   payment_type  \n",
       "0  Mailed check  \n",
       "\n",
       "[1 rows x 24 columns]"
      ]
     },
     "execution_count": 5,
     "metadata": {},
     "output_type": "execute_result"
    }
   ],
   "source": [
    "telco.head(1)"
   ]
  },
  {
   "cell_type": "code",
   "execution_count": 5,
   "id": "2033f617",
   "metadata": {},
   "outputs": [],
   "source": [
    "#prepare & split into 3 sets\n",
    "train, validate, test = prepare.prep_telco_data(telco)"
   ]
  },
  {
   "cell_type": "code",
   "execution_count": 7,
   "id": "1d058e91",
   "metadata": {},
   "outputs": [],
   "source": [
    "#prepare model ready data sets and target series\n",
    "\n",
    "y_train = train.churn_encoded\n",
    "y_validate = validate.churn_encoded\n",
    "y_test = test.churn_encoded\n",
    "\n",
    "X_train = train.drop(columns = ['churn', 'churn_encoded'])\n",
    "X_validate = validate.drop(columns = ['churn', 'churn_encoded'])\n",
    "X_test = test.drop(columns = ['churn', 'churn_encoded'])"
   ]
  },
  {
   "cell_type": "code",
   "execution_count": 35,
   "id": "e4302616",
   "metadata": {},
   "outputs": [
    {
     "data": {
      "text/plain": [
       "DecisionTreeClassifier(max_depth=5)"
      ]
     },
     "execution_count": 35,
     "metadata": {},
     "output_type": "execute_result"
    }
   ],
   "source": [
    "#create a decision tree\n",
    "tree = DecisionTreeClassifier(max_depth = 5)\n",
    "\n",
    "#model: fit the data into the tree\n",
    "tree.fit(X_train, y_train)"
   ]
  },
  {
   "cell_type": "code",
   "execution_count": 36,
   "id": "0aa8ba54",
   "metadata": {},
   "outputs": [],
   "source": [
    "predictions = tree.predict(X_train)"
   ]
  },
  {
   "cell_type": "code",
   "execution_count": 37,
   "id": "7f6eb923",
   "metadata": {},
   "outputs": [
    {
     "name": "stdout",
     "output_type": "stream",
     "text": [
      "              precision    recall  f1-score   support\n",
      "\n",
      "           0       0.82      0.93      0.87      2891\n",
      "           1       0.70      0.45      0.55      1046\n",
      "\n",
      "    accuracy                           0.80      3937\n",
      "   macro avg       0.76      0.69      0.71      3937\n",
      "weighted avg       0.79      0.80      0.79      3937\n",
      "\n"
     ]
    }
   ],
   "source": [
    "print(classification_report(y_train, predictions))"
   ]
  },
  {
   "cell_type": "code",
   "execution_count": 21,
   "id": "5d0fcde5",
   "metadata": {},
   "outputs": [
    {
     "data": {
      "text/plain": [
       "0    2891\n",
       "1    1046\n",
       "Name: churn_encoded, dtype: int64"
      ]
     },
     "execution_count": 21,
     "metadata": {},
     "output_type": "execute_result"
    }
   ],
   "source": [
    "y_train.value_counts()"
   ]
  },
  {
   "cell_type": "code",
   "execution_count": 28,
   "id": "25159484",
   "metadata": {},
   "outputs": [],
   "source": [
    "telco_baseline = (y_train == y_train.value_counts().idxmax()).mean()"
   ]
  },
  {
   "cell_type": "code",
   "execution_count": 29,
   "id": "507f7142",
   "metadata": {},
   "outputs": [
    {
     "name": "stdout",
     "output_type": "stream",
     "text": [
      "Baseline accuracy: 0.7343154686309372\n",
      "Test accuracy: 0.8041656083312166\n"
     ]
    }
   ],
   "source": [
    "print(f'Baseline accuracy: {telco_baseline:<15}')\n",
    "print(f'Test accuracy: {tree.score(X_train, y_train):<15}')"
   ]
  },
  {
   "cell_type": "code",
   "execution_count": 31,
   "id": "7f0e0fca",
   "metadata": {},
   "outputs": [
    {
     "data": {
      "text/plain": [
       "0.7049180327868853"
      ]
     },
     "execution_count": 31,
     "metadata": {},
     "output_type": "execute_result"
    }
   ],
   "source": [
    "#positive - churned\n",
    "#fp we predicted churned but customer didn't\n",
    "#fn we predicted customer won't churn but customer did churn\n",
    "\n",
    "# we don't won't FP --> check precision score\n",
    "import sklearn.metrics as skm\n",
    "skm.precision_score(y_train, predictions)"
   ]
  },
  {
   "cell_type": "code",
   "execution_count": 46,
   "id": "de6e1362",
   "metadata": {
    "scrolled": true
   },
   "outputs": [
    {
     "data": {
      "text/html": [
       "<div>\n",
       "<style scoped>\n",
       "    .dataframe tbody tr th:only-of-type {\n",
       "        vertical-align: middle;\n",
       "    }\n",
       "\n",
       "    .dataframe tbody tr th {\n",
       "        vertical-align: top;\n",
       "    }\n",
       "\n",
       "    .dataframe thead th {\n",
       "        text-align: right;\n",
       "    }\n",
       "</style>\n",
       "<table border=\"1\" class=\"dataframe\">\n",
       "  <thead>\n",
       "    <tr style=\"text-align: right;\">\n",
       "      <th></th>\n",
       "      <th>max_depth</th>\n",
       "      <th>train_accuracy</th>\n",
       "      <th>validate_accuracy</th>\n",
       "      <th>difference</th>\n",
       "    </tr>\n",
       "  </thead>\n",
       "  <tbody>\n",
       "    <tr>\n",
       "      <th>0</th>\n",
       "      <td>1</td>\n",
       "      <td>0.734315</td>\n",
       "      <td>0.734005</td>\n",
       "      <td>0.000311</td>\n",
       "    </tr>\n",
       "    <tr>\n",
       "      <th>1</th>\n",
       "      <td>2</td>\n",
       "      <td>0.792228</td>\n",
       "      <td>0.793839</td>\n",
       "      <td>0.001611</td>\n",
       "    </tr>\n",
       "    <tr>\n",
       "      <th>2</th>\n",
       "      <td>3</td>\n",
       "      <td>0.792228</td>\n",
       "      <td>0.793839</td>\n",
       "      <td>0.001611</td>\n",
       "    </tr>\n",
       "    <tr>\n",
       "      <th>3</th>\n",
       "      <td>4</td>\n",
       "      <td>0.795784</td>\n",
       "      <td>0.796801</td>\n",
       "      <td>0.001017</td>\n",
       "    </tr>\n",
       "    <tr>\n",
       "      <th>4</th>\n",
       "      <td>5</td>\n",
       "      <td>0.804166</td>\n",
       "      <td>0.797393</td>\n",
       "      <td>0.006772</td>\n",
       "    </tr>\n",
       "    <tr>\n",
       "      <th>5</th>\n",
       "      <td>6</td>\n",
       "      <td>0.809500</td>\n",
       "      <td>0.796801</td>\n",
       "      <td>0.012699</td>\n",
       "    </tr>\n",
       "    <tr>\n",
       "      <th>6</th>\n",
       "      <td>7</td>\n",
       "      <td>0.826518</td>\n",
       "      <td>0.783768</td>\n",
       "      <td>0.042750</td>\n",
       "    </tr>\n",
       "    <tr>\n",
       "      <th>7</th>\n",
       "      <td>8</td>\n",
       "      <td>0.841758</td>\n",
       "      <td>0.770142</td>\n",
       "      <td>0.071616</td>\n",
       "    </tr>\n",
       "    <tr>\n",
       "      <th>8</th>\n",
       "      <td>9</td>\n",
       "      <td>0.863348</td>\n",
       "      <td>0.763626</td>\n",
       "      <td>0.099722</td>\n",
       "    </tr>\n",
       "    <tr>\n",
       "      <th>9</th>\n",
       "      <td>10</td>\n",
       "      <td>0.885192</td>\n",
       "      <td>0.766588</td>\n",
       "      <td>0.118604</td>\n",
       "    </tr>\n",
       "    <tr>\n",
       "      <th>10</th>\n",
       "      <td>11</td>\n",
       "      <td>0.909068</td>\n",
       "      <td>0.749408</td>\n",
       "      <td>0.159660</td>\n",
       "    </tr>\n",
       "    <tr>\n",
       "      <th>11</th>\n",
       "      <td>12</td>\n",
       "      <td>0.935230</td>\n",
       "      <td>0.736967</td>\n",
       "      <td>0.198263</td>\n",
       "    </tr>\n",
       "    <tr>\n",
       "      <th>12</th>\n",
       "      <td>13</td>\n",
       "      <td>0.956820</td>\n",
       "      <td>0.733412</td>\n",
       "      <td>0.223408</td>\n",
       "    </tr>\n",
       "    <tr>\n",
       "      <th>13</th>\n",
       "      <td>14</td>\n",
       "      <td>0.970790</td>\n",
       "      <td>0.734597</td>\n",
       "      <td>0.236193</td>\n",
       "    </tr>\n",
       "    <tr>\n",
       "      <th>14</th>\n",
       "      <td>15</td>\n",
       "      <td>0.981712</td>\n",
       "      <td>0.732227</td>\n",
       "      <td>0.249484</td>\n",
       "    </tr>\n",
       "    <tr>\n",
       "      <th>15</th>\n",
       "      <td>16</td>\n",
       "      <td>0.988316</td>\n",
       "      <td>0.727488</td>\n",
       "      <td>0.260828</td>\n",
       "    </tr>\n",
       "    <tr>\n",
       "      <th>16</th>\n",
       "      <td>17</td>\n",
       "      <td>0.993142</td>\n",
       "      <td>0.734597</td>\n",
       "      <td>0.258545</td>\n",
       "    </tr>\n",
       "    <tr>\n",
       "      <th>17</th>\n",
       "      <td>18</td>\n",
       "      <td>0.995428</td>\n",
       "      <td>0.729858</td>\n",
       "      <td>0.265570</td>\n",
       "    </tr>\n",
       "    <tr>\n",
       "      <th>18</th>\n",
       "      <td>19</td>\n",
       "      <td>0.996952</td>\n",
       "      <td>0.718602</td>\n",
       "      <td>0.278350</td>\n",
       "    </tr>\n",
       "    <tr>\n",
       "      <th>19</th>\n",
       "      <td>20</td>\n",
       "      <td>0.997714</td>\n",
       "      <td>0.731635</td>\n",
       "      <td>0.266079</td>\n",
       "    </tr>\n",
       "    <tr>\n",
       "      <th>20</th>\n",
       "      <td>21</td>\n",
       "      <td>0.998222</td>\n",
       "      <td>0.722156</td>\n",
       "      <td>0.276066</td>\n",
       "    </tr>\n",
       "    <tr>\n",
       "      <th>21</th>\n",
       "      <td>22</td>\n",
       "      <td>0.998476</td>\n",
       "      <td>0.729265</td>\n",
       "      <td>0.269211</td>\n",
       "    </tr>\n",
       "    <tr>\n",
       "      <th>22</th>\n",
       "      <td>23</td>\n",
       "      <td>0.998476</td>\n",
       "      <td>0.729265</td>\n",
       "      <td>0.269211</td>\n",
       "    </tr>\n",
       "    <tr>\n",
       "      <th>23</th>\n",
       "      <td>24</td>\n",
       "      <td>0.998476</td>\n",
       "      <td>0.729265</td>\n",
       "      <td>0.269211</td>\n",
       "    </tr>\n",
       "  </tbody>\n",
       "</table>\n",
       "</div>"
      ],
      "text/plain": [
       "    max_depth  train_accuracy  validate_accuracy  difference\n",
       "0           1        0.734315           0.734005    0.000311\n",
       "1           2        0.792228           0.793839    0.001611\n",
       "2           3        0.792228           0.793839    0.001611\n",
       "3           4        0.795784           0.796801    0.001017\n",
       "4           5        0.804166           0.797393    0.006772\n",
       "5           6        0.809500           0.796801    0.012699\n",
       "6           7        0.826518           0.783768    0.042750\n",
       "7           8        0.841758           0.770142    0.071616\n",
       "8           9        0.863348           0.763626    0.099722\n",
       "9          10        0.885192           0.766588    0.118604\n",
       "10         11        0.909068           0.749408    0.159660\n",
       "11         12        0.935230           0.736967    0.198263\n",
       "12         13        0.956820           0.733412    0.223408\n",
       "13         14        0.970790           0.734597    0.236193\n",
       "14         15        0.981712           0.732227    0.249484\n",
       "15         16        0.988316           0.727488    0.260828\n",
       "16         17        0.993142           0.734597    0.258545\n",
       "17         18        0.995428           0.729858    0.265570\n",
       "18         19        0.996952           0.718602    0.278350\n",
       "19         20        0.997714           0.731635    0.266079\n",
       "20         21        0.998222           0.722156    0.276066\n",
       "21         22        0.998476           0.729265    0.269211\n",
       "22         23        0.998476           0.729265    0.269211\n",
       "23         24        0.998476           0.729265    0.269211"
      ]
     },
     "execution_count": 46,
     "metadata": {},
     "output_type": "execute_result"
    }
   ],
   "source": [
    "metrics = []\n",
    "\n",
    "for i in range(1, 25):\n",
    "    # Make the model\n",
    "    tree = DecisionTreeClassifier(max_depth=i, random_state=123)\n",
    "\n",
    "    # Fit the model (on train and only train)\n",
    "    tree = tree.fit(X_train, y_train)\n",
    "\n",
    "    # Use the model\n",
    "    # We'll evaluate the model's performance on train, first\n",
    "    in_sample_accuracy = tree.score(X_train, y_train)\n",
    "    \n",
    "    out_of_sample_accuracy = tree.score(X_validate, y_validate)\n",
    "\n",
    "    output = {\n",
    "        \"max_depth\": i,\n",
    "        \"train_accuracy\": in_sample_accuracy,\n",
    "        \"validate_accuracy\": out_of_sample_accuracy\n",
    "    }\n",
    "    \n",
    "    metrics.append(output)\n",
    "    \n",
    "df = pd.DataFrame(metrics)\n",
    "df[\"difference\"] = abs(df.train_accuracy - df.validate_accuracy)\n",
    "df"
   ]
  },
  {
   "cell_type": "code",
   "execution_count": 48,
   "id": "9baced3d",
   "metadata": {},
   "outputs": [
    {
     "name": "stdout",
     "output_type": "stream",
     "text": [
      "              precision    recall  f1-score   support\n",
      "\n",
      "           0       0.81      0.80      0.81      1033\n",
      "           1       0.47      0.50      0.48       374\n",
      "\n",
      "    accuracy                           0.72      1407\n",
      "   macro avg       0.64      0.65      0.64      1407\n",
      "weighted avg       0.72      0.72      0.72      1407\n",
      "\n"
     ]
    }
   ],
   "source": [
    "#test sample\n",
    "print(classification_report(y_test, tree.predict(X_test)))"
   ]
  },
  {
   "cell_type": "markdown",
   "id": "abd8390c",
   "metadata": {},
   "source": [
    "Iris db"
   ]
  },
  {
   "cell_type": "code",
   "execution_count": 49,
   "id": "b206ccee",
   "metadata": {},
   "outputs": [],
   "source": [
    "iris = acquire.get_iris_data()"
   ]
  },
  {
   "cell_type": "code",
   "execution_count": 50,
   "id": "992c327b",
   "metadata": {},
   "outputs": [],
   "source": [
    "iris = prepare.prep_iris(iris)"
   ]
  },
  {
   "cell_type": "code",
   "execution_count": 64,
   "id": "90337ff3",
   "metadata": {},
   "outputs": [],
   "source": [
    "train, validate, test = prepare.split_db(iris, 'species')"
   ]
  },
  {
   "cell_type": "code",
   "execution_count": 65,
   "id": "844516ca",
   "metadata": {},
   "outputs": [
    {
     "data": {
      "text/html": [
       "<div>\n",
       "<style scoped>\n",
       "    .dataframe tbody tr th:only-of-type {\n",
       "        vertical-align: middle;\n",
       "    }\n",
       "\n",
       "    .dataframe tbody tr th {\n",
       "        vertical-align: top;\n",
       "    }\n",
       "\n",
       "    .dataframe thead th {\n",
       "        text-align: right;\n",
       "    }\n",
       "</style>\n",
       "<table border=\"1\" class=\"dataframe\">\n",
       "  <thead>\n",
       "    <tr style=\"text-align: right;\">\n",
       "      <th></th>\n",
       "      <th>sepal_length</th>\n",
       "      <th>sepal_width</th>\n",
       "      <th>petal_length</th>\n",
       "      <th>petal_width</th>\n",
       "      <th>species</th>\n",
       "      <th>versicolor</th>\n",
       "      <th>virginica</th>\n",
       "    </tr>\n",
       "  </thead>\n",
       "  <tbody>\n",
       "    <tr>\n",
       "      <th>104</th>\n",
       "      <td>6.5</td>\n",
       "      <td>3.0</td>\n",
       "      <td>5.8</td>\n",
       "      <td>2.2</td>\n",
       "      <td>virginica</td>\n",
       "      <td>0</td>\n",
       "      <td>1</td>\n",
       "    </tr>\n",
       "  </tbody>\n",
       "</table>\n",
       "</div>"
      ],
      "text/plain": [
       "     sepal_length  sepal_width  petal_length  petal_width    species  \\\n",
       "104           6.5          3.0           5.8          2.2  virginica   \n",
       "\n",
       "     versicolor  virginica  \n",
       "104           0          1  "
      ]
     },
     "execution_count": 65,
     "metadata": {},
     "output_type": "execute_result"
    }
   ],
   "source": [
    "validate.head(1)"
   ]
  },
  {
   "cell_type": "code",
   "execution_count": 60,
   "id": "bfc6668f",
   "metadata": {},
   "outputs": [
    {
     "data": {
      "text/plain": [
       "Index(['sepal_length', 'sepal_width', 'petal_length', 'petal_width', 'species',\n",
       "       'versicolor', 'virginica'],\n",
       "      dtype='object')"
      ]
     },
     "execution_count": 60,
     "metadata": {},
     "output_type": "execute_result"
    }
   ],
   "source": [
    "train.columns"
   ]
  },
  {
   "cell_type": "code",
   "execution_count": 66,
   "id": "b9f522c1",
   "metadata": {},
   "outputs": [],
   "source": [
    "y_train = train.species\n",
    "y_validate = validate['species']\n",
    "y_test = test.species\n",
    "\n",
    "X_train = train.drop(columns = ['species', 'versicolor', 'virginica'])\n",
    "X_validate = validate.drop(columns = ['species', 'versicolor', 'virginica'])\n",
    "X_test = test.drop(columns = ['species', 'versicolor', 'virginica'])"
   ]
  },
  {
   "cell_type": "code",
   "execution_count": 67,
   "id": "124c5367",
   "metadata": {},
   "outputs": [],
   "source": [
    "tree = DecisionTreeClassifier(max_depth=2)"
   ]
  },
  {
   "cell_type": "code",
   "execution_count": 68,
   "id": "f0851e48",
   "metadata": {},
   "outputs": [
    {
     "data": {
      "text/plain": [
       "DecisionTreeClassifier(max_depth=2)"
      ]
     },
     "execution_count": 68,
     "metadata": {},
     "output_type": "execute_result"
    }
   ],
   "source": [
    "tree.fit(X_train, y_train)"
   ]
  },
  {
   "cell_type": "code",
   "execution_count": 69,
   "id": "7de10e8b",
   "metadata": {},
   "outputs": [
    {
     "data": {
      "text/plain": [
       "0.9523809523809523"
      ]
     },
     "execution_count": 69,
     "metadata": {},
     "output_type": "execute_result"
    }
   ],
   "source": [
    "tree.score(X_train, y_train)"
   ]
  },
  {
   "cell_type": "code",
   "execution_count": 70,
   "id": "5f560c13",
   "metadata": {},
   "outputs": [],
   "source": [
    "predict = tree.predict(X_train)"
   ]
  },
  {
   "cell_type": "code",
   "execution_count": 71,
   "id": "e3e6cdee",
   "metadata": {},
   "outputs": [
    {
     "name": "stdout",
     "output_type": "stream",
     "text": [
      "              precision    recall  f1-score   support\n",
      "\n",
      "      setosa       1.00      1.00      1.00        28\n",
      "  versicolor       0.93      0.93      0.93        28\n",
      "   virginica       0.93      0.93      0.93        28\n",
      "\n",
      "    accuracy                           0.95        84\n",
      "   macro avg       0.95      0.95      0.95        84\n",
      "weighted avg       0.95      0.95      0.95        84\n",
      "\n"
     ]
    }
   ],
   "source": [
    "print(classification_report(y_train, predict))"
   ]
  }
 ],
 "metadata": {
  "kernelspec": {
   "display_name": "Python 3 (ipykernel)",
   "language": "python",
   "name": "python3"
  },
  "language_info": {
   "codemirror_mode": {
    "name": "ipython",
    "version": 3
   },
   "file_extension": ".py",
   "mimetype": "text/x-python",
   "name": "python",
   "nbconvert_exporter": "python",
   "pygments_lexer": "ipython3",
   "version": "3.9.12"
  }
 },
 "nbformat": 4,
 "nbformat_minor": 5
}
